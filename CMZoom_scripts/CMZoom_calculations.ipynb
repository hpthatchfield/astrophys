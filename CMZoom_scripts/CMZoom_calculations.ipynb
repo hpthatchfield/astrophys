{
 "cells": [
  {
   "cell_type": "code",
   "execution_count": 1,
   "metadata": {},
   "outputs": [
    {
     "name": "stdout",
     "output_type": "stream",
     "text": [
      "1.16.5\n"
     ]
    }
   ],
   "source": [
    "import CMZoom_utility as cmz\n",
    "from astropy.io import fits\n",
    "import numpy as np\n",
    "import matplotlib.pyplot as plt\n",
    "from astropy import units as u\n",
    "import astrodendro\n",
    "import os\n",
    "from astropy import wcs\n",
    "from astrodendro import Dendrogram, pp_catalog\n",
    "from astrodendro.analysis import PPStatistic\n",
    "from astropy.table import Table, hstack, Column\n",
    "from astropy.utils.console import ProgressBar\n",
    "import reproject\n",
    "import pyregion\n",
    "print(np.__version__)\n",
    "import aplpy"
   ]
  },
  {
   "cell_type": "code",
   "execution_count": 5,
   "metadata": {},
   "outputs": [],
   "source": [
    "##################################################################################################\n",
    "### setup \n",
    "##################################################################################################\n",
    "### picks for the accurate catalog\n",
    "# rms = 3.0e6\n",
    "# dend_min_v = 3\n",
    "# dend_min_d = 1\n",
    "# dend_min_pix = 17\n",
    "# prune_min_peak = 6\n",
    "# prune_min_mean = 2\n",
    "# path = '/Users/hph/cmzoom_catalog/catalog_acc/'\n",
    "# catalog = Table.read(path+'catalog_acc.fits')\n",
    "#######################################\n",
    "### picks for the complete catalog\n",
    "rms = 3.0e6\n",
    "dend_min_v = 3\n",
    "dend_min_d = 1\n",
    "dend_min_pix = 17\n",
    "prune_min_peak = 4\n",
    "prune_min_mean = 2\n",
    "path = '/Users/hph/cmzoom_catalog/catalog_complete/'\n",
    "catalog = Table.read(path+'catalog_complete.fits')\n",
    "#######################################\n",
    "\n",
    "date = '_02-02-20'\n",
    "targetname = '_rms3e6_k14_dv'+str(dend_min_v)+'_dd'+str(dend_min_d)+'_dp'+str(dend_min_pix)+'_pp'+str(prune_min_peak)+'_pm'+str(prune_min_mean)+'_gal'+date\n",
    "\n",
    "sma_path = path\n",
    "herschel_path = path\n",
    "catalog_path = path\n",
    "figure_path = path"
   ]
  },
  {
   "cell_type": "code",
   "execution_count": 6,
   "metadata": {},
   "outputs": [
    {
     "name": "stdout",
     "output_type": "stream",
     "text": [
      "mass: \n",
      "min: 4.1e+00, max: 7.6e+04, mean: 3.2e+02, median: 3.7e+01\n",
      "\n",
      "r_eff_pc: \n",
      "min: 4.6e-02, max: 3.6e-01, mean: 1.0e-01, median: 9.5e-02\n",
      "\n",
      "sma_column: \n",
      "min: 2.1e+22, max: 9.0e+25, mean: 4.7e+23, median: 8.2e+22\n",
      "\n",
      "n: \n",
      "min: 2.0e+04, max: 1.7e+07, mean: 5.4e+05, median: 1.4e+05\n",
      "\n",
      "tff: \n",
      "min: 7.4e+03, max: 2.2e+05, mean: 8.3e+04, median: 8.1e+04\n",
      "\n"
     ]
    }
   ],
   "source": [
    "for key in ['mass','r_eff_pc','sma_column','n','tff']:\n",
    "    print(key+': ')\n",
    "    print('min: %1.1e, max: %1.1e, mean: %1.1e, median: %1.1e' %\\\n",
    "          (np.min(catalog[key]),np.max(catalog[key]),np.mean(catalog[key]),np.median(catalog[key])))\n",
    "    print()\n",
    "    \n",
    "    \n",
    "    \n",
    "    "
   ]
  },
  {
   "cell_type": "code",
   "execution_count": 4,
   "metadata": {},
   "outputs": [
    {
     "name": "stdout",
     "output_type": "stream",
     "text": [
      "285\n"
     ]
    }
   ],
   "source": [
    "print(len(catalog['mass']))"
   ]
  },
  {
   "cell_type": "code",
   "execution_count": 39,
   "metadata": {},
   "outputs": [
    {
     "name": "stdout",
     "output_type": "stream",
     "text": [
      "5.624731822280007e-10\n",
      "1.8464905343293935e-06\n"
     ]
    }
   ],
   "source": [
    "################################\n",
    "### convert Jy/Sr to Jy/Beam\n",
    "################################\n",
    "### typical beam shape\n",
    "BMAJ    =   9.207714266247E-04                                                  \n",
    "BMIN    =   6.383301814397E-04 \n",
    "deg2_per_beam = np.pi*BMAJ*BMIN\n",
    "sr_per_deg2 = (np.pi/180)**2\n",
    "print(1*deg2_per_beam*sr_per_deg2)\n",
    "\n",
    "print(deg2_per_beam)\n"
   ]
  },
  {
   "cell_type": "code",
   "execution_count": null,
   "metadata": {},
   "outputs": [],
   "source": []
  },
  {
   "cell_type": "code",
   "execution_count": 32,
   "metadata": {},
   "outputs": [
    {
     "name": "stdout",
     "output_type": "stream",
     "text": [
      "2.0286931765834274e-10 8.631109667638388 6.659806842313572e-07\n"
     ]
    }
   ],
   "source": [
    "import radio_beam\n",
    "cmzbeam = radio_beam.Beam(major=BMAJ*u.deg,minor=BMIN*u.deg)\n",
    "print(cmzbeam.to_value(u.steradian),cmzbeam.to_value(u.arcsec**2),cmzbeam.to_value(u.deg**2))\n",
    "val_jysr = 0.5\n",
    "val_jybm = "
   ]
  },
  {
   "cell_type": "code",
   "execution_count": null,
   "metadata": {},
   "outputs": [],
   "source": []
  },
  {
   "cell_type": "code",
   "execution_count": null,
   "metadata": {},
   "outputs": [],
   "source": []
  },
  {
   "cell_type": "code",
   "execution_count": null,
   "metadata": {},
   "outputs": [],
   "source": []
  },
  {
   "cell_type": "code",
   "execution_count": null,
   "metadata": {},
   "outputs": [],
   "source": []
  },
  {
   "cell_type": "code",
   "execution_count": null,
   "metadata": {},
   "outputs": [],
   "source": []
  },
  {
   "cell_type": "code",
   "execution_count": null,
   "metadata": {},
   "outputs": [],
   "source": []
  },
  {
   "cell_type": "code",
   "execution_count": null,
   "metadata": {},
   "outputs": [],
   "source": []
  },
  {
   "cell_type": "code",
   "execution_count": null,
   "metadata": {},
   "outputs": [],
   "source": []
  },
  {
   "cell_type": "code",
   "execution_count": null,
   "metadata": {},
   "outputs": [],
   "source": []
  },
  {
   "cell_type": "code",
   "execution_count": null,
   "metadata": {},
   "outputs": [],
   "source": []
  }
 ],
 "metadata": {
  "kernelspec": {
   "display_name": "Python 3",
   "language": "python",
   "name": "python3"
  },
  "language_info": {
   "codemirror_mode": {
    "name": "ipython",
    "version": 3
   },
   "file_extension": ".py",
   "mimetype": "text/x-python",
   "name": "python",
   "nbconvert_exporter": "python",
   "pygments_lexer": "ipython3",
   "version": "3.6.10"
  }
 },
 "nbformat": 4,
 "nbformat_minor": 2
}
