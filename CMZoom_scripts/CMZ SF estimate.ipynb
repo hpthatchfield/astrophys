{
 "cells": [
  {
   "cell_type": "code",
   "execution_count": 1,
   "metadata": {},
   "outputs": [
    {
     "name": "stdout",
     "output_type": "stream",
     "text": [
      "1.16.5\n"
     ]
    },
    {
     "name": "stderr",
     "output_type": "stream",
     "text": [
      "WARNING: AstropyDeprecationWarning: astropy.extern.six will be removed in 4.0, use the six module directly if it is still needed [astropy.extern.six]\n"
     ]
    }
   ],
   "source": [
    "#import CMZoom_utility as cmz\n",
    "from astropy.io import fits\n",
    "import numpy as np\n",
    "import matplotlib.pyplot as plt\n",
    "from astropy import units as u\n",
    "import astrodendro\n",
    "import os\n",
    "from astropy import wcs\n",
    "from astrodendro import Dendrogram, pp_catalog\n",
    "from astrodendro.analysis import PPStatistic\n",
    "from astropy.table import Table, hstack, Column\n",
    "from astropy.utils.console import ProgressBar\n",
    "import reproject\n",
    "import pyregion\n",
    "from matplotlib import rc\n",
    "import CMZoom_utility as cmz\n",
    "import imf\n",
    "\n",
    "\n",
    "#rc('font', **{'family':'serif','serif':['Palatino']})\n",
    "#rc('text', usetex=True)\n",
    "print(np.__version__)\n",
    "import aplpy"
   ]
  },
  {
   "cell_type": "code",
   "execution_count": 2,
   "metadata": {},
   "outputs": [
    {
     "name": "stdout",
     "output_type": "stream",
     "text": [
      "[3.68613498e+00 7.49746344e+00 1.52495659e+01 3.10170580e+01\n",
      " 6.30875593e+01 1.28317783e+02 2.60993668e+02 5.30851556e+02\n",
      " 1.07973261e+03 2.19613655e+03 4.46686126e+03 9.08543209e+03\n",
      " 1.84794359e+04 3.75864953e+04 7.64495539e+04]\n"
     ]
    }
   ],
   "source": [
    "catalog = Table.read('/Users/hph/cmzoom_catalog/catalog_acc/catalog_acc.fits')\n",
    "massmin = min(catalog['mass'])\n",
    "massmax = max(catalog['mass'])\n",
    "massbins = np.logspace(np.log10(massmin), np.log10(massmax),15)\n",
    "print(massbins)\n",
    "mass_edges = np.array([  0.16267013,   4.49511251,   8.82757115,  13.16001353,  17.49245591,\n",
    "  21.82491455,  26.15735693,  30.48979931,  34.82225795,  39.15470033,\n",
    "  43.48714271,  47.81960135,  52.15204373,  56.48448611,  60.81694475,\n",
    "  65.14938713,  69.48182951,  73.81428815,  78.14673053,  82.47917291,\n",
    "  86.81163155,  91.14407393,  95.47651631,  99.80897495, 104.14141733,\n",
    " 108.47385971, 112.80631835, 117.13876073, 121.47120311, 125.80366175,\n",
    " 130.13610413,200,300,400,500,600,700,800,900,1000,1e4])\n",
    "found_avg = np.flip(np.array([.95,.95,.95,.95,.95,.95,.95,.95,.95,.95,   .95,    .95,    .95,   .95,    .95,    .95,    .95,    .95,    0.98,  0.98,  0.94,  0.94,\n",
    "                      0.9,   0.9,   0.82,  0.68,  0.58,  0.4,   0.34,  0.28,  0.1,   0.08,  0.,    0.,    0.,\n",
    "                      0.,    0.,    0.,    0.,    0.,    0.,  ]))"
   ]
  },
  {
   "cell_type": "code",
   "execution_count": 3,
   "metadata": {},
   "outputs": [
    {
     "name": "stdout",
     "output_type": "stream",
     "text": [
      "0\n",
      "1\n",
      "2\n",
      "3\n",
      "4\n",
      "5\n",
      "6\n",
      "7\n",
      "8\n",
      "9\n",
      "10\n",
      "11\n",
      "12\n",
      "13\n",
      "14\n",
      "15\n",
      "16\n",
      "17\n",
      "18\n",
      "19\n",
      "20\n",
      "21\n",
      "22\n",
      "23\n",
      "24\n",
      "25\n",
      "26\n",
      "27\n",
      "28\n",
      "29\n",
      "30\n",
      "31\n",
      "32\n",
      "33\n",
      "34\n",
      "35\n",
      "36\n",
      "37\n",
      "38\n",
      "39\n",
      "40\n"
     ]
    }
   ],
   "source": [
    "#### Make IMF figure\n",
    "sfe=0.75\n",
    "lim_vals = mass_edges#massbins\n",
    "percent_has_massive_avg = np.zeros(len(lim_vals))\n",
    "num_massive_avg = np.zeros(len(lim_vals))\n",
    "for j in range(len(lim_vals)):\n",
    "    print(j)\n",
    "    has_massive = np.zeros(1000)\n",
    "    num_massive = np.zeros(1000)\n",
    "    for i in range(1000):\n",
    "        num_massive[i]=len(np.where(imf.make_cluster(sfe*lim_vals[j],silent=True)>8)[0])\n",
    "        if num_massive[i]>0: has_massive[i]=1\n",
    "    percent_has_massive_avg[j]=has_massive.sum()/1000\n",
    "    num_massive_avg[j] = num_massive.sum()/1000"
   ]
  },
  {
   "cell_type": "code",
   "execution_count": 122,
   "metadata": {},
   "outputs": [
    {
     "name": "stdout",
     "output_type": "stream",
     "text": [
      "The percent detected array: [0.   0.   0.   0.   0.   0.   0.   0.   0.   0.08 0.1  0.28 0.34 0.4\n",
      " 0.58 0.68 0.82 0.9  0.9  0.94 0.94 0.95 0.95 0.95 0.95 0.95 0.95 0.95\n",
      " 0.95 0.95 0.95 0.95 0.95 0.95 0.95 0.95 0.95 0.95 0.95 0.95 0.95] which has length: 41\n",
      "The percent detected array: [0.   0.   0.   0.   0.   0.   0.   0.   0.   0.08 0.1  0.28 0.34 0.4\n",
      " 0.58 0.68 0.82 0.9  0.9  0.94 0.94 0.95 0.95 0.95 0.95 0.95 0.95 0.95\n",
      " 0.95 0.95 0.95 0.95 0.95 0.95 0.95 0.95 0.95 0.95 0.95 0.95 0.95] which has length: 41\n"
     ]
    }
   ],
   "source": [
    "### The percentage of leaves missed in each mass bin:\n",
    "### (specially tuned to above massbins, by eye from simobs percent plot)\n",
    "#percent_array=np.array([0.1, 0.1, 0.2, 0.5, 0.8, .95, .95, .95, .95, .95, .95, .95, .95, .95, .95])\n",
    "percent_array=found_avg\n",
    "percent_array[percent_array>0.95]=0.95\n",
    "print(\"The percent detected array: \"+str(percent_array), \"which has length: \"+str(len(percent_array)))\n",
    "missed = np.ones_like(percent_array)-percent_array\n",
    "print(\"The percent detected array: \"+str(percent_array), \"which has length: \"+str(len(percent_array)))"
   ]
  },
  {
   "cell_type": "code",
   "execution_count": 123,
   "metadata": {},
   "outputs": [
    {
     "name": "stdout",
     "output_type": "stream",
     "text": [
      "[ 1  7 13 14 14 14 10  8 10 11  6 11  5  3  7  4  4  4  3  4  3  4  3  6\n",
      "  4  0  3  4  7  1 31 16  7  4  2  3  2  4  0 26]\n",
      "41\n",
      "130.13610413\n",
      "31\n",
      "0.050000000000000044\n",
      "1.5500000000000014\n"
     ]
    }
   ],
   "source": [
    "masshist = np.histogram(catalog['mass'],bins=mass_edges)#massbins)\n",
    "#print(massbins)\n",
    "print(masshist[0])\n",
    "print(len(mass_edges))\n",
    "ntest = 30\n",
    "print(mass_edges[ntest])\n",
    "print(masshist[0][ntest])\n",
    "print(missed[ntest])\n",
    "print(missed[ntest]*masshist[0][ntest])\n"
   ]
  },
  {
   "cell_type": "code",
   "execution_count": 124,
   "metadata": {},
   "outputs": [
    {
     "name": "stdout",
     "output_type": "stream",
     "text": [
      "1.82e+05\n"
     ]
    }
   ],
   "source": [
    "print(\"%2.2e\"%np.sum(catalog['mass'][catalog['mask_num']==9]))"
   ]
  },
  {
   "cell_type": "code",
   "execution_count": 125,
   "metadata": {},
   "outputs": [
    {
     "name": "stdout",
     "output_type": "stream",
     "text": [
      "6.870000000000006\n"
     ]
    },
    {
     "data": {
      "image/png": "[encoded data removed]",
      "text/plain": [
       "<Figure size 432x432 with 2 Axes>"
      ]
     },
     "metadata": {},
     "output_type": "display_data"
    }
   ],
   "source": [
    "#######################################################################\n",
    "### IMF missed source detection upper limit:\n",
    "#######################################################################\n",
    "plt.close()\n",
    "catalog = Table.read('/Users/hph/cmzoom_catalog/catalog_acc/catalog_acc.fits')\n",
    "#percent_array=np.array([0.1, 0.1, 0.2, 0.5, 0.8, .95, .95, .95, .95, .95, .95, .95, .95, .95, .95])\n",
    "#percent_array=np.array([0.1, 0.1, 0.2, 0.5, 0.8, .95, .99, .99, .99, .99, .99, .99, .99, .99, .99])\n",
    "percent_array=found_avg\n",
    "missed = np.ones_like(percent_array)-percent_array\n",
    "num_massive_avg1 = np.rint(num_massive_avg)\n",
    "missed_massive = missed*num_massive_avg1\n",
    "print(sum(missed_massive))\n",
    "\n",
    "num_missed = np.rint(missed[1:]*masshist[0])\n",
    "missed_massive_array = num_missed*num_massive_avg1[1:]\n",
    "total_massive_missed= sum(missed_massive)\n",
    "\n",
    "mass_cens = mass_edges + (mass_edges[1]-mass_edges[0])\n",
    "\n",
    "fig, ax = plt.subplots(ncols=1,nrows=1,figsize=(6,6),facecolor='white')\n",
    "axp = ax.twinx()\n",
    "ax.plot(mass_cens[:-1],num_missed,color='green',label='Number leaves missed',marker='s',alpha=0.5)\n",
    "#ax.plot(massbins,num,color='k',label='number leaves missed')\n",
    "axp.plot(mass_cens,missed,color='navy',label='percent missed',marker='s',alpha=0.5)\n",
    "ax.plot(mass_cens[:-1],missed_massive_array,color='tomato',label='number massive stars missed',\n",
    "        marker='s',alpha=0.5)\n",
    "\n",
    "ax.set_ylabel('Number Missed')\n",
    "ax.set_xlabel('Mass [Solar masses]')\n",
    "ax.legend(loc='upper center')\n",
    "axp.legend(loc=(0.225,0.82))\n",
    "axp.set_ylabel('Percent Leaves Missed')\n",
    "ax.set_xscale(\"log\")\n",
    "ax.set_yscale('log')\n",
    "#ax.set_ylim(0.1,100)\n",
    "#axp.set_ylim(0.,1)\n",
    "\n",
    "plt.show()"
   ]
  },
  {
   "cell_type": "code",
   "execution_count": 126,
   "metadata": {},
   "outputs": [
    {
     "name": "stdout",
     "output_type": "stream",
     "text": [
      "4.33244238\n",
      "78.14673053\n"
     ]
    }
   ],
   "source": [
    "print(mass_edges[1]-mass_edges[0])\n",
    "print(mass_edges[18])"
   ]
  },
  {
   "cell_type": "code",
   "execution_count": 127,
   "metadata": {},
   "outputs": [
    {
     "name": "stdout",
     "output_type": "stream",
     "text": [
      "number leaves missed:\n",
      "[ 1.  7. 13. 14. 14. 14. 10.  8.  9. 10.  4.  7.  3.  1.  2.  1.  0.  0.\n",
      "  0.  0.  0.  0.  0.  0.  0.  0.  0.  0.  0.  0.  2.  1.  0.  0.  0.  0.\n",
      "  0.  0.  0.  1.]\n",
      "number of massive stars for each mass bin:\n",
      "[ 0.  0.  0.  0.  0.  0.  0.  0.  0.  0.  0.  0.  0.  0.  0.  0.  0.  1.\n",
      "  1.  1.  1.  1.  1.  1.  1.  1.  1.  1.  1.  1.  1.  2.  2.  3.  4.  5.\n",
      "  5.  6.  7.  8. 79.]\n",
      "number of missed massive stars in each mass bin:\n",
      "[0.   0.   0.   0.   0.   0.   0.   0.   0.   0.   0.   0.   0.   0.\n",
      " 0.   0.   0.   0.1  0.1  0.06 0.06 0.05 0.05 0.05 0.05 0.05 0.05 0.05\n",
      " 0.05 0.05 0.05 0.1  0.1  0.15 0.2  0.25 0.25 0.3  0.35 0.4  3.95]\n",
      "total number missed massive stars\n",
      "6.870000000000006\n",
      "percent \n",
      "0.05096817271310933\n"
     ]
    }
   ],
   "source": [
    "\n",
    "#num_massive_avg1 = num_massive_avg\n",
    "#num_massive_avg1[num_massive_avg<1]=0\n",
    "#num_missed = np.rint(missed[:-1]*masshist[0])\n",
    "#missed_massive_array = num_missed*num_massive_avg1[:-1]\n",
    "\n",
    "print(\"number leaves missed:\")\n",
    "print(num_missed)\n",
    "print(\"number of massive stars for each mass bin:\")\n",
    "print(num_massive_avg1)\n",
    "print(\"number of missed massive stars in each mass bin:\")\n",
    "print(missed_massive)\n",
    "print(\"total number missed massive stars\" )\n",
    "print(sum(missed_massive))\n",
    "print(\"percent \")\n",
    "print(total_massive_missed/sum(num_massive_avg))"
   ]
  },
  {
   "cell_type": "code",
   "execution_count": 4,
   "metadata": {},
   "outputs": [
    {
     "name": "stdout",
     "output_type": "stream",
     "text": [
      "SFR over freefall time for each leaf\n",
      "Stars per year: 2.55\n",
      "SFR: 1.07 msun per year\n"
     ]
    }
   ],
   "source": [
    "##########################################################################\n",
    "### total sf in CMZ for all leaves\n",
    "### assuming all leaves collapse on a freefall time\n",
    "### and form stars with efficiency \"sfe\"\n",
    "##########################################################################\n",
    "sfe = 0.1\n",
    "stars_per_year = 0\n",
    "starmass_per_year = 0\n",
    "freefreefrac = 0.5\n",
    "for i in range(len(catalog['mass'])):\n",
    "    if catalog['mask_num'][i]==9:\n",
    "        cluster_for_leafi = imf.make_cluster(catalog['mass'][i]*sfe*freefreefrac,silent=True,massfunc='kroupa')\n",
    "    else:\n",
    "        cluster_for_leafi = imf.make_cluster(catalog['mass'][i]*sfe,silent=True,massfunc='kroupa')\n",
    "    num_stars_for_leafi = len(cluster_for_leafi)\n",
    "    starmass_for_leafi = sum(cluster_for_leafi)\n",
    "    stars_per_yeari = num_stars_for_leafi/catalog['tff'][i]\n",
    "    starmass_per_yeari = starmass_for_leafi/catalog['tff'][i]\n",
    "    stars_per_year += stars_per_yeari\n",
    "    starmass_per_year += starmass_per_yeari\n",
    "print(\"SFR over freefall time for each leaf\")\n",
    "print(\"Stars per year: %2.2f\"%stars_per_year)\n",
    "print(\"SFR: %2.2f msun per year\"%starmass_per_year)\n"
   ]
  },
  {
   "cell_type": "code",
   "execution_count": 29,
   "metadata": {},
   "outputs": [
    {
     "name": "stdout",
     "output_type": "stream",
     "text": [
      "SFR over freefall time of each non-sgrb2 leaves\n",
      "Stars per year: 0.15\n",
      "Mass of stars per year: 0.06\n"
     ]
    }
   ],
   "source": [
    "##########################################################################\n",
    "### total sf in CMZ for selection of leaves (currently exluding SgrB2)\n",
    "### assuming all leaves collapse on a freefall time\n",
    "### and form stars with efficiency \"sfe\"\n",
    "### EXCLUDING SGR B2\n",
    "##########################################################################\n",
    "sfe = 0.1\n",
    "cc = (catalog['mask_num']!=9)# & (catalog['mask_num']!=27)\n",
    "stars_per_year = 0\n",
    "starmass_per_year = 0\n",
    "for i in range(len(catalog['mass'][cc])):\n",
    "    cluster_for_leafi = imf.make_cluster(catalog['mass'][cc][i]*sfe,silent=True,massfunc='kroupa')\n",
    "    num_stars_for_leafi = len(cluster_for_leafi)\n",
    "    starmass_for_leafi = sum(cluster_for_leafi)\n",
    "    stars_per_yeari = num_stars_for_leafi/catalog['tff'][cc][i]\n",
    "    starmass_per_yeari = starmass_for_leafi/catalog['tff'][cc][i]\n",
    "    stars_per_year += stars_per_yeari\n",
    "    starmass_per_year += starmass_per_yeari\n",
    "print(\"SFR over freefall time of each non-sgrb2 leaves\")\n",
    "print(\"Stars per year: %2.2f\"%stars_per_year)\n",
    "print(\"Mass of stars per year: %2.2f\"%starmass_per_year)"
   ]
  },
  {
   "cell_type": "code",
   "execution_count": 35,
   "metadata": {},
   "outputs": [
    {
     "name": "stdout",
     "output_type": "stream",
     "text": [
      "SFR over freefall time of all leaves\n",
      "Stars per year: 0.17\n",
      "Mass of stars per year: 0.06\n"
     ]
    },
    {
     "name": "stderr",
     "output_type": "stream",
     "text": [
      "/Users/hph/anaconda/envs/cmzoom3/lib/python3.6/site-packages/ipykernel_launcher.py:15: DeprecationWarning: elementwise comparison failed; this will raise an error in the future.\n",
      "  from ipykernel import kernelapp as app\n"
     ]
    }
   ],
   "source": [
    "##########################################################################\n",
    "### total sf in CMZ for selection of leaves (currently exluding SgrB2)\n",
    "### assuming all leaves collapse on a freefall time\n",
    "### and form stars with efficiency \"sfe\"\n",
    "### Special Treatment for SGR B2\n",
    "##########################################################################\n",
    "cfrac = 0.2\n",
    "sfe = 0.1\n",
    "imftype='kroupa'\n",
    "stars_per_year = 0\n",
    "starmass_per_year = 0\n",
    "for i in range(len(catalog['mass'])):\n",
    "    if catalog['leaf_ID'][i]=='G0.699-0.028a':\n",
    "        sgrb2_N_mass = 27897.0\n",
    "        cluster_for_leafi== imf.make_cluster(cfrac*sgrb2_N_mass*sfe,silent=True,massfunc=imftype)\n",
    "    elif catalog['leaf_ID'][i]=='G0.699-0.028b':\n",
    "        sgrb2_M_mass = 9572.0\n",
    "        cluster_for_leafi = imf.make_cluster(cfrac*sgrb2_M_mass*sfe,silent=True,massfunc=imftype)\n",
    "    elif catalog['mask_num'][i]==9:\n",
    "        cluster_for_leafi = imf.make_cluster(cfrac*catalog['mass_bgsub'][i]*sfe,silent=True,massfunc=imftype)\n",
    "    else:\n",
    "        cluster_for_leafi = imf.make_cluster(cfrac*catalog['mass'][i]*sfe,silent=True,massfunc=imftype)\n",
    "    num_stars_for_leafi = len(cluster_for_leafi)\n",
    "    starmass_for_leafi = sum(cluster_for_leafi)\n",
    "    stars_per_yeari = num_stars_for_leafi/catalog['tff'][i]\n",
    "    starmass_per_yeari = starmass_for_leafi/catalog['tff'][i]\n",
    "    stars_per_year += stars_per_yeari\n",
    "    starmass_per_year += starmass_per_yeari\n",
    "print(\"SFR over freefall time of all leaves\")\n",
    "print(\"Stars per year: %2.2f\"%stars_per_year)\n",
    "print(\"Mass of stars per year: %2.2f\"%starmass_per_year)"
   ]
  },
  {
   "cell_type": "markdown",
   "metadata": {},
   "source": [
    "catalog.keys()"
   ]
  },
  {
   "cell_type": "code",
   "execution_count": 14,
   "metadata": {},
   "outputs": [
    {
     "name": "stdout",
     "output_type": "stream",
     "text": [
      "SFR over mean freefall time of leaves\n",
      "Stars per year: 0.67\n",
      "SFR: 0.29 msun per year\n"
     ]
    }
   ],
   "source": [
    "##########################################################################\n",
    "### total sf in CMZ for all leaves over 200,000 yr timescale\n",
    "### assuming all leaves collapse over mean freefall time\n",
    "### and form stars with efficiency \"sfe\"\n",
    "##########################################################################\n",
    "sfe = 0.1\n",
    "stars_per_year = 0\n",
    "starmass_per_year = 0\n",
    "for i in range(len(catalog['mass'])):\n",
    "    cluster_for_leafi = imf.make_cluster(catalog['mass'][i]*sfe,silent=True,massfunc='kroupa')\n",
    "    num_stars_for_leafi = len(cluster_for_leafi)\n",
    "    starmass_for_leafi = sum(cluster_for_leafi)\n",
    "    stars_per_yeari = num_stars_for_leafi/catalog['tff'].mean()\n",
    "    starmass_per_yeari = starmass_for_leafi/catalog['tff'].mean()\n",
    "    stars_per_year += stars_per_yeari\n",
    "    starmass_per_year += starmass_per_yeari\n",
    "print(\"SFR over mean freefall time of leaves\")\n",
    "print(\"Stars per year: %2.2f\"%stars_per_year)\n",
    "print(\"SFR: %2.2f msun per year\"%starmass_per_year)"
   ]
  },
  {
   "cell_type": "code",
   "execution_count": 31,
   "metadata": {},
   "outputs": [
    {
     "name": "stdout",
     "output_type": "stream",
     "text": [
      "SFR over mean freefall time of all leaves\n",
      "Stars per year: 0.74\n",
      "SFR: 0.30 msun per year\n"
     ]
    }
   ],
   "source": [
    "##########################################################################\n",
    "### total sf in CMZ for all leaves over 200,000 yr timescale\n",
    "### assuming all leaves collapse over mean freefall time\n",
    "### and form stars with efficiency \"sfe\"\n",
    "### EXCLUDING SGR B2\n",
    "##########################################################################\n",
    "sfe = 0.75\n",
    "cc = (catalog['mask_num']!=9)# & (catalog['mask_num']!=27)\n",
    "stars_per_year = 0\n",
    "starmass_per_year = 0\n",
    "for i in range(len(catalog['mass'][cc])):\n",
    "    cluster_for_leafi = imf.make_cluster(catalog['mass'][cc][i]*sfe,silent=True,massfunc='kroupa')\n",
    "    num_stars_for_leafi = len(cluster_for_leafi)\n",
    "    starmass_for_leafi = sum(cluster_for_leafi)\n",
    "    stars_per_yeari = num_stars_for_leafi/catalog['tff'][cc].mean()\n",
    "    starmass_per_yeari = starmass_for_leafi/catalog['tff'][cc].mean()\n",
    "    stars_per_year += stars_per_yeari\n",
    "    starmass_per_year += starmass_per_yeari\n",
    "print(\"SFR over mean freefall time of all leaves\")\n",
    "print(\"Stars per year: %2.2f\"%stars_per_year)\n",
    "print(\"SFR: %2.2f msun per year\"%starmass_per_year)"
   ]
  },
  {
   "cell_type": "code",
   "execution_count": 25,
   "metadata": {},
   "outputs": [
    {
     "name": "stdout",
     "output_type": "stream",
     "text": [
      "SFR over mean freefall time of all leaves\n",
      "Stars per year: 1.50\n",
      "SFR: 0.64 msun per year\n"
     ]
    },
    {
     "name": "stderr",
     "output_type": "stream",
     "text": [
      "/Users/hph/anaconda/envs/cmzoom3/lib/python3.6/site-packages/ipykernel_launcher.py:13: DeprecationWarning: elementwise comparison failed; this will raise an error in the future.\n",
      "  del sys.path[0]\n"
     ]
    }
   ],
   "source": [
    "##########################################################################\n",
    "### total sf in CMZ for all leaves over 200,000 yr timescale\n",
    "### assuming all leaves collapse over mean freefall time\n",
    "### and form stars with efficiency \"sfe\"\n",
    "### with special treatment for SGR B2\n",
    "##########################################################################\n",
    "sfe = 0.75\n",
    "stars_per_year = 0\n",
    "starmass_per_year = 0\n",
    "for i in range(len(catalog['mass'])):\n",
    "    if catalog['leaf_ID'][i]=='G0.699-0.028a':\n",
    "            sgrb2_N_mass = 27897.0\n",
    "            cluster_for_leafi== imf.make_cluster(sgrb2_N_mass*sfe,silent=True,massfunc=imftype)\n",
    "    elif catalog['leaf_ID'][i]=='G0.699-0.028b':\n",
    "        sgrb2_M_mass = 9572.0\n",
    "        cluster_for_leafi = imf.make_cluster(sgrb2_M_mass*sfe,silent=True,massfunc=imftype)\n",
    "    elif catalog['mask_num'][i]==9:\n",
    "        cluster_for_leafi = imf.make_cluster(catalog['mass_bgsub'][i]*sfe,silent=True,massfunc=imftype)\n",
    "    else:\n",
    "        cluster_for_leafi = imf.make_cluster(catalog['mass'][i]*sfe,silent=True,massfunc=imftype)\n",
    "    num_stars_for_leafi = len(cluster_for_leafi)\n",
    "    starmass_for_leafi = sum(cluster_for_leafi)\n",
    "    stars_per_yeari = num_stars_for_leafi/catalog['tff'].mean()\n",
    "    starmass_per_yeari = starmass_for_leafi/catalog['tff'].mean()\n",
    "    stars_per_year += stars_per_yeari\n",
    "    starmass_per_year += starmass_per_yeari\n",
    "print(\"SFR over mean freefall time of all leaves\")\n",
    "print(\"Stars per year: %2.2f\"%stars_per_year)\n",
    "print(\"SFR: %2.2f msun per year\"%starmass_per_year)    \n",
    "        "
   ]
  },
  {
   "cell_type": "code",
   "execution_count": 7,
   "metadata": {},
   "outputs": [
    {
     "name": "stdout",
     "output_type": "stream",
     "text": [
      "7.48e+04\n"
     ]
    }
   ],
   "source": [
    "print(\"%2.2e\"%catalog['tff'].mean())"
   ]
  },
  {
   "cell_type": "code",
   "execution_count": 11,
   "metadata": {},
   "outputs": [
    {
     "name": "stdout",
     "output_type": "stream",
     "text": [
      "Done\n"
     ]
    }
   ],
   "source": [
    "##########################################################################\n",
    "### total sf in CMZ for all leaves\n",
    "### assuming all leaves collapse on a freefall time\n",
    "### and form stars with efficiency \"sfe\"\n",
    "##########################################################################\n",
    "sfe = 0.3\n",
    "stars_array = np.zeros(len(catalog['tff']))\n",
    "starmass_array = np.zeros(len(catalog['tff']))\n",
    "stars_cum = np.zeros(len(catalog['tff']))\n",
    "starmass_cum = np.zeros(len(catalog['tff']))\n",
    "t_array = np.sort(catalog['tff'])\n",
    "sinds = np.argsort(catalog['tff'])\n",
    "for i in range(len(catalog['mass'])):\n",
    "    cluster_for_leafi = imf.make_cluster(catalog['mass'][sinds[i]]*sfe,silent=True,massfunc='kroupa')\n",
    "    num_stars_for_leafi = len(cluster_for_leafi)\n",
    "    starmass_for_leafi = sum(cluster_for_leafi)\n",
    "    \n",
    "    stars_array[i]=num_stars_for_leafi\n",
    "    starmass_array[i]=starmass_for_leafi\n",
    "    if i==0:\n",
    "        stars_cum[i] = num_stars_for_leafi\n",
    "        starmass_cum[i] = starmass_for_leafi\n",
    "    else:\n",
    "        stars_cum[i] = stars_cum[i-1]+num_stars_for_leafi\n",
    "        starmass_cum[i] = starmass_cum[i-1]+starmass_for_leafi\n",
    "print('Done')\n"
   ]
  },
  {
   "cell_type": "code",
   "execution_count": 128,
   "metadata": {},
   "outputs": [
    {
     "data": {
      "image/png": "[encoded data removed]",
      "text/plain": [
       "<Figure size 360x360 with 1 Axes>"
      ]
     },
     "metadata": {
      "needs_background": "light"
     },
     "output_type": "display_data"
    }
   ],
   "source": [
    "f = plt.figure(figsize=(5,5))\n",
    "\n",
    "ax = f.add_subplot(111)\n",
    "ax.plot(t_array/1e3,starmass_cum/1e3,label='Cumulative Limit on Mass of Stars')\n",
    "ax.legend(loc='best')\n",
    "ax.set_yscale('linear')"
   ]
  },
  {
   "cell_type": "code",
   "execution_count": 136,
   "metadata": {},
   "outputs": [
    {
     "name": "stdout",
     "output_type": "stream",
     "text": [
      "182292.66837346353\n"
     ]
    }
   ],
   "source": [
    "catalog = Table.read('/Users/hph/cmzoom_catalog/catalog_acc/catalog_acc.fits')\n",
    "print(np.sum(catalog['mass'][catalog['mask_num']==9]))"
   ]
  },
  {
   "cell_type": "code",
   "execution_count": 30,
   "metadata": {},
   "outputs": [
    {
     "name": "stdout",
     "output_type": "stream",
     "text": [
      "33217.445911989336\n"
     ]
    },
    {
     "data": {
      "text/plain": [
       "182292.66837346356"
      ]
     },
     "execution_count": 30,
     "metadata": {},
     "output_type": "execute_result"
    }
   ],
   "source": [
    "print(sum(catalog['mass'][catalog['mask_num']!=9]))\n",
    "sum(catalog['mass'][catalog['mask_num']==9])"
   ]
  },
  {
   "cell_type": "code",
   "execution_count": 134,
   "metadata": {},
   "outputs": [
    {
     "name": "stdout",
     "output_type": "stream",
     "text": [
      "2.80e+04\n"
     ]
    }
   ],
   "source": [
    "print('%2.2e'%(243492.43982168904-215510.1142854529))"
   ]
  },
  {
   "cell_type": "code",
   "execution_count": 138,
   "metadata": {},
   "outputs": [
    {
     "name": "stdout",
     "output_type": "stream",
     "text": [
      "0.09\n"
     ]
    }
   ],
   "source": [
    "print('%2.2f'%((215510.1142854529-195745.4083123633)/215510.1142854529))\n",
    "\n"
   ]
  },
  {
   "cell_type": "code",
   "execution_count": null,
   "metadata": {},
   "outputs": [],
   "source": []
  }
 ],
 "metadata": {
  "kernelspec": {
   "display_name": "Python 3",
   "language": "python",
   "name": "python3"
  },
  "language_info": {
   "codemirror_mode": {
    "name": "ipython",
    "version": 3
   },
   "file_extension": ".py",
   "mimetype": "text/x-python",
   "name": "python",
   "nbconvert_exporter": "python",
   "pygments_lexer": "ipython3",
   "version": "3.6.10"
  }
 },
 "nbformat": 4,
 "nbformat_minor": 2
}
