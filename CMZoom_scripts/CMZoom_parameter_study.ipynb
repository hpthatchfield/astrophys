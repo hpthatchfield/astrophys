{
 "cells": [
  {
   "cell_type": "code",
   "execution_count": 1,
   "metadata": {},
   "outputs": [
    {
     "name": "stdout",
     "output_type": "stream",
     "text": [
      "1.16.5\n"
     ]
    }
   ],
   "source": [
    "import CMZoom_utility as cmz\n",
    "from astropy.io import fits\n",
    "import numpy as np\n",
    "import matplotlib.pyplot as plt\n",
    "from astropy import units as u\n",
    "import astrodendro\n",
    "import os\n",
    "from astropy import wcs\n",
    "from astrodendro import Dendrogram, pp_catalog\n",
    "from astrodendro.analysis import PPStatistic\n",
    "from astropy.table import Table, hstack, Column\n",
    "from astropy.utils.console import ProgressBar\n",
    "import reproject\n",
    "import pyregion\n",
    "print(np.__version__)\n",
    "import aplpy"
   ]
  },
  {
   "cell_type": "code",
   "execution_count": 2,
   "metadata": {},
   "outputs": [],
   "source": [
    "path = os.path.expanduser('/Users/hph/cmzoom_catalog/catalog_parameter_study/')"
   ]
  },
  {
   "cell_type": "markdown",
   "metadata": {},
   "source": [
    "In order to characterize the variation in the effective radius of each structure we performed a simple parameter study, modulating the initial dendrogram's minimum $\\delta$ parameter. As described in section $N$, this parameter characterizes the minimum required difference in intensity between an independent structure and the local minima that separated that structure from any adjacent independent structure in the dendrogram. A separate dendrogram was constructed for three $\\delta$ values: $\\delta = 1$, our fidelity value (the one used the CMZoom catalog) of $\\delta = 2$, and $\\delta = 3$. Those dendrograms are then processed with the same pruning as the catalog to produce a low-$\\delta$ catalog, our fidelity catalog, and a high-$\\delta$ catalog. The effect that this variation has on the catalog results is described in figures $N$ and $N+1$.\n",
    "\n",
    "Two cases arise in our catalog for variations in $\\delta$: leaves can change shape, and therefore also integrated flux, or two nearby leaves can merge together or divide. The former case is more common than the latter, but both cases are fairly rare and only occur for lower flux sources. The effect that changes in $\\delta$ have on the catalog as a whole are represented in figure $N+3$. "
   ]
  },
  {
   "cell_type": "code",
   "execution_count": 3,
   "metadata": {},
   "outputs": [],
   "source": [
    "########################################################################################\n",
    "### define function for initial catalog table (identical to CMZoom_run_catalog.ipynb)\n",
    "########################################################################################\n",
    "\n",
    "def run_characterization(Target, DStructure, final_noisemap,pp,pm,filesuffix, path):\n",
    "    InputMap = fits.open(Target+'.fits')[0]\n",
    "    \n",
    "    HeaderMod = InputMap.header.copy()\n",
    "\n",
    "    PixelAreaArcsec = 3600. * abs(InputMap.header['CDELT1']) * 3600. * abs(InputMap.header['CDELT2'])\n",
    "    Metadata = {}\n",
    "    Metadata['data_unit'] = u.Jy / u.sr\n",
    "    Metadata['spatial_scale'] =  PixelAreaArcsec**0.5 * u.arcsec\n",
    "\n",
    "    Metadata['wcs'] = wcs.WCS(header=HeaderMod).celestial\n",
    "    #Actually build the catalog from the initial dendrogram\n",
    "    Catalogue = astrodendro.pp_catalog(DStructure, Metadata)\n",
    "    #Customize catalog with units and coordinate system\n",
    "    Catalogue['x_cen'].unit = u.deg\n",
    "    Catalogue['y_cen'].unit = u.deg\n",
    "    Catalogue.rename_column('_idx', 'index')\n",
    "    Catalogue.rename_column('flux', 'flux_integrated')\n",
    "    Catalogue.rename_column('x_cen', 'glon')\n",
    "    Catalogue.rename_column('y_cen', 'glat')\n",
    "    Catalogue['flux_integrated'].unit = u.Jy\n",
    "    Catalogue['flux_integrated'] = Catalogue['flux_integrated']\n",
    "    Catalogue['r_eff'] = (Catalogue['area_exact']/np.pi)**0.5\n",
    "    Catalogue['r_eff'].unit = u.arcsec\n",
    "    Catalogue['glon'].unit = u.deg\n",
    "    Catalogue['glat'].unit = u.deg\n",
    "    \n",
    "    # add a 'noise' column to the catalog\n",
    "    keys = ['testflux_integrated', 'flux_integrated_bgsub','min_flux_integrated', 'noise', 'is_leaf', 'peak_cont_flux', 'min_cont_flux', 'mean_cont_flux','npix']\n",
    "    columns = {k:[] for k in (keys)}\n",
    "    \n",
    "    for ii, row in enumerate(ProgressBar(Catalogue)):\n",
    "        structure = dend[row['index']]\n",
    "        assert structure.idx == row['index'] == ii\n",
    "        dend_inds = structure.indices()\n",
    "        columns['noise'].append(final_noisemap[dend_inds].mean())\n",
    "        columns['is_leaf'].append(structure.is_leaf)\n",
    "        peakflux = data[dend_inds].max()\n",
    "        testflux = np.nansum(data[dend_inds])\n",
    "        testflux_integrated = testflux*JyperSr_to_JyperPix\n",
    "        minflux = data[dend_inds].min()\n",
    "        numpix = np.shape(dend_inds)[1]\n",
    "        backgroundflux = minflux*numpix*JyperSr_to_JyperPix\n",
    "        columns['flux_integrated_bgsub'].append(Catalogue['flux_integrated'][ii] - backgroundflux)\n",
    "        columns['peak_cont_flux'].append(peakflux)\n",
    "        columns['min_cont_flux'].append(data[dend_inds].min())\n",
    "        columns['mean_cont_flux'].append(data[dend_inds].mean())\n",
    "        columns['npix'].append(numpix)\n",
    "        columns['min_flux_integrated'].append(backgroundflux)\n",
    "        columns['testflux_integrated'].append(testflux_integrated)\n",
    "        \n",
    "    for k in columns:\n",
    "        if k not in Catalogue.keys():\n",
    "            Catalogue.add_column(Column(name=k, data=columns[k]))\n",
    "    \n",
    "    Catalogue['peak_cont_flux'].unit = u.Jy / u.sr\n",
    "    Catalogue['mean_cont_flux'].unit = u.Jy / u.sr\n",
    "    Catalogue['mean_cont_flux'].unit = u.Jy / u.sr\n",
    "    \n",
    "    #pruning\n",
    "    print(\"Pruning...\")\n",
    "    cat_mask = (Catalogue['is_leaf'] &\n",
    "                (Catalogue['peak_cont_flux']>pp*Catalogue['noise']) &\n",
    "                (Catalogue['mean_cont_flux']>pm*Catalogue['noise']))\n",
    "    pruned_ppcat = Catalogue[cat_mask]\n",
    "    mask = dend.index_map.copy()\n",
    "    for ii in ProgressBar(list(range(len(Catalogue)))):\n",
    "        if ii not in pruned_ppcat['index']:\n",
    "            mask[mask == ii] = -1\n",
    "    print(mask.shape)\n",
    "    print(mask)\n",
    "    outf = fits.PrimaryHDU(data=mask, header=HeaderMod)\n",
    "    print(outf)\n",
    "    print(\"Writing mask file...\")\n",
    "    outf.writeto(path+'dendrogram_mask_pruned'+filesuffix+'.fits', overwrite=True)\n",
    "    \n",
    "    print(\"Writing region file...\")\n",
    "    with open(path+\"raw_dendrogram_cores\"+filesuffix+\".reg\", 'w') as fh:\n",
    "        fh.write(\"galactic\\n\")\n",
    "        for row in pruned_ppcat:\n",
    "            fh.write(\"ellipse({glon}, {glat}, {major_sigma}\\\", \"\n",
    "                     \"{minor_sigma}\\\", {position_angle}) # text={{{index}}}\\n\"\n",
    "                     .format(**dict(zip(row.colnames, row))))\n",
    "        \n",
    "    print(\"Region file complete!\")\n",
    "    \n",
    "    print(\"Writing data table...\")        \n",
    "    OutputPath = path + 'catalog'+'_datatab'+filesuffix+'.fits'\n",
    "    if os.path.isfile(OutputPath):\n",
    "        os.remove(OutputPath)\n",
    "    pruned_ppcat.write(OutputPath,\n",
    "                    format='fits')\n",
    "    print(\"Data table written!\")\n",
    "    "
   ]
  },
  {
   "cell_type": "code",
   "execution_count": 4,
   "metadata": {},
   "outputs": [
    {
     "name": "stdout",
     "output_type": "stream",
     "text": [
      "Running dendrogram...\n"
     ]
    },
    {
     "name": "stderr",
     "output_type": "stream",
     "text": [
      "/Users/hph/anaconda/envs/cmzoom3/lib/python3.6/site-packages/astrodendro/dendrogram.py:177: RuntimeWarning: invalid value encountered in greater\n",
      "  keep = self.data > min_value\n"
     ]
    },
    {
     "name": "stdout",
     "output_type": "stream",
     "text": [
      "Dendrogram 1 complete!\n"
     ]
    },
    {
     "name": "stderr",
     "output_type": "stream",
     "text": [
      "WARNING: AstropyDeprecationWarning: \"clobber\" was deprecated in version 2.0 and will be removed in a future version. Use argument \"overwrite\" instead. [astrodendro.io.fits]\n"
     ]
    },
    {
     "name": "stdout",
     "output_type": "stream",
     "text": [
      "Dendrogram 2 complete!\n",
      "Dendrogram 3 complete!\n",
      "Running characterization...\n"
     ]
    },
    {
     "ename": "FileNotFoundError",
     "evalue": "[Errno 2] No such file or directory: '/Users/hph/cmzoom_catalog/catalog_parameter_study/CMZoom_continuum_pbcor.fits.fits'",
     "output_type": "error",
     "traceback": [
      "\u001b[0;31m---------------------------------------------------------------------------\u001b[0m",
      "\u001b[0;31mFileNotFoundError\u001b[0m                         Traceback (most recent call last)",
      "\u001b[0;32m<ipython-input-4-5bcbde9a752a>\u001b[0m in \u001b[0;36m<module>\u001b[0;34m\u001b[0m\n\u001b[1;32m     53\u001b[0m \u001b[0mprint\u001b[0m\u001b[0;34m(\u001b[0m \u001b[0;34m\"Running characterization...\"\u001b[0m\u001b[0;34m)\u001b[0m\u001b[0;34m\u001b[0m\u001b[0;34m\u001b[0m\u001b[0m\n\u001b[1;32m     54\u001b[0m \u001b[0;31m#Perform pruning and save catalog to working directory (temporary)\u001b[0m\u001b[0;34m\u001b[0m\u001b[0;34m\u001b[0m\u001b[0;34m\u001b[0m\u001b[0m\n\u001b[0;32m---> 55\u001b[0;31m \u001b[0mrun_characterization\u001b[0m\u001b[0;34m(\u001b[0m\u001b[0mtarget\u001b[0m\u001b[0;34m,\u001b[0m\u001b[0mdend1\u001b[0m\u001b[0;34m,\u001b[0m\u001b[0mnoisemap_data\u001b[0m\u001b[0;34m,\u001b[0m\u001b[0mfloat\u001b[0m\u001b[0;34m(\u001b[0m\u001b[0mprune_min_peak\u001b[0m\u001b[0;34m)\u001b[0m\u001b[0;34m,\u001b[0m\u001b[0mfloat\u001b[0m\u001b[0;34m(\u001b[0m\u001b[0mprune_min_mean\u001b[0m\u001b[0;34m)\u001b[0m\u001b[0;34m,\u001b[0m\u001b[0mfilesuffix1\u001b[0m\u001b[0;34m,\u001b[0m\u001b[0mdirectory\u001b[0m\u001b[0;34m)\u001b[0m\u001b[0;34m\u001b[0m\u001b[0;34m\u001b[0m\u001b[0m\n\u001b[0m\u001b[1;32m     56\u001b[0m \u001b[0mrun_characterization\u001b[0m\u001b[0;34m(\u001b[0m\u001b[0mtarget\u001b[0m\u001b[0;34m,\u001b[0m\u001b[0mdend2\u001b[0m\u001b[0;34m,\u001b[0m\u001b[0mnoisemap_data\u001b[0m\u001b[0;34m,\u001b[0m\u001b[0mfloat\u001b[0m\u001b[0;34m(\u001b[0m\u001b[0mprune_min_peak\u001b[0m\u001b[0;34m)\u001b[0m\u001b[0;34m,\u001b[0m\u001b[0mfloat\u001b[0m\u001b[0;34m(\u001b[0m\u001b[0mprune_min_mean\u001b[0m\u001b[0;34m)\u001b[0m\u001b[0;34m,\u001b[0m\u001b[0mfilesuffix2\u001b[0m\u001b[0;34m,\u001b[0m\u001b[0mdirectory\u001b[0m\u001b[0;34m)\u001b[0m\u001b[0;34m\u001b[0m\u001b[0;34m\u001b[0m\u001b[0m\n\u001b[1;32m     57\u001b[0m \u001b[0mrun_characterization\u001b[0m\u001b[0;34m(\u001b[0m\u001b[0mtarget\u001b[0m\u001b[0;34m,\u001b[0m\u001b[0mdend3\u001b[0m\u001b[0;34m,\u001b[0m\u001b[0mnoisemap_data\u001b[0m\u001b[0;34m,\u001b[0m\u001b[0mfloat\u001b[0m\u001b[0;34m(\u001b[0m\u001b[0mprune_min_peak\u001b[0m\u001b[0;34m)\u001b[0m\u001b[0;34m,\u001b[0m\u001b[0mfloat\u001b[0m\u001b[0;34m(\u001b[0m\u001b[0mprune_min_mean\u001b[0m\u001b[0;34m)\u001b[0m\u001b[0;34m,\u001b[0m\u001b[0mfilesuffix3\u001b[0m\u001b[0;34m,\u001b[0m\u001b[0mdirectory\u001b[0m\u001b[0;34m)\u001b[0m\u001b[0;34m\u001b[0m\u001b[0;34m\u001b[0m\u001b[0m\n",
      "\u001b[0;32m<ipython-input-3-f48bea13b00e>\u001b[0m in \u001b[0;36mrun_characterization\u001b[0;34m(Target, DStructure, final_noisemap, pp, pm, filesuffix, path)\u001b[0m\n\u001b[1;32m      4\u001b[0m \u001b[0;34m\u001b[0m\u001b[0m\n\u001b[1;32m      5\u001b[0m \u001b[0;32mdef\u001b[0m \u001b[0mrun_characterization\u001b[0m\u001b[0;34m(\u001b[0m\u001b[0mTarget\u001b[0m\u001b[0;34m,\u001b[0m \u001b[0mDStructure\u001b[0m\u001b[0;34m,\u001b[0m \u001b[0mfinal_noisemap\u001b[0m\u001b[0;34m,\u001b[0m\u001b[0mpp\u001b[0m\u001b[0;34m,\u001b[0m\u001b[0mpm\u001b[0m\u001b[0;34m,\u001b[0m\u001b[0mfilesuffix\u001b[0m\u001b[0;34m,\u001b[0m \u001b[0mpath\u001b[0m\u001b[0;34m)\u001b[0m\u001b[0;34m:\u001b[0m\u001b[0;34m\u001b[0m\u001b[0;34m\u001b[0m\u001b[0m\n\u001b[0;32m----> 6\u001b[0;31m     \u001b[0mInputMap\u001b[0m \u001b[0;34m=\u001b[0m \u001b[0mfits\u001b[0m\u001b[0;34m.\u001b[0m\u001b[0mopen\u001b[0m\u001b[0;34m(\u001b[0m\u001b[0mTarget\u001b[0m\u001b[0;34m+\u001b[0m\u001b[0;34m'.fits'\u001b[0m\u001b[0;34m)\u001b[0m\u001b[0;34m[\u001b[0m\u001b[0;36m0\u001b[0m\u001b[0;34m]\u001b[0m\u001b[0;34m\u001b[0m\u001b[0;34m\u001b[0m\u001b[0m\n\u001b[0m\u001b[1;32m      7\u001b[0m \u001b[0;34m\u001b[0m\u001b[0m\n\u001b[1;32m      8\u001b[0m     \u001b[0mHeaderMod\u001b[0m \u001b[0;34m=\u001b[0m \u001b[0mInputMap\u001b[0m\u001b[0;34m.\u001b[0m\u001b[0mheader\u001b[0m\u001b[0;34m.\u001b[0m\u001b[0mcopy\u001b[0m\u001b[0;34m(\u001b[0m\u001b[0;34m)\u001b[0m\u001b[0;34m\u001b[0m\u001b[0;34m\u001b[0m\u001b[0m\n",
      "\u001b[0;32m~/anaconda/envs/cmzoom3/lib/python3.6/site-packages/astropy/io/fits/hdu/hdulist.py\u001b[0m in \u001b[0;36mfitsopen\u001b[0;34m(name, mode, memmap, save_backup, cache, lazy_load_hdus, **kwargs)\u001b[0m\n\u001b[1;32m    149\u001b[0m \u001b[0;34m\u001b[0m\u001b[0m\n\u001b[1;32m    150\u001b[0m     return HDUList.fromfile(name, mode, memmap, save_backup, cache,\n\u001b[0;32m--> 151\u001b[0;31m                             lazy_load_hdus, **kwargs)\n\u001b[0m\u001b[1;32m    152\u001b[0m \u001b[0;34m\u001b[0m\u001b[0m\n\u001b[1;32m    153\u001b[0m \u001b[0;34m\u001b[0m\u001b[0m\n",
      "\u001b[0;32m~/anaconda/envs/cmzoom3/lib/python3.6/site-packages/astropy/io/fits/hdu/hdulist.py\u001b[0m in \u001b[0;36mfromfile\u001b[0;34m(cls, fileobj, mode, memmap, save_backup, cache, lazy_load_hdus, **kwargs)\u001b[0m\n\u001b[1;32m    388\u001b[0m         return cls._readfrom(fileobj=fileobj, mode=mode, memmap=memmap,\n\u001b[1;32m    389\u001b[0m                              \u001b[0msave_backup\u001b[0m\u001b[0;34m=\u001b[0m\u001b[0msave_backup\u001b[0m\u001b[0;34m,\u001b[0m \u001b[0mcache\u001b[0m\u001b[0;34m=\u001b[0m\u001b[0mcache\u001b[0m\u001b[0;34m,\u001b[0m\u001b[0;34m\u001b[0m\u001b[0;34m\u001b[0m\u001b[0m\n\u001b[0;32m--> 390\u001b[0;31m                              lazy_load_hdus=lazy_load_hdus, **kwargs)\n\u001b[0m\u001b[1;32m    391\u001b[0m \u001b[0;34m\u001b[0m\u001b[0m\n\u001b[1;32m    392\u001b[0m     \u001b[0;34m@\u001b[0m\u001b[0mclassmethod\u001b[0m\u001b[0;34m\u001b[0m\u001b[0;34m\u001b[0m\u001b[0m\n",
      "\u001b[0;32m~/anaconda/envs/cmzoom3/lib/python3.6/site-packages/astropy/io/fits/hdu/hdulist.py\u001b[0m in \u001b[0;36m_readfrom\u001b[0;34m(cls, fileobj, data, mode, memmap, save_backup, cache, lazy_load_hdus, **kwargs)\u001b[0m\n\u001b[1;32m   1037\u001b[0m             \u001b[0;32mif\u001b[0m \u001b[0;32mnot\u001b[0m \u001b[0misinstance\u001b[0m\u001b[0;34m(\u001b[0m\u001b[0mfileobj\u001b[0m\u001b[0;34m,\u001b[0m \u001b[0m_File\u001b[0m\u001b[0;34m)\u001b[0m\u001b[0;34m:\u001b[0m\u001b[0;34m\u001b[0m\u001b[0;34m\u001b[0m\u001b[0m\n\u001b[1;32m   1038\u001b[0m                 \u001b[0;31m# instantiate a FITS file object (ffo)\u001b[0m\u001b[0;34m\u001b[0m\u001b[0;34m\u001b[0m\u001b[0;34m\u001b[0m\u001b[0m\n\u001b[0;32m-> 1039\u001b[0;31m                 \u001b[0mfileobj\u001b[0m \u001b[0;34m=\u001b[0m \u001b[0m_File\u001b[0m\u001b[0;34m(\u001b[0m\u001b[0mfileobj\u001b[0m\u001b[0;34m,\u001b[0m \u001b[0mmode\u001b[0m\u001b[0;34m=\u001b[0m\u001b[0mmode\u001b[0m\u001b[0;34m,\u001b[0m \u001b[0mmemmap\u001b[0m\u001b[0;34m=\u001b[0m\u001b[0mmemmap\u001b[0m\u001b[0;34m,\u001b[0m \u001b[0mcache\u001b[0m\u001b[0;34m=\u001b[0m\u001b[0mcache\u001b[0m\u001b[0;34m)\u001b[0m\u001b[0;34m\u001b[0m\u001b[0;34m\u001b[0m\u001b[0m\n\u001b[0m\u001b[1;32m   1040\u001b[0m             \u001b[0;31m# The Astropy mode is determined by the _File initializer if the\u001b[0m\u001b[0;34m\u001b[0m\u001b[0;34m\u001b[0m\u001b[0;34m\u001b[0m\u001b[0m\n\u001b[1;32m   1041\u001b[0m             \u001b[0;31m# supplied mode was None\u001b[0m\u001b[0;34m\u001b[0m\u001b[0;34m\u001b[0m\u001b[0;34m\u001b[0m\u001b[0m\n",
      "\u001b[0;32m~/anaconda/envs/cmzoom3/lib/python3.6/site-packages/astropy/utils/decorators.py\u001b[0m in \u001b[0;36mwrapper\u001b[0;34m(*args, **kwargs)\u001b[0m\n\u001b[1;32m    519\u001b[0m                             \u001b[0mkwargs\u001b[0m\u001b[0;34m[\u001b[0m\u001b[0mnew_name\u001b[0m\u001b[0;34m[\u001b[0m\u001b[0mi\u001b[0m\u001b[0;34m]\u001b[0m\u001b[0;34m]\u001b[0m \u001b[0;34m=\u001b[0m \u001b[0mvalue\u001b[0m\u001b[0;34m\u001b[0m\u001b[0;34m\u001b[0m\u001b[0m\n\u001b[1;32m    520\u001b[0m \u001b[0;34m\u001b[0m\u001b[0m\n\u001b[0;32m--> 521\u001b[0;31m             \u001b[0;32mreturn\u001b[0m \u001b[0mfunction\u001b[0m\u001b[0;34m(\u001b[0m\u001b[0;34m*\u001b[0m\u001b[0margs\u001b[0m\u001b[0;34m,\u001b[0m \u001b[0;34m**\u001b[0m\u001b[0mkwargs\u001b[0m\u001b[0;34m)\u001b[0m\u001b[0;34m\u001b[0m\u001b[0;34m\u001b[0m\u001b[0m\n\u001b[0m\u001b[1;32m    522\u001b[0m \u001b[0;34m\u001b[0m\u001b[0m\n\u001b[1;32m    523\u001b[0m         \u001b[0;32mreturn\u001b[0m \u001b[0mwrapper\u001b[0m\u001b[0;34m\u001b[0m\u001b[0;34m\u001b[0m\u001b[0m\n",
      "\u001b[0;32m~/anaconda/envs/cmzoom3/lib/python3.6/site-packages/astropy/io/fits/file.py\u001b[0m in \u001b[0;36m__init__\u001b[0;34m(self, fileobj, mode, memmap, overwrite, cache)\u001b[0m\n\u001b[1;32m    176\u001b[0m             \u001b[0mself\u001b[0m\u001b[0;34m.\u001b[0m\u001b[0m_open_fileobj\u001b[0m\u001b[0;34m(\u001b[0m\u001b[0mfileobj\u001b[0m\u001b[0;34m,\u001b[0m \u001b[0mmode\u001b[0m\u001b[0;34m,\u001b[0m \u001b[0moverwrite\u001b[0m\u001b[0;34m)\u001b[0m\u001b[0;34m\u001b[0m\u001b[0;34m\u001b[0m\u001b[0m\n\u001b[1;32m    177\u001b[0m         \u001b[0;32melif\u001b[0m \u001b[0misinstance\u001b[0m\u001b[0;34m(\u001b[0m\u001b[0mfileobj\u001b[0m\u001b[0;34m,\u001b[0m \u001b[0mstr\u001b[0m\u001b[0;34m)\u001b[0m\u001b[0;34m:\u001b[0m\u001b[0;34m\u001b[0m\u001b[0;34m\u001b[0m\u001b[0m\n\u001b[0;32m--> 178\u001b[0;31m             \u001b[0mself\u001b[0m\u001b[0;34m.\u001b[0m\u001b[0m_open_filename\u001b[0m\u001b[0;34m(\u001b[0m\u001b[0mfileobj\u001b[0m\u001b[0;34m,\u001b[0m \u001b[0mmode\u001b[0m\u001b[0;34m,\u001b[0m \u001b[0moverwrite\u001b[0m\u001b[0;34m)\u001b[0m\u001b[0;34m\u001b[0m\u001b[0;34m\u001b[0m\u001b[0m\n\u001b[0m\u001b[1;32m    179\u001b[0m         \u001b[0;32melse\u001b[0m\u001b[0;34m:\u001b[0m\u001b[0;34m\u001b[0m\u001b[0;34m\u001b[0m\u001b[0m\n\u001b[1;32m    180\u001b[0m             \u001b[0mself\u001b[0m\u001b[0;34m.\u001b[0m\u001b[0m_open_filelike\u001b[0m\u001b[0;34m(\u001b[0m\u001b[0mfileobj\u001b[0m\u001b[0;34m,\u001b[0m \u001b[0mmode\u001b[0m\u001b[0;34m,\u001b[0m \u001b[0moverwrite\u001b[0m\u001b[0;34m)\u001b[0m\u001b[0;34m\u001b[0m\u001b[0;34m\u001b[0m\u001b[0m\n",
      "\u001b[0;32m~/anaconda/envs/cmzoom3/lib/python3.6/site-packages/astropy/io/fits/file.py\u001b[0m in \u001b[0;36m_open_filename\u001b[0;34m(self, filename, mode, overwrite)\u001b[0m\n\u001b[1;32m    553\u001b[0m \u001b[0;34m\u001b[0m\u001b[0m\n\u001b[1;32m    554\u001b[0m         \u001b[0;32mif\u001b[0m \u001b[0;32mnot\u001b[0m \u001b[0mself\u001b[0m\u001b[0;34m.\u001b[0m\u001b[0m_try_read_compressed\u001b[0m\u001b[0;34m(\u001b[0m\u001b[0mself\u001b[0m\u001b[0;34m.\u001b[0m\u001b[0mname\u001b[0m\u001b[0;34m,\u001b[0m \u001b[0mmagic\u001b[0m\u001b[0;34m,\u001b[0m \u001b[0mmode\u001b[0m\u001b[0;34m,\u001b[0m \u001b[0mext\u001b[0m\u001b[0;34m=\u001b[0m\u001b[0mext\u001b[0m\u001b[0;34m)\u001b[0m\u001b[0;34m:\u001b[0m\u001b[0;34m\u001b[0m\u001b[0;34m\u001b[0m\u001b[0m\n\u001b[0;32m--> 555\u001b[0;31m             \u001b[0mself\u001b[0m\u001b[0;34m.\u001b[0m\u001b[0m_file\u001b[0m \u001b[0;34m=\u001b[0m \u001b[0mfileobj_open\u001b[0m\u001b[0;34m(\u001b[0m\u001b[0mself\u001b[0m\u001b[0;34m.\u001b[0m\u001b[0mname\u001b[0m\u001b[0;34m,\u001b[0m \u001b[0mIO_FITS_MODES\u001b[0m\u001b[0;34m[\u001b[0m\u001b[0mmode\u001b[0m\u001b[0;34m]\u001b[0m\u001b[0;34m)\u001b[0m\u001b[0;34m\u001b[0m\u001b[0;34m\u001b[0m\u001b[0m\n\u001b[0m\u001b[1;32m    556\u001b[0m             \u001b[0mself\u001b[0m\u001b[0;34m.\u001b[0m\u001b[0mclose_on_error\u001b[0m \u001b[0;34m=\u001b[0m \u001b[0;32mTrue\u001b[0m\u001b[0;34m\u001b[0m\u001b[0;34m\u001b[0m\u001b[0m\n\u001b[1;32m    557\u001b[0m \u001b[0;34m\u001b[0m\u001b[0m\n",
      "\u001b[0;32m~/anaconda/envs/cmzoom3/lib/python3.6/site-packages/astropy/io/fits/util.py\u001b[0m in \u001b[0;36mfileobj_open\u001b[0;34m(filename, mode)\u001b[0m\n\u001b[1;32m    395\u001b[0m     \"\"\"\n\u001b[1;32m    396\u001b[0m \u001b[0;34m\u001b[0m\u001b[0m\n\u001b[0;32m--> 397\u001b[0;31m     \u001b[0;32mreturn\u001b[0m \u001b[0mopen\u001b[0m\u001b[0;34m(\u001b[0m\u001b[0mfilename\u001b[0m\u001b[0;34m,\u001b[0m \u001b[0mmode\u001b[0m\u001b[0;34m,\u001b[0m \u001b[0mbuffering\u001b[0m\u001b[0;34m=\u001b[0m\u001b[0;36m0\u001b[0m\u001b[0;34m)\u001b[0m\u001b[0;34m\u001b[0m\u001b[0;34m\u001b[0m\u001b[0m\n\u001b[0m\u001b[1;32m    398\u001b[0m \u001b[0;34m\u001b[0m\u001b[0m\n\u001b[1;32m    399\u001b[0m \u001b[0;34m\u001b[0m\u001b[0m\n",
      "\u001b[0;31mFileNotFoundError\u001b[0m: [Errno 2] No such file or directory: '/Users/hph/cmzoom_catalog/catalog_parameter_study/CMZoom_continuum_pbcor.fits.fits'"
     ]
    }
   ],
   "source": [
    "### run two (additional) catalogs, save to a new folder\n",
    "### use delta = 1, delta = 2, delta = 3\n",
    "#ASSIGN PARAMETERS\n",
    "\n",
    "rms = 3.*10**6\n",
    "dend_min_v = 3\n",
    "dend_min_d1 = 1\n",
    "dend_min_d2 = 2\n",
    "dend_min_d3 = 3\n",
    "dend_min_pix = 17\n",
    "prune_min_peak = 6\n",
    "prune_min_mean = 2\n",
    "\n",
    "\n",
    "date = '_2-11-20'\n",
    "directory = '/Users/hph/cmzoom_catalog/catalog_parameter_study/'\n",
    "target = directory+'CMZoom_continuum_pbcor.fits'\n",
    "filesuffix1 = '_rms3e6_dv'+str(dend_min_v)+'_dd'+str(dend_min_d1)+'_dp'+str(dend_min_pix)+'_pp'+str(prune_min_peak)+'_pm'+str(prune_min_mean)+'_gal'+date\n",
    "filesuffix2 = '_rms3e6_dv'+str(dend_min_v)+'_dd'+str(dend_min_d2)+'_dp'+str(dend_min_pix)+'_pp'+str(prune_min_peak)+'_pm'+str(prune_min_mean)+'_gal'+date\n",
    "filesuffix3 = '_rms3e6_dv'+str(dend_min_v)+'_dd'+str(dend_min_d3)+'_dp'+str(dend_min_pix)+'_pp'+str(prune_min_peak)+'_pm'+str(prune_min_mean)+'_gal'+date\n",
    "\n",
    "\n",
    "sma = fits.open(target)\n",
    "data = sma[0].data\n",
    "HeaderMod = sma[0].header\n",
    "\n",
    "mywcs = wcs.WCS(HeaderMod)\n",
    "\n",
    "print( \"Running dendrogram...\")\n",
    "dend1 = astrodendro.Dendrogram.compute(data, min_value=float(dend_min_v)*rms, min_delta=float(dend_min_d1)*rms,\n",
    "                                      min_npix=dend_min_pix,\n",
    "                                      wcs=mywcs)\n",
    "print( \"Dendrogram 1 complete!\")\n",
    "#Save the dendrogram to the working directory (temporary)\n",
    "dend1.save_to(directory+'/prototype_dendrogram'+filesuffix1+'.fits')\n",
    "\n",
    "dend2 = astrodendro.Dendrogram.compute(data, min_value=float(dend_min_v)*rms, min_delta=float(dend_min_d2)*rms,\n",
    "                                      min_npix=dend_min_pix,\n",
    "                                      wcs=mywcs)\n",
    "print( \"Dendrogram 2 complete!\")\n",
    "#Save the dendrogram to the working directory (temporary)\n",
    "dend2.save_to(directory+'/prototype_dendrogram'+filesuffix2+'.fits')\n",
    "\n",
    "dend3 = astrodendro.Dendrogram.compute(data, min_value=float(dend_min_v)*rms, min_delta=float(dend_min_d3)*rms,\n",
    "                                      min_npix=dend_min_pix,\n",
    "                                      wcs=mywcs)\n",
    "print( \"Dendrogram 3 complete!\")\n",
    "#Save the dendrogram to the working directory (temporary)\n",
    "dend3.save_to(directory+'/prototype_dendrogram'+filesuffix3+'.fits')\n",
    "\n",
    "noisemap = fits.open(directory+'CMZoom_noisemap_JySr_k14_final.fits')\n",
    "noisemap_data = noisemap[0].data\n",
    "print( \"Running characterization...\")\n",
    "#Perform pruning and save catalog to working directory (temporary)\n",
    "run_characterization(target,dend1,noisemap_data,float(prune_min_peak),float(prune_min_mean),filesuffix1,directory)\n",
    "run_characterization(target,dend2,noisemap_data,float(prune_min_peak),float(prune_min_mean),filesuffix2,directory)\n",
    "run_characterization(target,dend3,noisemap_data,float(prune_min_peak),float(prune_min_mean),filesuffix3,directory)\n",
    "print( \"Characterization complete!\")\n"
   ]
  },
  {
   "cell_type": "code",
   "execution_count": null,
   "metadata": {},
   "outputs": [],
   "source": []
  },
  {
   "cell_type": "code",
   "execution_count": null,
   "metadata": {},
   "outputs": [],
   "source": []
  },
  {
   "cell_type": "code",
   "execution_count": null,
   "metadata": {},
   "outputs": [],
   "source": []
  },
  {
   "cell_type": "code",
   "execution_count": null,
   "metadata": {},
   "outputs": [],
   "source": []
  },
  {
   "cell_type": "code",
   "execution_count": null,
   "metadata": {},
   "outputs": [],
   "source": []
  },
  {
   "cell_type": "code",
   "execution_count": null,
   "metadata": {},
   "outputs": [],
   "source": []
  },
  {
   "cell_type": "code",
   "execution_count": null,
   "metadata": {},
   "outputs": [],
   "source": []
  },
  {
   "cell_type": "code",
   "execution_count": null,
   "metadata": {},
   "outputs": [],
   "source": []
  },
  {
   "cell_type": "code",
   "execution_count": null,
   "metadata": {},
   "outputs": [],
   "source": []
  },
  {
   "cell_type": "code",
   "execution_count": null,
   "metadata": {},
   "outputs": [],
   "source": []
  },
  {
   "cell_type": "code",
   "execution_count": null,
   "metadata": {},
   "outputs": [],
   "source": []
  },
  {
   "cell_type": "code",
   "execution_count": null,
   "metadata": {},
   "outputs": [],
   "source": []
  },
  {
   "cell_type": "code",
   "execution_count": null,
   "metadata": {},
   "outputs": [],
   "source": []
  },
  {
   "cell_type": "code",
   "execution_count": null,
   "metadata": {},
   "outputs": [],
   "source": []
  },
  {
   "cell_type": "code",
   "execution_count": null,
   "metadata": {},
   "outputs": [],
   "source": []
  },
  {
   "cell_type": "code",
   "execution_count": null,
   "metadata": {},
   "outputs": [],
   "source": []
  }
 ],
 "metadata": {
  "kernelspec": {
   "display_name": "Python 3",
   "language": "python",
   "name": "python3"
  },
  "language_info": {
   "codemirror_mode": {
    "name": "ipython",
    "version": 3
   },
   "file_extension": ".py",
   "mimetype": "text/x-python",
   "name": "python",
   "nbconvert_exporter": "python",
   "pygments_lexer": "ipython3",
   "version": "3.6.10"
  }
 },
 "nbformat": 4,
 "nbformat_minor": 2
}
