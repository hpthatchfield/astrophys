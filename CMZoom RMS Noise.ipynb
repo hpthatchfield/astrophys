{
 "cells": [
  {
   "cell_type": "code",
   "execution_count": 1,
   "metadata": {},
   "outputs": [
    {
     "name": "stdout",
     "output_type": "stream",
     "text": [
      "3.2.1\n"
     ]
    }
   ],
   "source": [
    "from astropy.io import fits\n",
    "import numpy as np\n",
    "from astropy.convolution import convolve_fft, Gaussian2DKernel\n",
    "import math\n",
    "import astropy.units as u\n",
    "import matplotlib.pyplot as plt\n",
    "import astropy\n",
    "import radio_beam\n",
    "print(astropy.__version__)\n",
    "%matplotlib notebook"
   ]
  },
  {
   "cell_type": "code",
   "execution_count": 2,
   "metadata": {},
   "outputs": [
    {
     "data": {
      "text/plain": [
       "(2800, 19000)"
      ]
     },
     "execution_count": 2,
     "metadata": {},
     "output_type": "execute_result"
    }
   ],
   "source": [
    "rms = fits.open('/Users/hph/cmzoom_catalog/catalog_acc/CMZoom_noisemap_JySr_k14_final.fits')\n",
    "region_mask = fits.open('/Users/hph/cmzoom_catalog/CMZoom_Mask_new.fits')\n",
    "rms[0].data.shape"
   ]
  },
  {
   "cell_type": "code",
   "execution_count": 3,
   "metadata": {},
   "outputs": [],
   "source": [
    "fitspath='/Users/hph/Dropbox/CMZoom_Data/continuum_images/Final_continuum_images/Continuum_pbcor/G0.714-0.100.continuum.pbcor.fits'\n",
    "fitsbeam = radio_beam.Beam.from_fits_header(fitspath)  \n",
    "indiv = fits.getdata(fitspath)\n",
    "mosaic = fits.getdata('/Users/hph/cmzoom_catalog/catalog_acc/CMZoom_continuum_pbcor.fits')\n",
    "\n"
   ]
  },
  {
   "cell_type": "code",
   "execution_count": 4,
   "metadata": {},
   "outputs": [
    {
     "name": "stdout",
     "output_type": "stream",
     "text": [
      "Beam size in pixels: 43\n",
      "Beam area in steradians: 2.52e-10\n",
      "The conversion from mJy/beam --> MJy/Sr: 3.97 \n"
     ]
    }
   ],
   "source": [
    "#BMAJ=1.116964022319E-03    #20kmps                                             \n",
    "#BMIN=4.534146851963E-04    #20kmps\n",
    "#BMAJ=0.0009638905525208    #survey median\n",
    "#BMIN=0.0008103334903717    #survey median\n",
    "BMAJ=9.306523534987e-4 #SgrB2 SW                                                 \n",
    "BMIN=7.843205663893e-4 #SgrB2 SW\n",
    "#beam_ab_as2 = 3.25**2\n",
    "beam_area_as2 = (BMAJ*BMIN*3600.**2)*(np.pi/(4*np.log(2)))\n",
    "beam_area_deg2 = (BMAJ*BMIN)*(np.pi/(4*np.log(2)))\n",
    "#beam_area_as2 = beam_ab_as2*np.pi/(4*np.log(2))\n",
    "#beam_area_as2 = beam_ab_as2*np.pi/(2*np.sqrt(2))\n",
    "#beam_area_deg2 = beam_area_as2/(3600.**2)\n",
    "deg2_per_pix = (1.388888888889E-04)**2\n",
    "beam_area_sr = beam_area_deg2/3282.8\n",
    "pix_per_beam = beam_area_deg2/deg2_per_pix\n",
    "print(\"Beam size in pixels: %2.0f\"%pix_per_beam)\n",
    "print(\"Beam area in steradians: %1.2e\"%beam_area_sr)\n",
    "conv=(1./beam_area_sr)/(1.0e9)\n",
    "print(('The conversion from mJy/beam --> MJy/Sr: %1.2f ')%(conv))\n"
   ]
  },
  {
   "cell_type": "code",
   "execution_count": 22,
   "metadata": {},
   "outputs": [
    {
     "name": "stdout",
     "output_type": "stream",
     "text": [
      "185.3602651031429 MJy / sr\n",
      "2.519418062658359e-10\n",
      "A pixel of value 0.0205 the pixel in Jy/sr should be 8.1368e+07\n"
     ]
    }
   ],
   "source": [
    "BMAJ=9.306523534987e-4 #SgrB2 SW                                                 \n",
    "BMIN=7.843205663893e-4 #SgrB2 SW\n",
    "beam_area_sr=(BMAJ*u.deg*BMIN*u.deg*np.pi/(4*np.log(2))).to(u.sr)\n",
    "print(((46.7*u.mJy)/(beam_area_sr)).to(u.MJy/u.sr))\n",
    "beam = radio_beam.Beam(major=BMAJ,minor=BMIN)\n",
    "print(beam.sr.value)\n",
    "pixval_jypbm = 0.0205\n",
    "print('A pixel of value %1.4f the pixel in Jy/sr should be %1.4e'\\\n",
    "      %(pixval_jypbm,pixval_jypbm/beam.sr.value))"
   ]
  },
  {
   "cell_type": "code",
   "execution_count": 5,
   "metadata": {},
   "outputs": [
    {
     "ename": "NameError",
     "evalue": "name 'bmaj_array' is not defined",
     "output_type": "error",
     "traceback": [
      "\u001b[0;31m---------------------------------------------------------------------------\u001b[0m",
      "\u001b[0;31mNameError\u001b[0m                                 Traceback (most recent call last)",
      "\u001b[0;32m<ipython-input-5-ab989869623f>\u001b[0m in \u001b[0;36m<module>\u001b[0;34m\u001b[0m\n\u001b[1;32m      1\u001b[0m \u001b[0mdeg2_per_pix\u001b[0m \u001b[0;34m=\u001b[0m \u001b[0;34m(\u001b[0m\u001b[0;36m1.3889E-04\u001b[0m\u001b[0;34m)\u001b[0m\u001b[0;34m**\u001b[0m\u001b[0;36m2\u001b[0m\u001b[0;34m\u001b[0m\u001b[0;34m\u001b[0m\u001b[0m\n\u001b[0;32m----> 2\u001b[0;31m \u001b[0mbeam_area_deg2_max\u001b[0m \u001b[0;34m=\u001b[0m \u001b[0;34m(\u001b[0m\u001b[0;34m(\u001b[0m\u001b[0mbmaj_array\u001b[0m\u001b[0;34m*\u001b[0m\u001b[0mbmin_array\u001b[0m\u001b[0;34m)\u001b[0m\u001b[0;34m.\u001b[0m\u001b[0mmax\u001b[0m\u001b[0;34m(\u001b[0m\u001b[0;34m)\u001b[0m\u001b[0;34m)\u001b[0m\u001b[0;34m*\u001b[0m\u001b[0;34m(\u001b[0m\u001b[0mnp\u001b[0m\u001b[0;34m.\u001b[0m\u001b[0mpi\u001b[0m\u001b[0;34m/\u001b[0m\u001b[0;34m(\u001b[0m\u001b[0;36m4\u001b[0m\u001b[0;34m*\u001b[0m\u001b[0mnp\u001b[0m\u001b[0;34m.\u001b[0m\u001b[0mlog\u001b[0m\u001b[0;34m(\u001b[0m\u001b[0;36m2\u001b[0m\u001b[0;34m)\u001b[0m\u001b[0;34m)\u001b[0m\u001b[0;34m)\u001b[0m\u001b[0;34m\u001b[0m\u001b[0;34m\u001b[0m\u001b[0m\n\u001b[0m\u001b[1;32m      3\u001b[0m \u001b[0mbeam_area_deg2_min\u001b[0m \u001b[0;34m=\u001b[0m \u001b[0;34m(\u001b[0m\u001b[0;34m(\u001b[0m\u001b[0mbmaj_array\u001b[0m\u001b[0;34m*\u001b[0m\u001b[0mbmin_array\u001b[0m\u001b[0;34m)\u001b[0m\u001b[0;34m.\u001b[0m\u001b[0mmin\u001b[0m\u001b[0;34m(\u001b[0m\u001b[0;34m)\u001b[0m\u001b[0;34m)\u001b[0m\u001b[0;34m*\u001b[0m\u001b[0;34m(\u001b[0m\u001b[0mnp\u001b[0m\u001b[0;34m.\u001b[0m\u001b[0mpi\u001b[0m\u001b[0;34m/\u001b[0m\u001b[0;34m(\u001b[0m\u001b[0;36m4\u001b[0m\u001b[0;34m*\u001b[0m\u001b[0mnp\u001b[0m\u001b[0;34m.\u001b[0m\u001b[0mlog\u001b[0m\u001b[0;34m(\u001b[0m\u001b[0;36m2\u001b[0m\u001b[0;34m)\u001b[0m\u001b[0;34m)\u001b[0m\u001b[0;34m)\u001b[0m\u001b[0;34m\u001b[0m\u001b[0;34m\u001b[0m\u001b[0m\n\u001b[1;32m      4\u001b[0m \u001b[0mbeam_area_deg2_med\u001b[0m \u001b[0;34m=\u001b[0m \u001b[0;34m(\u001b[0m\u001b[0mnp\u001b[0m\u001b[0;34m.\u001b[0m\u001b[0mmedian\u001b[0m\u001b[0;34m(\u001b[0m\u001b[0;34m(\u001b[0m\u001b[0mbmaj_array\u001b[0m\u001b[0;34m*\u001b[0m\u001b[0mbmin_array\u001b[0m\u001b[0;34m)\u001b[0m\u001b[0;34m)\u001b[0m\u001b[0;34m)\u001b[0m\u001b[0;34m*\u001b[0m\u001b[0;34m(\u001b[0m\u001b[0mnp\u001b[0m\u001b[0;34m.\u001b[0m\u001b[0mpi\u001b[0m\u001b[0;34m/\u001b[0m\u001b[0;34m(\u001b[0m\u001b[0;36m4\u001b[0m\u001b[0;34m*\u001b[0m\u001b[0mnp\u001b[0m\u001b[0;34m.\u001b[0m\u001b[0mlog\u001b[0m\u001b[0;34m(\u001b[0m\u001b[0;36m2\u001b[0m\u001b[0;34m)\u001b[0m\u001b[0;34m)\u001b[0m\u001b[0;34m)\u001b[0m\u001b[0;34m\u001b[0m\u001b[0;34m\u001b[0m\u001b[0m\n\u001b[1;32m      5\u001b[0m \u001b[0mbeam_area_sr_min\u001b[0m \u001b[0;34m=\u001b[0m \u001b[0mbeam_area_deg2_min\u001b[0m\u001b[0;34m/\u001b[0m\u001b[0;36m3282.8\u001b[0m\u001b[0;34m\u001b[0m\u001b[0;34m\u001b[0m\u001b[0m\n",
      "\u001b[0;31mNameError\u001b[0m: name 'bmaj_array' is not defined"
     ]
    }
   ],
   "source": [
    "deg2_per_pix = (1.3889E-04)**2\n",
    "beam_area_deg2_max = ((bmaj_array*bmin_array).max())*(np.pi/(4*np.log(2)))\n",
    "beam_area_deg2_min = ((bmaj_array*bmin_array).min())*(np.pi/(4*np.log(2)))\n",
    "beam_area_deg2_med = (np.median((bmaj_array*bmin_array)))*(np.pi/(4*np.log(2)))\n",
    "beam_area_sr_min = beam_area_deg2_min/3282.8\n",
    "beam_area_sr_max = beam_area_deg2_max/3282.8\n",
    "beam_area_sr_med = beam_area_deg2_med/3282.8\n",
    "conv_min=(1./beam_area_sr_min)/(1.0e9)\n",
    "conv_max=(1./beam_area_sr_max)/(1.0e9)\n",
    "conv_med=(1./beam_area_sr_med)/(1.0e9)\n",
    "pix_per_beam_min = beam_area_deg2_min/deg2_per_pix\n",
    "pix_per_beam_max = beam_area_deg2_max/deg2_per_pix\n",
    "pix_per_beam_med = beam_area_deg2_med/deg2_per_pix\n",
    "print(\"Minimum beam size in pixels: %2.0f\"%pix_per_beam_min)\n",
    "print(\"Maximum beam size in pixels: %2.0f\"%pix_per_beam_max)\n",
    "print(\"Median beam size in pixels: %2.0f\"%pix_per_beam_med)\n",
    "print(('Minimum beam size conversion (multipy by flux in mJy/beam to get MJy/Sr): %1.2f ')%(conv_min))\n",
    "print(('Maximum beam size conversion (multipy by flux in mJy/beam to get MJy/Sr): %1.2f ')%(conv_max))\n",
    "print(('Median beam size conversion (multipy by flux in mJy/beam to get MJy/Sr): %1.2f ')%(conv_med))"
   ]
  },
  {
   "cell_type": "code",
   "execution_count": 7,
   "metadata": {},
   "outputs": [
    {
     "ename": "NameError",
     "evalue": "name 'bmaj_array' is not defined",
     "output_type": "error",
     "traceback": [
      "\u001b[0;31m---------------------------------------------------------------------------\u001b[0m",
      "\u001b[0;31mNameError\u001b[0m                                 Traceback (most recent call last)",
      "\u001b[0;32m<ipython-input-7-ac0ceeab32ca>\u001b[0m in \u001b[0;36m<module>\u001b[0;34m\u001b[0m\n\u001b[1;32m      1\u001b[0m \u001b[0mdeg2_per_pix\u001b[0m \u001b[0;34m=\u001b[0m \u001b[0;34m(\u001b[0m\u001b[0;36m1.3889E-04\u001b[0m\u001b[0;34m)\u001b[0m\u001b[0;34m**\u001b[0m\u001b[0;36m2\u001b[0m\u001b[0;34m\u001b[0m\u001b[0;34m\u001b[0m\u001b[0m\n\u001b[0;32m----> 2\u001b[0;31m \u001b[0mbeam_area_deg2_arr\u001b[0m \u001b[0;34m=\u001b[0m \u001b[0;34m(\u001b[0m\u001b[0;34m(\u001b[0m\u001b[0mbmaj_array\u001b[0m\u001b[0;34m*\u001b[0m\u001b[0mbmin_array\u001b[0m\u001b[0;34m)\u001b[0m\u001b[0;34m)\u001b[0m\u001b[0;34m*\u001b[0m\u001b[0;34m(\u001b[0m\u001b[0mnp\u001b[0m\u001b[0;34m.\u001b[0m\u001b[0mpi\u001b[0m\u001b[0;34m/\u001b[0m\u001b[0;34m(\u001b[0m\u001b[0;36m4\u001b[0m\u001b[0;34m*\u001b[0m\u001b[0mnp\u001b[0m\u001b[0;34m.\u001b[0m\u001b[0mlog\u001b[0m\u001b[0;34m(\u001b[0m\u001b[0;36m2\u001b[0m\u001b[0;34m)\u001b[0m\u001b[0;34m)\u001b[0m\u001b[0;34m)\u001b[0m\u001b[0;34m\u001b[0m\u001b[0;34m\u001b[0m\u001b[0m\n\u001b[0m\u001b[1;32m      3\u001b[0m \u001b[0mbeam_area_sr_arr\u001b[0m \u001b[0;34m=\u001b[0m \u001b[0mbeam_area_deg2_arr\u001b[0m\u001b[0;34m/\u001b[0m\u001b[0;36m3282.8\u001b[0m\u001b[0;34m\u001b[0m\u001b[0;34m\u001b[0m\u001b[0m\n\u001b[1;32m      4\u001b[0m \u001b[0mconv_arr\u001b[0m\u001b[0;34m=\u001b[0m\u001b[0;34m(\u001b[0m\u001b[0;36m1.\u001b[0m\u001b[0;34m/\u001b[0m\u001b[0mbeam_area_sr_arr\u001b[0m\u001b[0;34m)\u001b[0m\u001b[0;34m/\u001b[0m\u001b[0;34m(\u001b[0m\u001b[0;36m1.0e9\u001b[0m\u001b[0;34m)\u001b[0m\u001b[0;34m\u001b[0m\u001b[0;34m\u001b[0m\u001b[0m\n\u001b[1;32m      5\u001b[0m \u001b[0mpix_per_beam_arr\u001b[0m \u001b[0;34m=\u001b[0m \u001b[0mbeam_area_deg2_arr\u001b[0m\u001b[0;34m/\u001b[0m\u001b[0mdeg2_per_pix\u001b[0m\u001b[0;34m\u001b[0m\u001b[0;34m\u001b[0m\u001b[0m\n",
      "\u001b[0;31mNameError\u001b[0m: name 'bmaj_array' is not defined"
     ]
    }
   ],
   "source": [
    "deg2_per_pix = (1.3889E-04)**2\n",
    "beam_area_deg2_arr = ((bmaj_array*bmin_array))*(np.pi/(4*np.log(2)))\n",
    "beam_area_sr_arr = beam_area_deg2_arr/3282.8\n",
    "conv_arr=(1./beam_area_sr_arr)/(1.0e9)\n",
    "pix_per_beam_arr = beam_area_deg2_arr/deg2_per_pix\n",
    "plt.close()\n",
    "plot,ax = plt.subplots((1),figsize=(5,5))\n",
    "ax.hist(conv_arr,color='cornflowerblue')\n",
    "ax.hist(conv_arr,histtype='step',color='k',lw=2)\n",
    "ax.set_ylabel('Num of regions')\n",
    "ax.set_xlabel('Conversion Factor from mJy/Beam to MJy/Sr')\n",
    "plt.show()"
   ]
  },
  {
   "cell_type": "code",
   "execution_count": null,
   "metadata": {},
   "outputs": [],
   "source": []
  },
  {
   "cell_type": "code",
   "execution_count": 6,
   "metadata": {},
   "outputs": [
    {
     "name": "stdout",
     "output_type": "stream",
     "text": [
      "1\n",
      "2\n",
      "3\n",
      "4\n",
      "5\n",
      "6\n",
      "7\n",
      "8\n",
      "9\n",
      "10\n",
      "11\n",
      "12\n",
      "13\n",
      "14\n",
      "15\n",
      "16\n",
      "17\n",
      "18\n",
      "19\n",
      "20\n",
      "21\n",
      "22\n",
      "23\n",
      "24\n",
      "25\n",
      "26\n",
      "27\n",
      "28\n",
      "29\n",
      "30\n",
      "31\n",
      "32\n",
      "33\n",
      "34\n",
      "35\n",
      "19035076\n"
     ]
    }
   ],
   "source": [
    "avg_array = np.zeros_like(np.arange(1,36))\n",
    "median_array = np.zeros_like(np.arange(1,36))\n",
    "for i in range(1,36):\n",
    "    print(i)\n",
    "    cond = region_mask[0].data==i\n",
    "    avg_array[i-1] = np.nanmean(rms[0].data[cond])\n",
    "    median_array[i-1] = np.nanmedian(rms[0].data[cond])\n",
    "print(median_array[-1])"
   ]
  },
  {
   "cell_type": "code",
   "execution_count": null,
   "metadata": {},
   "outputs": [],
   "source": []
  },
  {
   "cell_type": "code",
   "execution_count": 7,
   "metadata": {},
   "outputs": [
    {
     "data": {
      "image/png": "[encoded data removed]",
      "text/plain": [
       "<Figure size 288x288 with 1 Axes>"
      ]
     },
     "metadata": {
      "needs_background": "light"
     },
     "output_type": "display_data"
    }
   ],
   "source": [
    "plt.rcParams['axes.facecolor'] = 'white'\n",
    "fig,ax = plt.subplots(figsize=(4,4))\n",
    "\n",
    "#conv=beam_area_sr*1000.\n",
    "bins=np.logspace(6.6,8.3,15)\n",
    "bins = 1e7*np.linspace(1,10,15)\n",
    "#bins = bins*conv\n",
    "# ax.hist(avg_array*conv,alpha=0.4,bins=bins,hatch='\\ ', label='mean RMS noise')\n",
    "# ax.hist(avg_array*conv,bins=bins,histtype='step',color='k')\n",
    "ax.hist(avg_array,alpha=0.4,bins=bins,hatch='\\ ', label='mean RMS noise')\n",
    "ax.hist(avg_array,bins=bins,histtype='step',color='k')\n",
    "#ax.set_xscale('log')\n",
    "# ax.hist(median_array*conv,alpha=0.4,bins=bins,hatch='//',label='median RMS noise')\n",
    "# ax.hist(median_array*conv,bins=bins,histtype='step',color='k')\n",
    "ax.hist(median_array,alpha=0.4,bins=bins,hatch='//',label='median RMS noise')\n",
    "ax.hist(median_array,bins=bins,histtype='step',color='k')\n",
    "ax.set_xlabel('Flux (mJy/sr)')\n",
    "ax.set_ylabel('Number of Regions')\n",
    "ax.legend(loc='best')\n",
    "plt.show()"
   ]
  },
  {
   "cell_type": "code",
   "execution_count": 10,
   "metadata": {},
   "outputs": [
    {
     "ename": "NameError",
     "evalue": "name 'reg_names' is not defined",
     "output_type": "error",
     "traceback": [
      "\u001b[0;31m---------------------------------------------------------------------------\u001b[0m",
      "\u001b[0;31mNameError\u001b[0m                                 Traceback (most recent call last)",
      "\u001b[0;32m<ipython-input-10-dca0cfdaab20>\u001b[0m in \u001b[0;36m<module>\u001b[0;34m\u001b[0m\n\u001b[0;32m----> 1\u001b[0;31m \u001b[0mprint\u001b[0m\u001b[0;34m(\u001b[0m\u001b[0mmedian_array\u001b[0m\u001b[0;34m.\u001b[0m\u001b[0mshape\u001b[0m\u001b[0;34m,\u001b[0m\u001b[0mlen\u001b[0m\u001b[0;34m(\u001b[0m\u001b[0mreg_names\u001b[0m\u001b[0;34m)\u001b[0m\u001b[0;34m)\u001b[0m\u001b[0;34m\u001b[0m\u001b[0;34m\u001b[0m\u001b[0m\n\u001b[0m",
      "\u001b[0;31mNameError\u001b[0m: name 'reg_names' is not defined"
     ]
    }
   ],
   "source": [
    "print(median_array.shape,len(reg_names))"
   ]
  },
  {
   "cell_type": "code",
   "execution_count": 8,
   "metadata": {},
   "outputs": [
    {
     "data": {
      "image/png": "[encoded data removed]",
      "text/plain": [
       "<Figure size 360x288 with 1 Axes>"
      ]
     },
     "metadata": {
      "needs_background": "light"
     },
     "output_type": "display_data"
    },
    {
     "name": "stdout",
     "output_type": "stream",
     "text": [
      "52720049.19533064\n"
     ]
    }
   ],
   "source": [
    "fig,ax = plt.subplots(figsize=(5,4))\n",
    "bins=np.logspace(6.,9.,15)\n",
    "bins=bins*conv\n",
    "ax.set_xscale('log')\n",
    "ax.hist(conv*rms[0].data[np.logical_not(np.isnan(rms[0].data))],\n",
    "        alpha=0.4,bins=bins,label='RMS noise per pixel',color='tomato')\n",
    "ax.hist(conv*rms[0].data[np.logical_not(np.isnan(rms[0].data))],\n",
    "        alpha=1,bins=bins,color='k',histtype='step')\n",
    "ax.set_xlabel('Flux (Jy/sr)')\n",
    "ax.set_ylabel('Number of Regions')\n",
    "ax.set_yscale('log')\n",
    "ax.legend(loc='best')\n",
    "plt.show()\n",
    "print(np.median(conv*rms[0].data[np.logical_not(np.isnan(rms[0].data))]))"
   ]
  },
  {
   "cell_type": "code",
   "execution_count": null,
   "metadata": {},
   "outputs": [],
   "source": [
    "print(np.histogram(conv*rms[0].data[np.logical_not(np.isnan(rms[0].data))],bins=bins))\n"
   ]
  },
  {
   "cell_type": "code",
   "execution_count": 11,
   "metadata": {},
   "outputs": [
    {
     "name": "stdout",
     "output_type": "stream",
     "text": [
      "35\n"
     ]
    }
   ],
   "source": [
    "reg_names=['20kms_cloud.continuum.pbcor.fits',\n",
    "'G0.001-0.058.continuum.pbcor.fits',\n",
    "'G0.014+0.021.continuum.pbcor.fits',\n",
    "'G0.054+0.027.continuum.pbcor.fits',\n",
    "'G0.068-0.075.continuum.pbcor.fits',\n",
    "'G0.070-0.035.continuum.pbcor.fits',\n",
    "'G0.106-0.082.continuum.pbcor.fits',\n",
    "'G0.145-0.086.continuum.pbcor.fits',\n",
    "'G0.212-0.001.continuum.pbcor.fits',\n",
    "'G0.253+0.016.continuum.pbcor.fits',\n",
    "'G0.316-0.201.continuum.pbcor.fits',\n",
    "'G0.326-0.085.continuum.pbcor.fits',\n",
    "'G0.340+0.055.continuum.pbcor.fits',\n",
    "'G0.380+0.050.continuum.pbcor.fits',\n",
    "'G0.393-0.034.continuum.pbcor.fits',\n",
    "'G0.412+0.052.continuum.pbcor.fits',\n",
    "'G0.489+0.010.continuum.pbcor.fits',\n",
    "'G0.619+0.012.continuum.pbcor.fits',\n",
    "'G0.699-0.028.continuum.pbcor.fits',\n",
    "'G0.714-0.100.continuum.pbcor.fits',\n",
    "'G0.891-0.048.continuum.pbcor.fits',\n",
    "'G1.038-0.074.continuum.pbcor.fits',\n",
    "'G1.085-0.027.continuum.pbcor.fits',\n",
    "'G1.602+0.018.continuum.pbcor.fits',\n",
    "'G1.651-0.050.continuum.pbcor.fits',\n",
    "'G1.670-0.130.continuum.pbcor.fits',\n",
    "'G1.683-0.089.continuum.pbcor.fits',\n",
    "'G359.137+0.031.continuum.pbcor.fits',\n",
    "'G359.484-0.132.continuum.pbcor.fits',\n",
    "'G359.611+0.018.continuum.pbcor.fits',\n",
    "'G359.615-0.243.continuum.pbcor.fits',\n",
    "'G359.648-0.133.continuum.pbcor.fits',\n",
    "'G359.734+0.002.continuum.pbcor.fits',\n",
    "'G359.865+0.022.continuum.pbcor.fits',\n",
    "'G359.948-0.052.continuum.pbcor.fits']\n",
    "print(len(reg_names))\n",
    "      \n",
    "      "
   ]
  },
  {
   "cell_type": "code",
   "execution_count": 12,
   "metadata": {},
   "outputs": [],
   "source": [
    "bmin_array = np.zeros_like(reg_names,dtype='float')\n",
    "bmaj_array = np.zeros_like(reg_names,dtype='float')\n",
    "#path='/Users/hph/Dropbox/CMZoom_Data/continuum_images/Final_continuum_images/Continuum_pbcor/'\n",
    "path = '/Users/hph/Dropbox/CMZoom_Data/continuum_images/Final_continuum_images/Continuum_pbcor/'\n",
    "for i,name in enumerate(reg_names):\n",
    "    hdu = fits.open(path+name)\n",
    "    bmaj_array[i] = hdu[0].header['BMAJ']\n",
    "    bmin_array[i] = hdu[0].header['BMIN']\n",
    "    "
   ]
  },
  {
   "cell_type": "code",
   "execution_count": 13,
   "metadata": {},
   "outputs": [
    {
     "name": "stdout",
     "output_type": "stream",
     "text": [
      "1 \t 20kms_cloud.continuum.pbcor.fits \t 63998571.9 \t 4.0 \t 1.6\n",
      "2 \t G0.001-0.058.continuum.pbcor.fits \t 55492179.6 \t 4.2 \t 1.7\n",
      "3 \t G0.014+0.021.continuum.pbcor.fits \t 48665358.3 \t 3.4 \t 2.9\n",
      "4 \t G0.054+0.027.continuum.pbcor.fits \t 30854541.7 \t 3.6 \t 3.0\n",
      "5 \t G0.068-0.075.continuum.pbcor.fits \t 41680354.1 \t 3.3 \t 3.0\n",
      "6 \t G0.070-0.035.continuum.pbcor.fits \t 62127726.9 \t 4.2 \t 2.9\n",
      "7 \t G0.106-0.082.continuum.pbcor.fits \t 48957389.5 \t 3.4 \t 2.8\n",
      "8 \t G0.145-0.086.continuum.pbcor.fits \t 69659737.4 \t 3.4 \t 2.9\n",
      "9 \t G0.212-0.001.continuum.pbcor.fits \t 193309576.2 \t 3.3 \t 3.0\n",
      "10 \t G0.253+0.016.continuum.pbcor.fits \t 34529010.1 \t 4.3 \t 3.0\n",
      "11 \t G0.316-0.201.continuum.pbcor.fits \t 39594868.6 \t 3.5 \t 3.1\n",
      "12 \t G0.326-0.085.continuum.pbcor.fits \t 42444910.1 \t 3.1 \t 3.0\n",
      "13 \t G0.340+0.055.continuum.pbcor.fits \t 50630189.2 \t 3.0 \t 2.9\n",
      "14 \t G0.380+0.050.continuum.pbcor.fits \t 54597236.5 \t 3.0 \t 2.9\n",
      "15 \t G0.393-0.034.continuum.pbcor.fits \t 40716303.9 \t 3.4 \t 3.1\n",
      "16 \t G0.412+0.052.continuum.pbcor.fits \t 51834484.8 \t 3.0 \t 2.9\n",
      "17 \t G0.489+0.010.continuum.pbcor.fits \t 93712459.6 \t 4.0 \t 3.0\n",
      "18 \t G0.619+0.012.continuum.pbcor.fits \t 52787270.5 \t 6.3 \t 3.1\n",
      "19 \t G0.699-0.028.continuum.pbcor.fits \t 44745393.2 \t 3.1 \t 3.0\n",
      "20 \t G0.714-0.100.continuum.pbcor.fits \t 50218408.4 \t 3.4 \t 2.8\n",
      "21 \t G0.891-0.048.continuum.pbcor.fits \t 47008903.6 \t 3.6 \t 2.6\n",
      "22 \t G1.038-0.074.continuum.pbcor.fits \t 38779868.4 \t 3.8 \t 2.6\n",
      "23 \t G1.085-0.027.continuum.pbcor.fits \t 46228054.2 \t 3.2 \t 3.0\n",
      "24 \t G1.602+0.018.continuum.pbcor.fits \t 119604245.8 \t 4.6 \t 2.5\n",
      "25 \t G1.651-0.050.continuum.pbcor.fits \t 252924695.9 \t 3.1 \t 3.0\n",
      "26 \t G1.670-0.130.continuum.pbcor.fits \t 75623380.8 \t 5.2 \t 2.8\n",
      "27 \t G1.683-0.089.continuum.pbcor.fits \t 131276482.1 \t 5.0 \t 2.5\n",
      "28 \t G359.137+0.031.continuum.pbcor.fits \t 75831539.5 \t 3.7 \t 2.8\n",
      "29 \t G359.484-0.132.continuum.pbcor.fits \t 42021078.9 \t 4.1 \t 2.9\n",
      "30 \t G359.611+0.018.continuum.pbcor.fits \t 44180466.3 \t 3.3 \t 3.0\n",
      "31 \t G359.615-0.243.continuum.pbcor.fits \t 39119053.3 \t 3.3 \t 3.0\n",
      "32 \t G359.648-0.133.continuum.pbcor.fits \t 43090045.9 \t 4.1 \t 2.5\n",
      "33 \t G359.734+0.002.continuum.pbcor.fits \t 80049493.5 \t 3.3 \t 3.0\n",
      "34 \t G359.865+0.022.continuum.pbcor.fits \t 33873062.3 \t 4.0 \t 2.7\n",
      "35 \t G359.948-0.052.continuum.pbcor.fits \t 75553317.1 \t 3.7 \t 2.9\n"
     ]
    }
   ],
   "source": [
    "for i in range(len(reg_names)):\n",
    "    ap = conv*avg_array[i]\n",
    "    bp = conv*median_array[i]\n",
    "    cp = bmaj_array[i]*3600\n",
    "    dp = bmin_array[i]*3600\n",
    "    \n",
    "    print(i+1, '\\t', reg_names[i],'\\t',\"%.1f\"%bp,'\\t', \"%.1f\"%cp, '\\t', \"%.1f\"%dp)"
   ]
  },
  {
   "cell_type": "code",
   "execution_count": 14,
   "metadata": {},
   "outputs": [
    {
     "name": "stdout",
     "output_type": "stream",
     "text": [
      "1 \t 20kms_cloud.continuum.pbcor.fits \t 63998571.93 \t 4.02 \t 1.63\n",
      "2 \t G0.001-0.058.continuum.pbcor.fits \t 55492179.58 \t 4.17 \t 1.66\n",
      "3 \t G0.014+0.021.continuum.pbcor.fits \t 48665358.34 \t 3.44 \t 2.88\n",
      "4 \t G0.054+0.027.continuum.pbcor.fits \t 30854541.68 \t 3.57 \t 2.98\n",
      "5 \t G0.068-0.075.continuum.pbcor.fits \t 41680354.06 \t 3.30 \t 3.00\n",
      "6 \t G0.070-0.035.continuum.pbcor.fits \t 62127726.85 \t 4.23 \t 2.92\n",
      "7 \t G0.106-0.082.continuum.pbcor.fits \t 48957389.50 \t 3.44 \t 2.83\n",
      "8 \t G0.145-0.086.continuum.pbcor.fits \t 69659737.35 \t 3.35 \t 2.87\n",
      "9 \t G0.212-0.001.continuum.pbcor.fits \t 193309576.19 \t 3.27 \t 2.99\n",
      "10 \t G0.253+0.016.continuum.pbcor.fits \t 34529010.10 \t 4.31 \t 2.98\n",
      "11 \t G0.316-0.201.continuum.pbcor.fits \t 39594868.56 \t 3.47 \t 3.13\n",
      "12 \t G0.326-0.085.continuum.pbcor.fits \t 42444910.09 \t 3.11 \t 2.97\n",
      "13 \t G0.340+0.055.continuum.pbcor.fits \t 50630189.23 \t 3.01 \t 2.92\n",
      "14 \t G0.380+0.050.continuum.pbcor.fits \t 54597236.55 \t 3.00 \t 2.95\n",
      "15 \t G0.393-0.034.continuum.pbcor.fits \t 40716303.93 \t 3.39 \t 3.06\n",
      "16 \t G0.412+0.052.continuum.pbcor.fits \t 51834484.85 \t 2.99 \t 2.92\n",
      "17 \t G0.489+0.010.continuum.pbcor.fits \t 93712459.56 \t 4.02 \t 2.98\n",
      "18 \t G0.619+0.012.continuum.pbcor.fits \t 52787270.49 \t 6.29 \t 3.05\n",
      "19 \t G0.699-0.028.continuum.pbcor.fits \t 44745393.24 \t 3.05 \t 2.98\n",
      "20 \t G0.714-0.100.continuum.pbcor.fits \t 50218408.43 \t 3.35 \t 2.82\n",
      "21 \t G0.891-0.048.continuum.pbcor.fits \t 47008903.63 \t 3.64 \t 2.58\n",
      "22 \t G1.038-0.074.continuum.pbcor.fits \t 38779868.44 \t 3.78 \t 2.61\n",
      "23 \t G1.085-0.027.continuum.pbcor.fits \t 46228054.18 \t 3.18 \t 2.97\n",
      "24 \t G1.602+0.018.continuum.pbcor.fits \t 119604245.75 \t 4.57 \t 2.51\n",
      "25 \t G1.651-0.050.continuum.pbcor.fits \t 252924695.92 \t 3.11 \t 2.96\n",
      "26 \t G1.670-0.130.continuum.pbcor.fits \t 75623380.76 \t 5.18 \t 2.85\n",
      "27 \t G1.683-0.089.continuum.pbcor.fits \t 131276482.11 \t 5.01 \t 2.49\n",
      "28 \t G359.137+0.031.continuum.pbcor.fits \t 75831539.54 \t 3.68 \t 2.84\n",
      "29 \t G359.484-0.132.continuum.pbcor.fits \t 42021078.91 \t 4.11 \t 2.91\n",
      "30 \t G359.611+0.018.continuum.pbcor.fits \t 44180466.25 \t 3.34 \t 2.97\n",
      "31 \t G359.615-0.243.continuum.pbcor.fits \t 39119053.25 \t 3.30 \t 3.00\n",
      "32 \t G359.648-0.133.continuum.pbcor.fits \t 43090045.92 \t 4.07 \t 2.55\n",
      "33 \t G359.734+0.002.continuum.pbcor.fits \t 80049493.52 \t 3.26 \t 3.02\n",
      "34 \t G359.865+0.022.continuum.pbcor.fits \t 33873062.27 \t 4.04 \t 2.69\n",
      "35 \t G359.948-0.052.continuum.pbcor.fits \t 75553317.10 \t 3.68 \t 2.86\n"
     ]
    }
   ],
   "source": [
    "for i in range(len(reg_names)):\n",
    "\n",
    "    ap = conv*median_array[i]\n",
    "    bp = bmaj_array[i]*3600\n",
    "    cp = bmin_array[i]*3600\n",
    "    print(i+1, '\\t', reg_names[i],'\\t', \"%.2f\"%ap,'\\t',\"%.2f\"%bp,'\\t', \"%.2f\"%cp)\n",
    "#     print(reg_names[i],'\\t',\n",
    "#           conv*median_array[i],'\\t',\n",
    "#           bmaj_array[i]*3600,'\\t',\n",
    "#           bmin_array[i]*3600)"
   ]
  },
  {
   "cell_type": "code",
   "execution_count": 15,
   "metadata": {},
   "outputs": [
    {
     "data": {
      "image/png": "[encoded data removed]",
      "text/plain": [
       "<Figure size 288x288 with 1 Axes>"
      ]
     },
     "metadata": {
      "needs_background": "light"
     },
     "output_type": "display_data"
    }
   ],
   "source": [
    "fig,ax = plt.subplots(figsize=(4,4))\n",
    "from matplotlib import rc\n",
    "rc('font',**{'family':'sans-serif','sans-serif':['Helvetica']})\n",
    "## for Palatino and other serif fonts use:\n",
    "#rc('font',**{'family':'serif','serif':['Palatino']})\n",
    "rc('text', usetex=True)\n",
    "bins=np.linspace(2,5,15)\n",
    "beam_theta = ((bmaj_array*3600)*(bmin_array*3600))**0.5\n",
    "ax.hist(beam_theta,alpha=0.8,bins=bins, \n",
    "        label='Beam $ (\\Theta_{min} \\Theta_{maj})^{1/2}$',color='cornflowerblue')\n",
    "ax.hist(((bmaj_array*3600)*(bmin_array*3600))**0.5,bins=bins,histtype='step',color='k')\n",
    "#ax.set_xscale('log')\n",
    "ax.set_xlabel('Arcsec')\n",
    "ax.set_ylabel('Number of Regions')\n",
    "ax.legend(loc='best')\n",
    "plt.show()"
   ]
  },
  {
   "cell_type": "code",
   "execution_count": 16,
   "metadata": {},
   "outputs": [
    {
     "name": "stdout",
     "output_type": "stream",
     "text": [
      "2.561945483728625 4.382642777255319\n",
      "[3.06731292 3.29815818]\n",
      "3.1451616917291094 3.214830530862251\n"
     ]
    }
   ],
   "source": [
    "print(np.min(beam_theta),np.max(beam_theta))\n",
    "print(np.percentile(beam_theta,[25,75]))\n",
    "print(np.median(beam_theta),np.mean(beam_theta))"
   ]
  },
  {
   "cell_type": "code",
   "execution_count": 17,
   "metadata": {},
   "outputs": [
    {
     "data": {
      "image/png": "[encoded data removed]",
      "text/plain": [
       "<Figure size 288x288 with 1 Axes>"
      ]
     },
     "metadata": {
      "needs_background": "light"
     },
     "output_type": "display_data"
    }
   ],
   "source": [
    "fig,ax = plt.subplots(figsize=(4,4))\n",
    "bins=np.linspace(0.0001*3600,0.0022*3600,15)\n",
    "ax.hist(bmaj_array*3600,alpha=0.4,bins=bins,hatch='\\ ', label='Beam Major Axis',color='green')\n",
    "ax.hist(bmaj_array*3600,bins=bins,histtype='step',color='k')\n",
    "#ax.set_xscale('log')\n",
    "ax.hist(bmin_array*3600,alpha=0.4,bins=bins,hatch='//',label='Beam Minor Axis',color='violet')\n",
    "ax.hist(bmin_array*3600,bins=bins,histtype='step',color='k')\n",
    "ax.set_xlabel('Arcsec')\n",
    "ax.set_ylabel('Number of Regions')\n",
    "ax.legend(loc='best')\n",
    "plt.show()"
   ]
  },
  {
   "cell_type": "code",
   "execution_count": 106,
   "metadata": {},
   "outputs": [
    {
     "name": "stdout",
     "output_type": "stream",
     "text": [
      "[3.26765347 4.06791544]\n",
      "2.99056768417368 6.2929320335388\n",
      "[2.70823503 2.97743225]\n",
      "1.63229286670668 3.13176035881044\n"
     ]
    }
   ],
   "source": [
    "#print(np.min(bmin_array),np.max(bmin_array))\n",
    "#print(np.min(bmaj_array),np.max(bmaj_array))\n",
    "print(np.percentile(bmin_array*3600,[25,75]))\n",
    "print(np.min(bmin_array)*3600,np.max(bmin_array)*3600)\n",
    "print(np.percentile(bmaj_array*3600,[25,75]))\n",
    "print(np.min(bmaj_array)*3600,np.max(bmaj_array)*3600)"
   ]
  },
  {
   "cell_type": "code",
   "execution_count": 32,
   "metadata": {},
   "outputs": [
    {
     "data": {
      "image/png": "[encoded data removed]",
      "text/plain": [
       "<Figure size 720x360 with 4 Axes>"
      ]
     },
     "metadata": {
      "needs_background": "light"
     },
     "output_type": "display_data"
    }
   ],
   "source": [
    "fig,axes = plt.subplots(2,2,figsize=(10,5))\n",
    "bins=np.logspace(6.5,8.6,15)\n",
    "bins= bins*conv\n",
    "axes[0][0].hist(conv*avg_array,alpha=0.4,bins=bins,hatch='\\ ', label='mean RMS noise')\n",
    "axes[0][0].hist(conv*avg_array,bins=bins,histtype='step',color='k')\n",
    "axes[0][0].set_xscale('log')\n",
    "axes[0][0].hist(conv*median_array,alpha=0.4,bins=bins,hatch='//',label='median RMS noise')\n",
    "axes[0][0].hist(conv*median_array,bins=bins,histtype='step',color='k')\n",
    "axes[0][0].set_xlabel('Flux (mJy/beam)')\n",
    "axes[0][0].set_ylabel('Number of Regions')\n",
    "axes[0][0].legend(loc='best')\n",
    "\n",
    "bins=np.logspace(6.,9.,50)\n",
    "bins=bins*conv\n",
    "axes[0][1].set_xscale('log')\n",
    "axes[0][1].hist(conv*rms[0].data[np.logical_not(np.isnan(rms[0].data))],\n",
    "        alpha=0.4,bins=bins,label='RMS noise per pixel',color='tomato')\n",
    "axes[0][1].hist(conv*rms[0].data[np.logical_not(np.isnan(rms[0].data))],\n",
    "        alpha=1,bins=bins,color='k',histtype='step')\n",
    "axes[0][1].set_xlabel('Flux (mJy/beam)')\n",
    "axes[0][1].set_ylabel('Number of Pixels')\n",
    "axes[0][1].set_yscale('log')\n",
    "axes[0][1].legend(loc='best')\n",
    "\n",
    "bins=np.linspace(0.0001*3600,0.0022*3600,15)\n",
    "axes[1][0].hist(bmaj_array*3600,alpha=0.4,bins=bins,hatch='\\ ', label='Beam Major Axis',color='green')\n",
    "axes[1][0].hist(bmaj_array*3600,bins=bins,histtype='step',color='k')\n",
    "#axes[1][0].set_xscale('log')\n",
    "axes[1][0].hist(bmin_array*3600,alpha=0.4,bins=bins,hatch='//',label='Beam Minor Axis',color='violet')\n",
    "axes[1][0].hist(bmin_array*3600,bins=bins,histtype='step',color='k')\n",
    "axes[1][0].set_xlabel('Arcsec')\n",
    "axes[1][0].set_ylabel('Number of Regions')\n",
    "axes[1][0].legend(loc='best')\n",
    "\n",
    "bins=np.linspace(2,5,15)\n",
    "beam_theta = ((bmaj_array*3600)*(bmin_array*3600))**0.5\n",
    "axes[1][1].hist(beam_theta,alpha=0.8,bins=bins, \n",
    "        label='Beam $ (\\Theta_{min} \\Theta_{maj})^{1/2}$',color='cornflowerblue')\n",
    "axes[1][1].hist(((bmaj_array*3600)*(bmin_array*3600))**0.5,bins=bins,histtype='step',color='k')\n",
    "#axes[1][1].set_xscale('log')\n",
    "axes[1][1].set_xlabel('Arcsec')\n",
    "axes[1][1].set_ylabel('Number of Regions')\n",
    "axes[1][1].legend(loc='best')\n",
    "plt.tight_layout()\n",
    "plt.savefig('/Users/hph/cmzoom_catalog/rms_fig.pdf')\n",
    "plt.show()"
   ]
  },
  {
   "cell_type": "code",
   "execution_count": 79,
   "metadata": {},
   "outputs": [
    {
     "name": "stdout",
     "output_type": "stream",
     "text": [
      "[  0.27575603   0.29568415   0.31705242   0.33996492   0.36453324\n",
      "   0.39087704   0.41912464   0.44941362   0.48189149   0.51671645\n",
      "   0.55405811   0.59409835   0.63703219   0.68306873   0.73243221\n",
      "   0.78536306   0.84211906   0.90297667   0.96823228   1.03820374\n",
      "   1.11323184   1.19368201   1.2799461    1.37244424   1.47162698\n",
      "   1.57797737   1.69201341   1.81429052   1.94540426   2.08599322\n",
      "   2.23674215   2.3983853    2.57170994   2.75756027   2.95684149\n",
      "   3.17052421   3.39964919   3.64533239   3.90877044   4.19124642\n",
      "   4.49413615   4.81891489   5.16716448   5.5405811    5.94098351\n",
      "   6.37032188   6.83068735   7.32432215   7.85363056   8.42119062\n",
      "   9.02976668   9.68232283  10.3820374   11.13231841  11.93682013\n",
      "  12.79946096  13.72444245  14.71626978  15.77977371  16.92013412\n",
      "  18.14290521  19.45404257  20.85993218  22.36742153  23.98385295\n",
      "  25.71709938  27.57560271  29.56841491  31.70524212  33.99649189\n",
      "  36.45332391  39.08770437  41.91246418  44.94136153  48.18914888\n",
      "  51.6716448   55.40581103  59.40983507  63.70321881  68.30687347\n",
      "  73.24322146  78.53630561  84.21190624  90.29766676  96.8232283\n",
      " 103.82037403 111.32318405 119.36820131 127.99460961 137.24442448\n",
      " 147.16269777 157.79773713 169.20134123 181.42905212 194.54042571\n",
      " 208.59932184 223.67421534 239.83852952 257.17099378 275.75602708]\n"
     ]
    }
   ],
   "source": [
    "hist_arr = []\n",
    "conv=beam_area_sr*1000.\n",
    "bins=np.logspace(6.,9.,100)\n",
    "print(bins*conv)\n",
    "\n",
    "for i in range(1,30):\n",
    "    cond = region_mask[0].data==i\n",
    "    temp_rms_data = rms[0].data[cond]\n",
    "    hist_arr.append(np.histogram(temp_rms_data[np.logical_not(np.isnan(temp_rms_data))],bins=bins))"
   ]
  },
  {
   "cell_type": "code",
   "execution_count": 90,
   "metadata": {},
   "outputs": [
    {
     "data": {
      "image/png": "[encoded data removed]",
      "text/plain": [
       "<Figure size 360x288 with 1 Axes>"
      ]
     },
     "metadata": {
      "needs_background": "light"
     },
     "output_type": "display_data"
    }
   ],
   "source": [
    "fig,ax = plt.subplots(figsize=(5,4))\n",
    "ax.set_xscale('log')\n",
    "for i in range(len(hist_arr)):\n",
    "    cond = region_mask[0].data==i\n",
    "    temp_rms_data = rms[0].data[cond]\n",
    "    ax.hist(conv*temp_rms_data[np.logical_not(np.isnan(temp_rms_data))],bins=bins*conv,alpha=0.4,histtype='step')\n",
    "ax.set_xlabel('Flux (mJy/beam)')\n",
    "ax.set_ylabel('number of pixels')\n",
    "ax.set_yscale('log')\n",
    "#ax.legend(loc='best')\n",
    "plt.show()"
   ]
  },
  {
   "cell_type": "code",
   "execution_count": null,
   "metadata": {},
   "outputs": [],
   "source": []
  },
  {
   "cell_type": "code",
   "execution_count": null,
   "metadata": {},
   "outputs": [],
   "source": []
  },
  {
   "cell_type": "code",
   "execution_count": null,
   "metadata": {},
   "outputs": [],
   "source": [
    "# avg_array = np.zeros_like(np.arange(1,30))\n",
    "# median_array = np.zeros_like(np.arange(1,30))\n",
    "# for i in range(1,30):\n",
    "#     cond = region_mask[0].data==i\n",
    "#     avg_array[i-1] = np.nanmean(rms[0].data[cond])\n",
    "#     median_array[i-1] = np.nanmedian(rms[0].data[cond])\n"
   ]
  },
  {
   "cell_type": "code",
   "execution_count": 9,
   "metadata": {},
   "outputs": [],
   "source": [
    "reg_names=np.array(['G0.001-0.058.continuum_regrid.fits',\n",
    "'G0.014+0.021.continuum_regrid.fits',\n",
    "'G0.054+0.027.continuum_regrid.fits',\n",
    "'G0.068-0.075.continuum_regrid.fits',\n",
    "'G0.070-0.035.continuum_regrid.fits',\n",
    "'G0.106-0.082.continuum_regrid.fits',\n",
    "'G0.145-0.086.continuum_regrid.fits',\n",
    "'G0.212-0.001.continuum_regrid.fits',\n",
    "'G0.253+0.016.continuum_regrid.fits',\n",
    "'G0.316-0.201.continuum_regrid.fits',\n",
    "'G0.326-0.085.continuum_regrid.fits',\n",
    "'G0.340+0.055.continuum_regrid.fits',\n",
    "'G0.380+0.050.continuum_regrid.fits',\n",
    "'G0.412+0.052.continuum_regrid.fits',\n",
    "'G0.489+0.010.continuum_regrid.fits',\n",
    "'G0.619+0.012.continuum_regrid.fits',\n",
    "'G0.699-0.028.continuum_regrid.fits',\n",
    "'G0.714-0.100.continuum_regrid.fits',\n",
    "'G0.891-0.048.continuum_regrid.fits',\n",
    "'G1.038-0.074.continuum_regrid.fits',\n",
    "'G1.085-0.027.continuum_regrid.fits',\n",
    "'G1.602+0.018.continuum_regrid.fits',\n",
    "'G1.651-0.050.continuum_regrid.fits',\n",
    "'G1.670-0.130.continuum_regrid.fits',\n",
    "'G1.683-0.089.continuum_regrid.fits',\n",
    "'G359.137+0.031.continuum_regrid.fits',\n",
    "'G359.484-0.132.continuum_regrid.fits',\n",
    "'G359.611+0.018.continuum_regrid.fits',\n",
    "'G359.615-0.243.continuum_regrid.fits',\n",
    "'G359.648-0.133.continuum_regrid.fits',\n",
    "'G359.734+0.002.continuum_regrid.fits',\n",
    "'G359.863-0.069.continuum_regrid.fits',\n",
    "'G359.865+0.022.continuum_regrid.fits',\n",
    "'G359.889-0.093.continuum_regrid.fits'])\n",
    "\n",
    "# ,\n",
    "# 'G359.948-0.052.continuum_regrid.fits'\n",
    "# 'G0.393-0.034.continuum_regrid.fits',\n",
    "# 'G1.127-0.106.continuum_regrid.fits',\n"
   ]
  },
  {
   "cell_type": "code",
   "execution_count": 18,
   "metadata": {},
   "outputs": [],
   "source": [
    "# images = np.array(['G1.683-0.089.continuum.pbcor.fits','G1.670-0.130.continuum.pbcor.fits',\\\n",
    "#                       'G1.651-0.050.continuum.pbcor.fits','G1.602+0.018.continuum.pbcor.fits',\\\n",
    "#                       'G1.085-0.027.continuum.pbcor.fits',\\\n",
    "#                       'G1.038-0.074.continuum.pbcor.fits','G0.891-0.048.continuum.pbcor.fits',\\\n",
    "#                       'G0.714-0.100.continuum.pbcor.fits','G0.699-0.028.continuum.pbcor.fits',\\\n",
    "#                       'G0.619+0.012.continuum.pbcor.fits',\\\n",
    "#                       'G0.489+0.010.continuum.pbcor.fits','G0.412+0.052.continuum.pbcor.fits',\\\n",
    "#                       'G0.380+0.050.continuum.pbcor.fits',\\\n",
    "#                       'G0.340+0.055.continuum.pbcor.fits','G0.326-0.085.continuum.pbcor.fits',\\\n",
    "#                       'G0.316-0.201.continuum.pbcor.fits',\\\n",
    "#                       'G0.253+0.016.continuum.pbcor.fits',\\\n",
    "#                       'G0.212-0.001.continuum.pbcor.fits',\\\n",
    "#                       'G0.145-0.086.continuum.pbcor.fits',\\\n",
    "#                       'G0.106-0.082.continuum.pbcor.fits','G0.070-0.035.continuum.pbcor.fits',\\\n",
    "#                       'G0.068-0.075.continuum.pbcor.fits','G0.054+0.027.continuum.pbcor.fits',\\\n",
    "#                       'G0.014+0.021.continuum.pbcor.fits','G0.001-0.058.continuum.pbcor.fits',\\\n",
    "#                       'G359.889-0.093.continuum.pbcor.fits','G359.865+0.022.continuum.pbcor.fits',\\\n",
    "#                       'G359.863-0.069.continuum.pbcor.fits','G359.734+0.002.continuum.pbcor.fits',\\\n",
    "#                       'G359.648-0.133.continuum.pbcor.fits',\\\n",
    "#                       'G359.611+0.018.continuum.pbcor.fits',\\\n",
    "#                       'G359.615-0.243.continuum.pbcor.fits','G359.484-0.132.continuum.pbcor.fits',\\\n",
    "#                       'G359.137+0.031.continuum.pbcor.fits'])\n",
    "images = np.array(['G1.683-0.089.continuum_regrid.fits','G1.670-0.130.continuum_regrid.fits',\\\n",
    "                      'G1.651-0.050.continuum_regrid.fits','G1.602+0.018.continuum_regrid.fits',\\\n",
    "                      'G1.085-0.027.continuum_regrid.fits',\\\n",
    "                      'G1.038-0.074.continuum_regrid.fits','G0.891-0.048.continuum_regrid.fits',\\\n",
    "                      'G0.714-0.100.continuum_regrid.fits','G0.699-0.028.continuum_regrid.fits',\\\n",
    "                      'G0.619+0.012.continuum_regrid.fits',\\\n",
    "                      'G0.489+0.010.continuum_regrid.fits','G0.412+0.052.continuum_regrid.fits',\\\n",
    "                      'G0.380+0.050.continuum_regrid.fits',\\\n",
    "                      'G0.340+0.055.continuum_regrid.fits','G0.326-0.085.continuum_regrid.fits',\\\n",
    "                      'G0.316-0.201.continuum_regrid.fits',\\\n",
    "                      'G0.253+0.016.continuum_regrid.fits',\\\n",
    "                      'G0.212-0.001.continuum_regrid.fits',\\\n",
    "                      'G0.145-0.086.continuum_regrid.fits',\\\n",
    "                      'G0.106-0.082.continuum_regrid.fits','G0.070-0.035.continuum_regrid.fits',\\\n",
    "                      'G0.068-0.075.continuum_regrid.fits','G0.054+0.027.continuum_regrid.fits',\\\n",
    "                      'G0.014+0.021.continuum_regrid.fits','G0.001-0.058.continuum_regrid.fits',\\\n",
    "                      'G359.889-0.093.continuum_regrid.fits','G359.865+0.022.continuum_regrid.fits',\\\n",
    "                      'G359.863-0.069.continuum_regrid.fits','G359.734+0.002.continuum_regrid.fits',\\\n",
    "                      'G359.648-0.133.continuum_regrid.fits',\\\n",
    "                      'G359.611+0.018.continuum_regrid.fits',\\\n",
    "                      'G359.615-0.243.continuum_regrid.fits','G359.484-0.132.continuum_regrid.fits',\\\n",
    "                      'G359.137+0.031.continuum_regrid.fits'])"
   ]
  },
  {
   "cell_type": "code",
   "execution_count": 11,
   "metadata": {},
   "outputs": [
    {
     "name": "stdout",
     "output_type": "stream",
     "text": [
      "34 34\n",
      "G1.683-0.089.continuum_regrid.fits \t G0.001-0.058.continuum_regrid.fits\n",
      "G1.670-0.130.continuum_regrid.fits \t G0.014+0.021.continuum_regrid.fits\n",
      "G1.651-0.050.continuum_regrid.fits \t G0.054+0.027.continuum_regrid.fits\n",
      "G1.602+0.018.continuum_regrid.fits \t G0.068-0.075.continuum_regrid.fits\n",
      "G1.085-0.027.continuum_regrid.fits \t G0.070-0.035.continuum_regrid.fits\n",
      "G1.038-0.074.continuum_regrid.fits \t G0.106-0.082.continuum_regrid.fits\n",
      "G0.891-0.048.continuum_regrid.fits \t G0.145-0.086.continuum_regrid.fits\n",
      "G0.714-0.100.continuum_regrid.fits \t G0.212-0.001.continuum_regrid.fits\n",
      "G0.699-0.028.continuum_regrid.fits \t G0.253+0.016.continuum_regrid.fits\n",
      "G0.619+0.012.continuum_regrid.fits \t G0.316-0.201.continuum_regrid.fits\n",
      "G0.489+0.010.continuum_regrid.fits \t G0.326-0.085.continuum_regrid.fits\n",
      "G0.412+0.052.continuum_regrid.fits \t G0.340+0.055.continuum_regrid.fits\n",
      "G0.380+0.050.continuum_regrid.fits \t G0.380+0.050.continuum_regrid.fits\n",
      "G0.340+0.055.continuum_regrid.fits \t G0.412+0.052.continuum_regrid.fits\n",
      "G0.326-0.085.continuum_regrid.fits \t G0.489+0.010.continuum_regrid.fits\n",
      "G0.316-0.201.continuum_regrid.fits \t G0.619+0.012.continuum_regrid.fits\n",
      "G0.253+0.016.continuum_regrid.fits \t G0.699-0.028.continuum_regrid.fits\n",
      "G0.212-0.001.continuum_regrid.fits \t G0.714-0.100.continuum_regrid.fits\n",
      "G0.145-0.086.continuum_regrid.fits \t G0.891-0.048.continuum_regrid.fits\n",
      "G0.106-0.082.continuum_regrid.fits \t G1.038-0.074.continuum_regrid.fits\n",
      "G0.070-0.035.continuum_regrid.fits \t G1.085-0.027.continuum_regrid.fits\n",
      "G0.068-0.075.continuum_regrid.fits \t G1.602+0.018.continuum_regrid.fits\n",
      "G0.054+0.027.continuum_regrid.fits \t G1.651-0.050.continuum_regrid.fits\n",
      "G0.014+0.021.continuum_regrid.fits \t G1.670-0.130.continuum_regrid.fits\n",
      "G0.001-0.058.continuum_regrid.fits \t G1.683-0.089.continuum_regrid.fits\n",
      "G359.889-0.093.continuum_regrid.fits \t G359.137+0.031.continuum_regrid.fits\n",
      "G359.865+0.022.continuum_regrid.fits \t G359.484-0.132.continuum_regrid.fits\n",
      "G359.863-0.069.continuum_regrid.fits \t G359.611+0.018.continuum_regrid.fits\n",
      "G359.734+0.002.continuum_regrid.fits \t G359.615-0.243.continuum_regrid.fits\n",
      "G359.648-0.133.continuum_regrid.fits \t G359.648-0.133.continuum_regrid.fits\n",
      "G359.611+0.018.continuum_regrid.fits \t G359.734+0.002.continuum_regrid.fits\n",
      "G359.615-0.243.continuum_regrid.fits \t G359.863-0.069.continuum_regrid.fits\n",
      "G359.484-0.132.continuum_regrid.fits \t G359.865+0.022.continuum_regrid.fits\n",
      "G359.137+0.031.continuum_regrid.fits \t G359.889-0.093.continuum_regrid.fits\n",
      "[] []\n",
      "[]\n"
     ]
    }
   ],
   "source": [
    "print(len(reg_names),len(images))\n",
    "for i in range(len(images)):\n",
    "    print(images[i],'\\t',reg_names[i])\n",
    "    \n",
    "missing1 = np.argwhere(np.logical_not(np.isin(images,reg_names))).T\n",
    "missing2 = np.argwhere(np.logical_not(np.isin(reg_names,images))).T\n",
    "print(missing1[0], missing2[0])\n",
    "#print(images[missing1[0][0]],images[missing1[0][1]])\n",
    "print(reg_names[missing2])"
   ]
  },
  {
   "cell_type": "code",
   "execution_count": 61,
   "metadata": {
    "scrolled": true
   },
   "outputs": [
    {
     "data": {
      "text/plain": [
       "array(['G1.683-0.089.continuum.pbcor.fits',\n",
       "       'G1.670-0.130.continuum.pbcor.fits',\n",
       "       'G1.651-0.050.continuum.pbcor.fits',\n",
       "       'G1.602+0.018.continuum.pbcor.fits',\n",
       "       'G1.085-0.027.continuum.pbcor.fits',\n",
       "       'G1.038-0.074.continuum.pbcor.fits',\n",
       "       'G0.891-0.048.continuum.pbcor.fits',\n",
       "       'G0.714-0.100.continuum.pbcor.fits',\n",
       "       'G0.699-0.028.continuum.pbcor.fits',\n",
       "       'G0.619+0.012.continuum.pbcor.fits',\n",
       "       'G0.489+0.010.continuum.pbcor.fits',\n",
       "       'G0.412+0.052.continuum.pbcor.fits',\n",
       "       'G0.380+0.050.continuum.pbcor.fits',\n",
       "       'G0.340+0.055.continuum.pbcor.fits',\n",
       "       'G0.326-0.085.continuum.pbcor.fits',\n",
       "       'G0.316-0.201.continuum.pbcor.fits',\n",
       "       'G0.253+0.016.continuum.pbcor.fits',\n",
       "       'G0.212-0.001.continuum.pbcor.fits',\n",
       "       'G0.145-0.086.continuum.pbcor.fits',\n",
       "       'G0.106-0.082.continuum.pbcor.fits',\n",
       "       'G0.070-0.035.continuum.pbcor.fits',\n",
       "       'G0.068-0.075.continuum.pbcor.fits',\n",
       "       'G0.054+0.027.continuum.pbcor.fits',\n",
       "       'G0.014+0.021.continuum.pbcor.fits',\n",
       "       'G0.001-0.058.continuum.pbcor.fits',\n",
       "       'G359.889-0.093.continuum.pbcor.fits',\n",
       "       'G359.865+0.022.continuum.pbcor.fits',\n",
       "       'G359.863-0.069.continuum.pbcor.fits',\n",
       "       'G359.734+0.002.continuum.pbcor.fits',\n",
       "       'G359.648-0.133.continuum.pbcor.fits',\n",
       "       'G359.611+0.018.continuum.pbcor.fits',\n",
       "       'G359.615-0.243.continuum.pbcor.fits',\n",
       "       'G359.484-0.132.continuum.pbcor.fits',\n",
       "       'G359.137+0.031.continuum.pbcor.fits'], dtype='<U35')"
      ]
     },
     "execution_count": 61,
     "metadata": {},
     "output_type": "execute_result"
    }
   ],
   "source": []
  },
  {
   "cell_type": "code",
   "execution_count": null,
   "metadata": {},
   "outputs": [],
   "source": []
  },
  {
   "cell_type": "code",
   "execution_count": 23,
   "metadata": {},
   "outputs": [
    {
     "data": {
      "image/png": "[encoded data removed]",
      "text/plain": [
       "<Figure size 864x288 with 3 Axes>"
      ]
     },
     "metadata": {
      "needs_background": "light"
     },
     "output_type": "display_data"
    }
   ],
   "source": [
    "############################################################\n",
    "### new version of multi panel figure for overview paper\n",
    "############################################################\n",
    "\n",
    "fig,axes = plt.subplots(1,3,figsize=(12,4))\n",
    "bins=np.logspace(6.6,8.3,15)\n",
    "bins = 1e7*np.linspace(1,10,15)/1e6\n",
    "ax = axes[0]\n",
    "ax.hist(avg_array/1e6,alpha=0.2,bins=bins,hatch='\\\\\\\\', label='mean RMS noise',color='green')\n",
    "ax.hist(avg_array/1e6,bins=bins,histtype='step',color='k')\n",
    "ax.hist(median_array/1e6,alpha=0.2,bins=bins,hatch='//',label='median RMS noise',color='blue')\n",
    "ax.hist(median_array/1e6,bins=bins,histtype='step',color='k')\n",
    "ax.set_xlabel('RMS Flux MJy sr$^{-1}$ ')\n",
    "ax.set_ylabel('Number of Regions')\n",
    "ax.plot([np.median(median_array/1e6),np.median(median_array/1e6)],[0,30],\n",
    "        color='red',ls ='--',label='Median RMS of all regions')\n",
    "ax.set_ylim(0,30)\n",
    "#ax12 = ax.twiny()\n",
    "#ticks = ax.get_xticks()            # Get locations and labels\n",
    "#ticks = np.array([0.,5.6,11.3,16.9,22.5,28.1,33.8])\n",
    "#ax12.set_xticks(ticks)  # Set locations and labels\n",
    "#ax12.set_xlabel('RMS Flux mJy Beam$^{-1}$')\n",
    "ax.legend(loc='best')\n",
    "\n",
    "bins=np.linspace(0.0001*3600,0.0022*3600,15)\n",
    "axes[1].hist(bmaj_array*3600,alpha=0.2,bins=bins,hatch='\\\\\\\\', label='BMAJ',color='green')\n",
    "axes[1].hist(bmaj_array*3600,bins=bins,histtype='step',color='k')\n",
    "axes[1].hist(bmin_array*3600,alpha=0.2,bins=bins,hatch='//',label='BMIN',color='blue')\n",
    "axes[1].plot([np.median(bmaj_array*3600),np.median(bmaj_array*3600)],[0,40],\n",
    "             color='blue',ls ='--',label = 'Median BMAJ')\n",
    "axes[1].plot([np.median(bmin_array*3600),np.median(bmin_array*3600)],[0,40],\n",
    "             color='red',ls ='--',label = 'Median BMIN')\n",
    "axes[1].hist(bmin_array*3600,bins=bins,histtype='step',color='k')\n",
    "axes[1].set_xlabel('Arcsec')\n",
    "axes[1].set_ylim(0,30.5)\n",
    "axes[1].set_ylabel('Number of Regions')\n",
    "axes[1].legend(loc='best')\n",
    "\n",
    "bins=np.linspace(2,5,15)\n",
    "beam_theta = ((bmaj_array*3600)*(bmin_array*3600))**0.5\n",
    "axes[2].hist(beam_theta,alpha=0.2,bins=bins, \n",
    "        label='$ (\\Theta_{min} \\Theta_{maj})^{1/2}$',color='green')\n",
    "axes[2].hist(beam_theta,bins=bins,histtype='step',color='k')\n",
    "axes[2].plot([np.median(beam_theta),np.median(beam_theta)],[0,30],\n",
    "             color='red',ls ='--',label = 'Median avg. beam')\n",
    "axes[2].set_xlabel('Arcsec')\n",
    "axes[2].set_ylabel('Number of Regions')\n",
    "axes[2].legend(loc='best')\n",
    "axes[2].set_ylim(0,30)\n",
    "plt.tight_layout()\n",
    "plt.savefig('/Users/hph/cmzoom_catalog/rms_fig.pdf',overwrite=True)\n",
    "plt.show()\n"
   ]
  },
  {
   "cell_type": "code",
   "execution_count": 21,
   "metadata": {},
   "outputs": [
    {
     "name": "stdout",
     "output_type": "stream",
     "text": [
      "0.0009638905525208 0.0008103334903717\n"
     ]
    }
   ],
   "source": [
    "print(np.median(bmaj_array),np.median(bmin_array))"
   ]
  },
  {
   "cell_type": "code",
   "execution_count": 24,
   "metadata": {},
   "outputs": [
    {
     "name": "stdout",
     "output_type": "stream",
     "text": [
      "12.652141\n"
     ]
    }
   ],
   "source": [
    "print(np.median(median_array)/1e6, np.mean())"
   ]
  },
  {
   "cell_type": "code",
   "execution_count": 25,
   "metadata": {},
   "outputs": [
    {
     "name": "stdout",
     "output_type": "stream",
     "text": [
      "7.773564 63.722428\n",
      "[10.6402775 18.292655 ]\n",
      "12.652141 16.669363485714285\n"
     ]
    }
   ],
   "source": [
    "print(np.min(median_array)/1e6,np.max(median_array)/1e6)\n",
    "print(np.percentile(median_array/1e6,[25,75]))\n",
    "print(np.median(median_array/1e6),np.mean(median_array/1e6))"
   ]
  },
  {
   "cell_type": "code",
   "execution_count": null,
   "metadata": {},
   "outputs": [],
   "source": []
  },
  {
   "cell_type": "code",
   "execution_count": null,
   "metadata": {},
   "outputs": [],
   "source": []
  },
  {
   "cell_type": "code",
   "execution_count": null,
   "metadata": {},
   "outputs": [],
   "source": []
  },
  {
   "cell_type": "code",
   "execution_count": null,
   "metadata": {},
   "outputs": [],
   "source": []
  },
  {
   "cell_type": "code",
   "execution_count": null,
   "metadata": {},
   "outputs": [],
   "source": []
  },
  {
   "cell_type": "code",
   "execution_count": null,
   "metadata": {},
   "outputs": [],
   "source": []
  },
  {
   "cell_type": "code",
   "execution_count": null,
   "metadata": {},
   "outputs": [],
   "source": []
  },
  {
   "cell_type": "code",
   "execution_count": null,
   "metadata": {},
   "outputs": [],
   "source": []
  },
  {
   "cell_type": "code",
   "execution_count": null,
   "metadata": {},
   "outputs": [],
   "source": []
  },
  {
   "cell_type": "code",
   "execution_count": null,
   "metadata": {},
   "outputs": [],
   "source": []
  },
  {
   "cell_type": "code",
   "execution_count": null,
   "metadata": {},
   "outputs": [],
   "source": []
  },
  {
   "cell_type": "code",
   "execution_count": null,
   "metadata": {},
   "outputs": [],
   "source": []
  }
 ],
 "metadata": {
  "kernelspec": {
   "display_name": "Python 3",
   "language": "python",
   "name": "python3"
  },
  "language_info": {
   "codemirror_mode": {
    "name": "ipython",
    "version": 3
   },
   "file_extension": ".py",
   "mimetype": "text/x-python",
   "name": "python",
   "nbconvert_exporter": "python",
   "pygments_lexer": "ipython3",
   "version": "3.6.10"
  }
 },
 "nbformat": 4,
 "nbformat_minor": 2
}
