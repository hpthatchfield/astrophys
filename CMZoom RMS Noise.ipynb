{
 "cells": [
  {
   "cell_type": "code",
   "execution_count": 1,
   "metadata": {},
   "outputs": [
    {
     "name": "stdout",
     "output_type": "stream",
     "text": [
      "3.2.1\n"
     ]
    }
   ],
   "source": [
    "from astropy.io import fits\n",
    "import numpy as np\n",
    "from astropy.convolution import convolve_fft, Gaussian2DKernel\n",
    "import math\n",
    "import matplotlib.pyplot as plt\n",
    "import astropy\n",
    "print(astropy.__version__)"
   ]
  },
  {
   "cell_type": "code",
   "execution_count": 2,
   "metadata": {},
   "outputs": [
    {
     "data": {
      "text/plain": [
       "(2800, 19000)"
      ]
     },
     "execution_count": 2,
     "metadata": {},
     "output_type": "execute_result"
    }
   ],
   "source": [
    "rms = fits.open('/Users/hph/cmzoom_catalog/catalog_acc/noisemap_tests/CMZoom_noisemap_JySr_k14_final.fits')\n",
    "region_mask = fits.open('/Users/hph/cmzoom_catalog/Continuum/CMZoom_Mask_new.fits')\n",
    "rms[0].data.shape"
   ]
  },
  {
   "cell_type": "code",
   "execution_count": 3,
   "metadata": {},
   "outputs": [
    {
     "name": "stdout",
     "output_type": "stream",
     "text": [
      "46.92795103429023\n",
      "2.757560270846408e-10\n"
     ]
    }
   ],
   "source": [
    "beam_ab_as2 = 3.25**2\n",
    "beam_area_as2 = beam_ab_as2*np.pi/(2*np.sqrt(2))\n",
    "beam_area_deg2 = beam_area_as2/(3600.**2)\n",
    "deg2_per_pix = (1.388888888889E-04)**2\n",
    "beam_area_sr = beam_area_deg2*3.0462e-4\n",
    "print(beam_area_deg2/deg2_per_pix)\n",
    "print(beam_area_sr)\n",
    "conv=beam_area_sr*1000.\n"
   ]
  },
  {
   "cell_type": "code",
   "execution_count": 4,
   "metadata": {},
   "outputs": [
    {
     "name": "stdout",
     "output_type": "stream",
     "text": [
      "19035076\n"
     ]
    }
   ],
   "source": [
    "avg_array = np.zeros_like(np.arange(1,35))\n",
    "median_array = np.zeros_like(np.arange(1,35))\n",
    "for i in range(1,35):\n",
    "    cond = region_mask[0].data==i\n",
    "    avg_array[i-1] = np.nanmean(rms[0].data[cond])\n",
    "    median_array[i-1] = np.nanmedian(rms[0].data[cond])\n",
    "print(median_array[-1])"
   ]
  },
  {
   "cell_type": "code",
   "execution_count": 7,
   "metadata": {},
   "outputs": [
    {
     "name": "stdout",
     "output_type": "stream",
     "text": [
      "[ 4.77040747  4.01564448  4.2086839   2.60883098  3.38082818  4.95315568\n",
      "  4.06647265  5.2373275  26.2537502   2.62807627  3.02108679  3.33573876\n",
      "  4.22423764  3.11829107  4.21163145  6.72259938  3.73925586  3.25589167\n",
      "  3.61723437  3.32652823  2.90155621  3.54031995  8.55131049 17.85798182\n",
      "  4.71320133  5.81078395  3.17396125  4.03446482  3.38535306  3.13713789\n",
      "  3.36229269  5.94784131  3.38707819  5.65130596]\n",
      "[ 4.44627557  3.85529731  3.38100659  2.14360712  2.89572617  4.31629934\n",
      "  3.40129534  4.8395828  13.43010663  2.39888937  2.75083789  2.9488434\n",
      "  3.79312149  2.82874917  3.60118041  6.5106362   3.66737482  3.10866856\n",
      "  3.48890414  3.26592506  2.69421608  3.21167585  8.30945784 17.57184358\n",
      "  4.23034426  5.79803575  2.9193979   3.75179228  3.06942048  2.71778081\n",
      "  2.99366396  5.56140702  2.35331765  5.24903693]\n",
      "[4.41378151 2.92675927]\n",
      "2.1436071249281885 17.57184358146707\n"
     ]
    },
    {
     "data": {
      "image/png": "[encoded data removed]",
      "text/plain": [
       "<Figure size 720x288 with 2 Axes>"
      ]
     },
     "metadata": {
      "needs_background": "light"
     },
     "output_type": "display_data"
    }
   ],
   "source": [
    "print(conv*avg_array)\n",
    "print(conv*median_array)\n",
    "fig,(ax1,ax2) = plt.subplots(1,2,figsize=(10,4))\n",
    "ax1.bar(np.arange(1,35),median_array)\n",
    "ax2.bar(np.arange(1,35),avg_array)\n",
    "print(np.percentile(conv*median_array,[75,25]))\n",
    "print(np.min(median_array*conv),np.max(median_array*conv))"
   ]
  },
  {
   "cell_type": "code",
   "execution_count": 6,
   "metadata": {},
   "outputs": [
    {
     "data": {
      "image/png": "[encoded data removed]",
      "text/plain": [
       "<Figure size 288x288 with 1 Axes>"
      ]
     },
     "metadata": {
      "needs_background": "light"
     },
     "output_type": "display_data"
    }
   ],
   "source": [
    "fig,ax = plt.subplots(figsize=(4,4))\n",
    "conv=beam_area_sr*1000.\n",
    "bins=np.logspace(6.6,8.3,15)\n",
    "bins = bins*conv\n",
    "ax.hist(avg_array*conv,alpha=0.4,bins=bins,hatch='\\ ', label='mean RMS noise')\n",
    "ax.hist(avg_array*conv,bins=bins,histtype='step',color='k')\n",
    "ax.set_xscale('log')\n",
    "ax.hist(median_array*conv,alpha=0.4,bins=bins,hatch='//',label='median RMS noise')\n",
    "ax.hist(median_array*conv,bins=bins,histtype='step',color='k')\n",
    "ax.set_xlabel('Flux (mJy/beam)')\n",
    "ax.set_ylabel('Number of Regions')\n",
    "ax.legend(loc='best')\n",
    "plt.show()"
   ]
  },
  {
   "cell_type": "code",
   "execution_count": 12,
   "metadata": {},
   "outputs": [
    {
     "name": "stdout",
     "output_type": "stream",
     "text": [
      "(34,) 34\n"
     ]
    }
   ],
   "source": [
    "print(median_array.shape,len(reg_names))"
   ]
  },
  {
   "cell_type": "code",
   "execution_count": 13,
   "metadata": {},
   "outputs": [
    {
     "data": {
      "image/png": "[encoded data removed]",
      "text/plain": [
       "<Figure size 360x288 with 1 Axes>"
      ]
     },
     "metadata": {
      "needs_background": "light"
     },
     "output_type": "display_data"
    },
    {
     "name": "stdout",
     "output_type": "stream",
     "text": [
      "3.5645308602584347\n"
     ]
    }
   ],
   "source": [
    "fig,ax = plt.subplots(figsize=(5,4))\n",
    "bins=np.logspace(6.,9.,15)\n",
    "bins=bins*conv\n",
    "ax.set_xscale('log')\n",
    "ax.hist(conv*rms[0].data[np.logical_not(np.isnan(rms[0].data))],\n",
    "        alpha=0.4,bins=bins,label='RMS noise per pixel',color='tomato')\n",
    "ax.hist(conv*rms[0].data[np.logical_not(np.isnan(rms[0].data))],\n",
    "        alpha=1,bins=bins,color='k',histtype='step')\n",
    "ax.set_xlabel('Flux (Jy/sr)')\n",
    "ax.set_ylabel('Number of Regions')\n",
    "ax.set_yscale('log')\n",
    "ax.legend(loc='best')\n",
    "plt.show()\n",
    "print(np.median(conv*rms[0].data[np.logical_not(np.isnan(rms[0].data))]))"
   ]
  },
  {
   "cell_type": "code",
   "execution_count": null,
   "metadata": {},
   "outputs": [],
   "source": [
    "print(np.histogram(conv*rms[0].data[np.logical_not(np.isnan(rms[0].data))],bins=bins))\n"
   ]
  },
  {
   "cell_type": "code",
   "execution_count": 19,
   "metadata": {},
   "outputs": [
    {
     "name": "stdout",
     "output_type": "stream",
     "text": [
      "33\n"
     ]
    }
   ],
   "source": [
    "#reg_names = ['20kms_cloud.continuum.pbcor.fits','G0.001-0.058.continuum.pbcor.fits','G0.014+0.021.continuum.pbcor.fits','G0.054+0.027.continuum.pbcor.fits','G0.068-0.075.continuum.pbcor.fits','G0.070-0.035.continuum.pbcor.fits','G0.106-0.082.continuum.pbcor.fits','G0.145-0.086.continuum.pbcor.fits','G0.212-0.001.continuum.pbcor.fits','G0.253+0.016.continuum.pbcor.fits','G0.316-0.201.continuum.pbcor.fits','G0.326-0.085.continuum.pbcor.fits','G0.340+0.055.continuum.pbcor.fits','G0.380+0.050.continuum.pbcor.fits','G0.412+0.052.continuum.pbcor.fits','G0.489+0.010.continuum.pbcor.fits','G0.619+0.012.continuum.pbcor.fits','G0.699-0.028.continuum.pbcor.fits','G0.714-0.100.continuum.pbcor.fits','G0.891-0.048.continuum.pbcor.fits','G1.038-0.074.continuum.pbcor.fits','G1.085-0.027.continuum.pbcor.fits','G1.602+0.018.continuum.pbcor.fits','G1.651-0.050.continuum.pbcor.fits','G1.670-0.130.continuum.pbcor.fits','G1.683-0.089.continuum.pbcor.fits','G359.137+0.031.continuum.pbcor.fits','G359.484-0.132.continuum.pbcor.fits','G359.611+0.018.continuum.pbcor.fits','G359.615-0.243.continuum.pbcor.fits','G359.648-0.133.continuum.pbcor.fits','G359.734+0.002.continuum.pbcor.fits','G359.865+0.022.continuum.pbcor.fits']\n",
    "old_reg_names=['20kms_cloud.continuum.pbcor.fits',\n",
    "'G0.001-0.058.continuum.pbcor.fits',\n",
    "'G0.014+0.021.continuum.pbcor.fits',\n",
    "'G0.054+0.027.continuum.pbcor.fits',\n",
    "'G0.068-0.075.continuum.pbcor.fits',\n",
    "'G0.070-0.035.continuum.pbcor.fits',\n",
    "'G0.106-0.082.continuum.pbcor.fits',\n",
    "'G0.145-0.086.continuum.pbcor.fits',\n",
    "'G0.212-0.001.continuum.pbcor.fits',\n",
    "'G0.253+0.016.continuum.pbcor.fits',\n",
    "'G0.316-0.201.continuum.pbcor.fits',\n",
    "'G0.326-0.085.continuum.pbcor.fits',\n",
    "'G0.340+0.055.continuum.pbcor.fits',\n",
    "'G0.380+0.050.continuum.pbcor.fits',\n",
    "'G0.412+0.052.continuum.pbcor.fits',\n",
    "'G0.489+0.010.continuum.pbcor.fits',\n",
    "'G0.619+0.012.continuum.pbcor.fits',\n",
    "'G0.699-0.028.continuum.pbcor.fits',\n",
    "'G0.714-0.100.continuum.pbcor.fits',\n",
    "'G0.891-0.048.continuum.pbcor.fits',\n",
    "'G1.038-0.074.continuum.pbcor.fits',\n",
    "'G1.085-0.027.continuum.pbcor.fits',\n",
    "'G1.602+0.018.continuum.pbcor.fits',\n",
    "'G1.651-0.050.continuum.pbcor.fits',\n",
    "'G1.670-0.130.continuum.pbcor.fits',\n",
    "'G1.683-0.089.continuum.pbcor.fits',\n",
    "'G359.137+0.031.continuum.pbcor.fits',\n",
    "'G359.484-0.132.continuum.pbcor.fits',\n",
    "'G359.611+0.018.continuum.pbcor.fits',\n",
    "'G359.615-0.243.continuum.pbcor.fits',\n",
    "'G359.648-0.133.continuum.pbcor.fits',\n",
    "'G359.734+0.002.continuum.pbcor.fits',\n",
    "'G359.865+0.022.continuum.pbcor.fits']\n",
    "print(len(reg_names))\n",
    "      \n",
    "      "
   ]
  },
  {
   "cell_type": "code",
   "execution_count": 19,
   "metadata": {},
   "outputs": [],
   "source": [
    "bmin_array = np.zeros_like(reg_names,dtype='float')\n",
    "bmaj_array = np.zeros_like(reg_names,dtype='float')\n",
    "#path='/Users/hph/Dropbox/CMZoom_Data/continuum_images/Final_continuum_images/Continuum_pbcor/'\n",
    "path = '/Users/hph/cmzoom_catalog/Continuum/'\n",
    "for i,name in enumerate(images):\n",
    "    hdu = fits.open(path+name)\n",
    "    bmaj_array[i] = hdu[0].header['BMAJ']\n",
    "    bmin_array[i] = hdu[0].header['BMIN']\n",
    "    "
   ]
  },
  {
   "cell_type": "code",
   "execution_count": 23,
   "metadata": {},
   "outputs": [
    {
     "name": "stdout",
     "output_type": "stream",
     "text": [
      "G1.683-0.089.continuum_regrid.fits\n"
     ]
    }
   ],
   "source": [
    "print(images[0])"
   ]
  },
  {
   "cell_type": "code",
   "execution_count": 25,
   "metadata": {},
   "outputs": [
    {
     "name": "stdout",
     "output_type": "stream",
     "text": [
      "1 \t G1.683-0.089.continuum_regrid.fits \t 4.45 \t 5.00 \t 2.46\n",
      "2 \t G1.670-0.130.continuum_regrid.fits \t 3.86 \t 4.87 \t 2.52\n",
      "3 \t G1.651-0.050.continuum_regrid.fits \t 3.38 \t 3.11 \t 2.96\n",
      "4 \t G1.602+0.018.continuum_regrid.fits \t 2.14 \t 4.57 \t 2.51\n",
      "5 \t G1.085-0.027.continuum_regrid.fits \t 2.90 \t 3.18 \t 2.97\n",
      "6 \t G1.038-0.074.continuum_regrid.fits \t 4.32 \t 3.72 \t 2.54\n",
      "7 \t G0.891-0.048.continuum_regrid.fits \t 3.40 \t 3.72 \t 2.69\n",
      "8 \t G0.714-0.100.continuum_regrid.fits \t 4.84 \t 3.35 \t 2.82\n",
      "9 \t G0.699-0.028.continuum_regrid.fits \t 13.43 \t 3.05 \t 2.98\n",
      "10 \t G0.619+0.012.continuum_regrid.fits \t 2.40 \t 6.46 \t 3.22\n",
      "11 \t G0.489+0.010.continuum_regrid.fits \t 2.75 \t 4.02 \t 2.98\n",
      "12 \t G0.412+0.052.continuum_regrid.fits \t 2.95 \t 2.99 \t 2.92\n",
      "13 \t G0.380+0.050.continuum_regrid.fits \t 3.79 \t 3.04 \t 2.98\n",
      "14 \t G0.340+0.055.continuum_regrid.fits \t 2.83 \t 3.01 \t 2.92\n",
      "15 \t G0.326-0.085.continuum_regrid.fits \t 3.60 \t 3.11 \t 2.97\n",
      "16 \t G0.316-0.201.continuum_regrid.fits \t 6.51 \t 3.47 \t 3.13\n",
      "17 \t G0.253+0.016.continuum_regrid.fits \t 3.67 \t 4.31 \t 2.98\n",
      "18 \t G0.212-0.001.continuum_regrid.fits \t 3.11 \t 3.27 \t 2.99\n",
      "19 \t G0.145-0.086.continuum_regrid.fits \t 3.49 \t 3.41 \t 2.89\n",
      "20 \t G0.106-0.082.continuum_regrid.fits \t 3.27 \t 3.43 \t 2.84\n",
      "21 \t G0.070-0.035.continuum_regrid.fits \t 2.69 \t 4.19 \t 2.88\n",
      "22 \t G0.068-0.075.continuum_regrid.fits \t 3.21 \t 3.30 \t 3.00\n",
      "23 \t G0.054+0.027.continuum_regrid.fits \t 8.31 \t 3.60 \t 2.99\n",
      "24 \t G0.014+0.021.continuum_regrid.fits \t 17.57 \t 3.44 \t 2.88\n",
      "25 \t G0.001-0.058.continuum_regrid.fits \t 4.23 \t 4.25 \t 1.60\n",
      "26 \t G359.889-0.093.continuum_regrid.fits \t 5.80 \t 4.64 \t 1.69\n",
      "27 \t G359.865+0.022.continuum_regrid.fits \t 2.92 \t 4.10 \t 2.69\n",
      "28 \t G359.863-0.069.continuum_regrid.fits \t 3.75 \t 4.31 \t 1.47\n",
      "29 \t G359.734+0.002.continuum_regrid.fits \t 3.07 \t 3.26 \t 3.02\n",
      "30 \t G359.648-0.133.continuum_regrid.fits \t 2.72 \t 4.16 \t 2.55\n",
      "31 \t G359.611+0.018.continuum_regrid.fits \t 2.99 \t 3.32 \t 2.95\n",
      "32 \t G359.615-0.243.continuum_regrid.fits \t 5.56 \t 3.30 \t 3.00\n",
      "33 \t G359.484-0.132.continuum_regrid.fits \t 2.35 \t 4.11 \t 2.91\n",
      "34 \t G359.137+0.031.continuum_regrid.fits \t 5.25 \t 3.68 \t 2.84\n"
     ]
    }
   ],
   "source": [
    "for i in range(len(images)):\n",
    "\n",
    "    ap = conv*median_array[i]\n",
    "    bp = bmaj_array[i]*3600\n",
    "    cp = bmin_array[i]*3600\n",
    "    print(i+1, '\\t', images[i],'\\t', \"%.2f\"%ap,'\\t',\"%.2f\"%bp,'\\t', \"%.2f\"%cp)\n",
    "#     print(reg_names[i],'\\t',\n",
    "#           conv*median_array[i],'\\t',\n",
    "#           bmaj_array[i]*3600,'\\t',\n",
    "#           bmin_array[i]*3600)"
   ]
  },
  {
   "cell_type": "code",
   "execution_count": 150,
   "metadata": {},
   "outputs": [
    {
     "data": {
      "image/png": "[encoded data removed]",
      "text/plain": [
       "<Figure size 400x400 with 1 Axes>"
      ]
     },
     "metadata": {},
     "output_type": "display_data"
    }
   ],
   "source": [
    "fig,ax = plt.subplots(figsize=(4,4))\n",
    "from matplotlib import rc\n",
    "rc('font',**{'family':'sans-serif','sans-serif':['Helvetica']})\n",
    "## for Palatino and other serif fonts use:\n",
    "#rc('font',**{'family':'serif','serif':['Palatino']})\n",
    "rc('text', usetex=True)\n",
    "bins=np.linspace(2,5,15)\n",
    "beam_theta = ((bmaj_array*3600)*(bmin_array*3600))**0.5\n",
    "ax.hist(beam_theta,alpha=0.8,bins=bins, \n",
    "        label='Beam $ (\\Theta_{min} \\Theta_{maj})^{1/2}$',color='cornflowerblue')\n",
    "ax.hist(((bmaj_array*3600)*(bmin_array*3600))**0.5,bins=bins,histtype='step',color='k')\n",
    "#ax.set_xscale('log')\n",
    "ax.set_xlabel('Arcsec')\n",
    "ax.set_ylabel('Number of Regions')\n",
    "ax.legend(loc='best')\n",
    "plt.show()"
   ]
  },
  {
   "cell_type": "code",
   "execution_count": 138,
   "metadata": {},
   "outputs": [
    {
     "name": "stdout",
     "output_type": "stream",
     "text": [
      "2.561945483728625 4.382642777255319\n",
      "[3.06022784 3.29976859]\n",
      "3.1441262470848583 3.2079885552040914\n"
     ]
    }
   ],
   "source": [
    "print(np.min(beam_theta),np.max(beam_theta))\n",
    "print(np.percentile(beam_theta,[25,75]))\n",
    "print(np.median(beam_theta),np.mean(beam_theta))"
   ]
  },
  {
   "cell_type": "code",
   "execution_count": 151,
   "metadata": {},
   "outputs": [
    {
     "data": {
      "image/png": "[encoded data removed]",
      "text/plain": [
       "<Figure size 400x400 with 1 Axes>"
      ]
     },
     "metadata": {},
     "output_type": "display_data"
    }
   ],
   "source": [
    "fig,ax = plt.subplots(figsize=(4,4))\n",
    "bins=np.linspace(0.0001*3600,0.0022*3600,15)\n",
    "ax.hist(bmaj_array*3600,alpha=0.4,bins=bins,hatch='\\ ', label='Beam Major Axis',color='green')\n",
    "ax.hist(bmaj_array*3600,bins=bins,histtype='step',color='k')\n",
    "#ax.set_xscale('log')\n",
    "ax.hist(bmin_array*3600,alpha=0.4,bins=bins,hatch='//',label='Beam Minor Axis',color='violet')\n",
    "ax.hist(bmin_array*3600,bins=bins,histtype='step',color='k')\n",
    "ax.set_xlabel('Arcsec')\n",
    "ax.set_ylabel('Number of Regions')\n",
    "ax.legend(loc='best')\n",
    "plt.show()"
   ]
  },
  {
   "cell_type": "code",
   "execution_count": 106,
   "metadata": {},
   "outputs": [
    {
     "name": "stdout",
     "output_type": "stream",
     "text": [
      "[3.26765347 4.06791544]\n",
      "2.99056768417368 6.2929320335388\n",
      "[2.70823503 2.97743225]\n",
      "1.63229286670668 3.13176035881044\n"
     ]
    }
   ],
   "source": [
    "#print(np.min(bmin_array),np.max(bmin_array))\n",
    "#print(np.min(bmaj_array),np.max(bmaj_array))\n",
    "print(np.percentile(bmin_array*3600,[25,75]))\n",
    "print(np.min(bmin_array)*3600,np.max(bmin_array)*3600)\n",
    "print(np.percentile(bmaj_array*3600,[25,75]))\n",
    "print(np.min(bmaj_array)*3600,np.max(bmaj_array)*3600)"
   ]
  },
  {
   "cell_type": "code",
   "execution_count": 152,
   "metadata": {},
   "outputs": [
    {
     "data": {
      "image/png": "[encoded data removed]",
      "text/plain": [
       "<Figure size 1000x500 with 4 Axes>"
      ]
     },
     "metadata": {},
     "output_type": "display_data"
    }
   ],
   "source": [
    "fig,axes = plt.subplots(2,2,figsize=(10,5))\n",
    "bins=np.logspace(6.5,8.6,15)\n",
    "bins= bins*conv\n",
    "axes[0][0].hist(conv*avg_array,alpha=0.4,bins=bins,hatch='\\ ', label='mean RMS noise')\n",
    "axes[0][0].hist(conv*avg_array,bins=bins,histtype='step',color='k')\n",
    "axes[0][0].set_xscale('log')\n",
    "axes[0][0].hist(conv*median_array,alpha=0.4,bins=bins,hatch='//',label='median RMS noise')\n",
    "axes[0][0].hist(conv*median_array,bins=bins,histtype='step',color='k')\n",
    "axes[0][0].set_xlabel('Flux (mJy/beam)')\n",
    "axes[0][0].set_ylabel('Number of Regions')\n",
    "axes[0][0].legend(loc='best')\n",
    "\n",
    "bins=np.logspace(6.,9.,50)\n",
    "bins=bins*conv\n",
    "axes[0][1].set_xscale('log')\n",
    "axes[0][1].hist(conv*rms[0].data[np.logical_not(np.isnan(rms[0].data))],\n",
    "        alpha=0.4,bins=bins,label='RMS noise per pixel',color='tomato')\n",
    "axes[0][1].hist(conv*rms[0].data[np.logical_not(np.isnan(rms[0].data))],\n",
    "        alpha=1,bins=bins,color='k',histtype='step')\n",
    "axes[0][1].set_xlabel('Flux (mJy/beam)')\n",
    "axes[0][1].set_ylabel('Number of Pixels')\n",
    "axes[0][1].set_yscale('log')\n",
    "axes[0][1].legend(loc='best')\n",
    "\n",
    "bins=np.linspace(0.0001*3600,0.0022*3600,15)\n",
    "axes[1][0].hist(bmaj_array*3600,alpha=0.4,bins=bins,hatch='\\ ', label='Beam Major Axis',color='green')\n",
    "axes[1][0].hist(bmaj_array*3600,bins=bins,histtype='step',color='k')\n",
    "#axes[1][0].set_xscale('log')\n",
    "axes[1][0].hist(bmin_array*3600,alpha=0.4,bins=bins,hatch='//',label='Beam Minor Axis',color='violet')\n",
    "axes[1][0].hist(bmin_array*3600,bins=bins,histtype='step',color='k')\n",
    "axes[1][0].set_xlabel('Arcsec')\n",
    "axes[1][0].set_ylabel('Number of Regions')\n",
    "axes[1][0].legend(loc='best')\n",
    "\n",
    "bins=np.linspace(2,5,15)\n",
    "beam_theta = ((bmaj_array*3600)*(bmin_array*3600))**0.5\n",
    "axes[1][1].hist(beam_theta,alpha=0.8,bins=bins, \n",
    "        label='Beam $ (\\Theta_{min} \\Theta_{maj})^{1/2}$',color='cornflowerblue')\n",
    "axes[1][1].hist(((bmaj_array*3600)*(bmin_array*3600))**0.5,bins=bins,histtype='step',color='k')\n",
    "#axes[1][1].set_xscale('log')\n",
    "axes[1][1].set_xlabel('Arcsec')\n",
    "axes[1][1].set_ylabel('Number of Regions')\n",
    "axes[1][1].legend(loc='best')\n",
    "plt.tight_layout()\n",
    "plt.savefig('/Users/hph/cmzoom_catalog/rms_fig.pdf')\n",
    "plt.show()"
   ]
  },
  {
   "cell_type": "code",
   "execution_count": 79,
   "metadata": {},
   "outputs": [
    {
     "name": "stdout",
     "output_type": "stream",
     "text": [
      "[  0.27575603   0.29568415   0.31705242   0.33996492   0.36453324\n",
      "   0.39087704   0.41912464   0.44941362   0.48189149   0.51671645\n",
      "   0.55405811   0.59409835   0.63703219   0.68306873   0.73243221\n",
      "   0.78536306   0.84211906   0.90297667   0.96823228   1.03820374\n",
      "   1.11323184   1.19368201   1.2799461    1.37244424   1.47162698\n",
      "   1.57797737   1.69201341   1.81429052   1.94540426   2.08599322\n",
      "   2.23674215   2.3983853    2.57170994   2.75756027   2.95684149\n",
      "   3.17052421   3.39964919   3.64533239   3.90877044   4.19124642\n",
      "   4.49413615   4.81891489   5.16716448   5.5405811    5.94098351\n",
      "   6.37032188   6.83068735   7.32432215   7.85363056   8.42119062\n",
      "   9.02976668   9.68232283  10.3820374   11.13231841  11.93682013\n",
      "  12.79946096  13.72444245  14.71626978  15.77977371  16.92013412\n",
      "  18.14290521  19.45404257  20.85993218  22.36742153  23.98385295\n",
      "  25.71709938  27.57560271  29.56841491  31.70524212  33.99649189\n",
      "  36.45332391  39.08770437  41.91246418  44.94136153  48.18914888\n",
      "  51.6716448   55.40581103  59.40983507  63.70321881  68.30687347\n",
      "  73.24322146  78.53630561  84.21190624  90.29766676  96.8232283\n",
      " 103.82037403 111.32318405 119.36820131 127.99460961 137.24442448\n",
      " 147.16269777 157.79773713 169.20134123 181.42905212 194.54042571\n",
      " 208.59932184 223.67421534 239.83852952 257.17099378 275.75602708]\n"
     ]
    }
   ],
   "source": [
    "hist_arr = []\n",
    "conv=beam_area_sr*1000.\n",
    "bins=np.logspace(6.,9.,100)\n",
    "print(bins*conv)\n",
    "\n",
    "for i in range(1,30):\n",
    "    cond = region_mask[0].data==i\n",
    "    temp_rms_data = rms[0].data[cond]\n",
    "    hist_arr.append(np.histogram(temp_rms_data[np.logical_not(np.isnan(temp_rms_data))],bins=bins))"
   ]
  },
  {
   "cell_type": "code",
   "execution_count": 90,
   "metadata": {},
   "outputs": [
    {
     "data": {
      "image/png": "[encoded data removed]",
      "text/plain": [
       "<Figure size 360x288 with 1 Axes>"
      ]
     },
     "metadata": {
      "needs_background": "light"
     },
     "output_type": "display_data"
    }
   ],
   "source": [
    "fig,ax = plt.subplots(figsize=(5,4))\n",
    "ax.set_xscale('log')\n",
    "for i in range(len(hist_arr)):\n",
    "    cond = region_mask[0].data==i\n",
    "    temp_rms_data = rms[0].data[cond]\n",
    "    ax.hist(conv*temp_rms_data[np.logical_not(np.isnan(temp_rms_data))],bins=bins*conv,alpha=0.4,histtype='step')\n",
    "ax.set_xlabel('Flux (mJy/beam)')\n",
    "ax.set_ylabel('number of pixels')\n",
    "ax.set_yscale('log')\n",
    "#ax.legend(loc='best')\n",
    "plt.show()"
   ]
  },
  {
   "cell_type": "code",
   "execution_count": null,
   "metadata": {},
   "outputs": [],
   "source": []
  },
  {
   "cell_type": "code",
   "execution_count": null,
   "metadata": {},
   "outputs": [],
   "source": []
  },
  {
   "cell_type": "code",
   "execution_count": null,
   "metadata": {},
   "outputs": [],
   "source": [
    "# avg_array = np.zeros_like(np.arange(1,30))\n",
    "# median_array = np.zeros_like(np.arange(1,30))\n",
    "# for i in range(1,30):\n",
    "#     cond = region_mask[0].data==i\n",
    "#     avg_array[i-1] = np.nanmean(rms[0].data[cond])\n",
    "#     median_array[i-1] = np.nanmedian(rms[0].data[cond])\n"
   ]
  },
  {
   "cell_type": "code",
   "execution_count": 9,
   "metadata": {},
   "outputs": [],
   "source": [
    "reg_names=np.array(['G0.001-0.058.continuum_regrid.fits',\n",
    "'G0.014+0.021.continuum_regrid.fits',\n",
    "'G0.054+0.027.continuum_regrid.fits',\n",
    "'G0.068-0.075.continuum_regrid.fits',\n",
    "'G0.070-0.035.continuum_regrid.fits',\n",
    "'G0.106-0.082.continuum_regrid.fits',\n",
    "'G0.145-0.086.continuum_regrid.fits',\n",
    "'G0.212-0.001.continuum_regrid.fits',\n",
    "'G0.253+0.016.continuum_regrid.fits',\n",
    "'G0.316-0.201.continuum_regrid.fits',\n",
    "'G0.326-0.085.continuum_regrid.fits',\n",
    "'G0.340+0.055.continuum_regrid.fits',\n",
    "'G0.380+0.050.continuum_regrid.fits',\n",
    "'G0.412+0.052.continuum_regrid.fits',\n",
    "'G0.489+0.010.continuum_regrid.fits',\n",
    "'G0.619+0.012.continuum_regrid.fits',\n",
    "'G0.699-0.028.continuum_regrid.fits',\n",
    "'G0.714-0.100.continuum_regrid.fits',\n",
    "'G0.891-0.048.continuum_regrid.fits',\n",
    "'G1.038-0.074.continuum_regrid.fits',\n",
    "'G1.085-0.027.continuum_regrid.fits',\n",
    "'G1.602+0.018.continuum_regrid.fits',\n",
    "'G1.651-0.050.continuum_regrid.fits',\n",
    "'G1.670-0.130.continuum_regrid.fits',\n",
    "'G1.683-0.089.continuum_regrid.fits',\n",
    "'G359.137+0.031.continuum_regrid.fits',\n",
    "'G359.484-0.132.continuum_regrid.fits',\n",
    "'G359.611+0.018.continuum_regrid.fits',\n",
    "'G359.615-0.243.continuum_regrid.fits',\n",
    "'G359.648-0.133.continuum_regrid.fits',\n",
    "'G359.734+0.002.continuum_regrid.fits',\n",
    "'G359.863-0.069.continuum_regrid.fits',\n",
    "'G359.865+0.022.continuum_regrid.fits',\n",
    "'G359.889-0.093.continuum_regrid.fits'])\n",
    "\n",
    "# ,\n",
    "# 'G359.948-0.052.continuum_regrid.fits'\n",
    "# 'G0.393-0.034.continuum_regrid.fits',\n",
    "# 'G1.127-0.106.continuum_regrid.fits',\n"
   ]
  },
  {
   "cell_type": "code",
   "execution_count": 18,
   "metadata": {},
   "outputs": [],
   "source": [
    "# images = np.array(['G1.683-0.089.continuum.pbcor.fits','G1.670-0.130.continuum.pbcor.fits',\\\n",
    "#                       'G1.651-0.050.continuum.pbcor.fits','G1.602+0.018.continuum.pbcor.fits',\\\n",
    "#                       'G1.085-0.027.continuum.pbcor.fits',\\\n",
    "#                       'G1.038-0.074.continuum.pbcor.fits','G0.891-0.048.continuum.pbcor.fits',\\\n",
    "#                       'G0.714-0.100.continuum.pbcor.fits','G0.699-0.028.continuum.pbcor.fits',\\\n",
    "#                       'G0.619+0.012.continuum.pbcor.fits',\\\n",
    "#                       'G0.489+0.010.continuum.pbcor.fits','G0.412+0.052.continuum.pbcor.fits',\\\n",
    "#                       'G0.380+0.050.continuum.pbcor.fits',\\\n",
    "#                       'G0.340+0.055.continuum.pbcor.fits','G0.326-0.085.continuum.pbcor.fits',\\\n",
    "#                       'G0.316-0.201.continuum.pbcor.fits',\\\n",
    "#                       'G0.253+0.016.continuum.pbcor.fits',\\\n",
    "#                       'G0.212-0.001.continuum.pbcor.fits',\\\n",
    "#                       'G0.145-0.086.continuum.pbcor.fits',\\\n",
    "#                       'G0.106-0.082.continuum.pbcor.fits','G0.070-0.035.continuum.pbcor.fits',\\\n",
    "#                       'G0.068-0.075.continuum.pbcor.fits','G0.054+0.027.continuum.pbcor.fits',\\\n",
    "#                       'G0.014+0.021.continuum.pbcor.fits','G0.001-0.058.continuum.pbcor.fits',\\\n",
    "#                       'G359.889-0.093.continuum.pbcor.fits','G359.865+0.022.continuum.pbcor.fits',\\\n",
    "#                       'G359.863-0.069.continuum.pbcor.fits','G359.734+0.002.continuum.pbcor.fits',\\\n",
    "#                       'G359.648-0.133.continuum.pbcor.fits',\\\n",
    "#                       'G359.611+0.018.continuum.pbcor.fits',\\\n",
    "#                       'G359.615-0.243.continuum.pbcor.fits','G359.484-0.132.continuum.pbcor.fits',\\\n",
    "#                       'G359.137+0.031.continuum.pbcor.fits'])\n",
    "images = np.array(['G1.683-0.089.continuum_regrid.fits','G1.670-0.130.continuum_regrid.fits',\\\n",
    "                      'G1.651-0.050.continuum_regrid.fits','G1.602+0.018.continuum_regrid.fits',\\\n",
    "                      'G1.085-0.027.continuum_regrid.fits',\\\n",
    "                      'G1.038-0.074.continuum_regrid.fits','G0.891-0.048.continuum_regrid.fits',\\\n",
    "                      'G0.714-0.100.continuum_regrid.fits','G0.699-0.028.continuum_regrid.fits',\\\n",
    "                      'G0.619+0.012.continuum_regrid.fits',\\\n",
    "                      'G0.489+0.010.continuum_regrid.fits','G0.412+0.052.continuum_regrid.fits',\\\n",
    "                      'G0.380+0.050.continuum_regrid.fits',\\\n",
    "                      'G0.340+0.055.continuum_regrid.fits','G0.326-0.085.continuum_regrid.fits',\\\n",
    "                      'G0.316-0.201.continuum_regrid.fits',\\\n",
    "                      'G0.253+0.016.continuum_regrid.fits',\\\n",
    "                      'G0.212-0.001.continuum_regrid.fits',\\\n",
    "                      'G0.145-0.086.continuum_regrid.fits',\\\n",
    "                      'G0.106-0.082.continuum_regrid.fits','G0.070-0.035.continuum_regrid.fits',\\\n",
    "                      'G0.068-0.075.continuum_regrid.fits','G0.054+0.027.continuum_regrid.fits',\\\n",
    "                      'G0.014+0.021.continuum_regrid.fits','G0.001-0.058.continuum_regrid.fits',\\\n",
    "                      'G359.889-0.093.continuum_regrid.fits','G359.865+0.022.continuum_regrid.fits',\\\n",
    "                      'G359.863-0.069.continuum_regrid.fits','G359.734+0.002.continuum_regrid.fits',\\\n",
    "                      'G359.648-0.133.continuum_regrid.fits',\\\n",
    "                      'G359.611+0.018.continuum_regrid.fits',\\\n",
    "                      'G359.615-0.243.continuum_regrid.fits','G359.484-0.132.continuum_regrid.fits',\\\n",
    "                      'G359.137+0.031.continuum_regrid.fits'])"
   ]
  },
  {
   "cell_type": "code",
   "execution_count": 11,
   "metadata": {},
   "outputs": [
    {
     "name": "stdout",
     "output_type": "stream",
     "text": [
      "34 34\n",
      "G1.683-0.089.continuum_regrid.fits \t G0.001-0.058.continuum_regrid.fits\n",
      "G1.670-0.130.continuum_regrid.fits \t G0.014+0.021.continuum_regrid.fits\n",
      "G1.651-0.050.continuum_regrid.fits \t G0.054+0.027.continuum_regrid.fits\n",
      "G1.602+0.018.continuum_regrid.fits \t G0.068-0.075.continuum_regrid.fits\n",
      "G1.085-0.027.continuum_regrid.fits \t G0.070-0.035.continuum_regrid.fits\n",
      "G1.038-0.074.continuum_regrid.fits \t G0.106-0.082.continuum_regrid.fits\n",
      "G0.891-0.048.continuum_regrid.fits \t G0.145-0.086.continuum_regrid.fits\n",
      "G0.714-0.100.continuum_regrid.fits \t G0.212-0.001.continuum_regrid.fits\n",
      "G0.699-0.028.continuum_regrid.fits \t G0.253+0.016.continuum_regrid.fits\n",
      "G0.619+0.012.continuum_regrid.fits \t G0.316-0.201.continuum_regrid.fits\n",
      "G0.489+0.010.continuum_regrid.fits \t G0.326-0.085.continuum_regrid.fits\n",
      "G0.412+0.052.continuum_regrid.fits \t G0.340+0.055.continuum_regrid.fits\n",
      "G0.380+0.050.continuum_regrid.fits \t G0.380+0.050.continuum_regrid.fits\n",
      "G0.340+0.055.continuum_regrid.fits \t G0.412+0.052.continuum_regrid.fits\n",
      "G0.326-0.085.continuum_regrid.fits \t G0.489+0.010.continuum_regrid.fits\n",
      "G0.316-0.201.continuum_regrid.fits \t G0.619+0.012.continuum_regrid.fits\n",
      "G0.253+0.016.continuum_regrid.fits \t G0.699-0.028.continuum_regrid.fits\n",
      "G0.212-0.001.continuum_regrid.fits \t G0.714-0.100.continuum_regrid.fits\n",
      "G0.145-0.086.continuum_regrid.fits \t G0.891-0.048.continuum_regrid.fits\n",
      "G0.106-0.082.continuum_regrid.fits \t G1.038-0.074.continuum_regrid.fits\n",
      "G0.070-0.035.continuum_regrid.fits \t G1.085-0.027.continuum_regrid.fits\n",
      "G0.068-0.075.continuum_regrid.fits \t G1.602+0.018.continuum_regrid.fits\n",
      "G0.054+0.027.continuum_regrid.fits \t G1.651-0.050.continuum_regrid.fits\n",
      "G0.014+0.021.continuum_regrid.fits \t G1.670-0.130.continuum_regrid.fits\n",
      "G0.001-0.058.continuum_regrid.fits \t G1.683-0.089.continuum_regrid.fits\n",
      "G359.889-0.093.continuum_regrid.fits \t G359.137+0.031.continuum_regrid.fits\n",
      "G359.865+0.022.continuum_regrid.fits \t G359.484-0.132.continuum_regrid.fits\n",
      "G359.863-0.069.continuum_regrid.fits \t G359.611+0.018.continuum_regrid.fits\n",
      "G359.734+0.002.continuum_regrid.fits \t G359.615-0.243.continuum_regrid.fits\n",
      "G359.648-0.133.continuum_regrid.fits \t G359.648-0.133.continuum_regrid.fits\n",
      "G359.611+0.018.continuum_regrid.fits \t G359.734+0.002.continuum_regrid.fits\n",
      "G359.615-0.243.continuum_regrid.fits \t G359.863-0.069.continuum_regrid.fits\n",
      "G359.484-0.132.continuum_regrid.fits \t G359.865+0.022.continuum_regrid.fits\n",
      "G359.137+0.031.continuum_regrid.fits \t G359.889-0.093.continuum_regrid.fits\n",
      "[] []\n",
      "[]\n"
     ]
    }
   ],
   "source": [
    "print(len(reg_names),len(images))\n",
    "for i in range(len(images)):\n",
    "    print(images[i],'\\t',reg_names[i])\n",
    "    \n",
    "missing1 = np.argwhere(np.logical_not(np.isin(images,reg_names))).T\n",
    "missing2 = np.argwhere(np.logical_not(np.isin(reg_names,images))).T\n",
    "print(missing1[0], missing2[0])\n",
    "#print(images[missing1[0][0]],images[missing1[0][1]])\n",
    "print(reg_names[missing2])"
   ]
  },
  {
   "cell_type": "code",
   "execution_count": 61,
   "metadata": {
    "scrolled": true
   },
   "outputs": [
    {
     "data": {
      "text/plain": [
       "array(['G1.683-0.089.continuum.pbcor.fits',\n",
       "       'G1.670-0.130.continuum.pbcor.fits',\n",
       "       'G1.651-0.050.continuum.pbcor.fits',\n",
       "       'G1.602+0.018.continuum.pbcor.fits',\n",
       "       'G1.085-0.027.continuum.pbcor.fits',\n",
       "       'G1.038-0.074.continuum.pbcor.fits',\n",
       "       'G0.891-0.048.continuum.pbcor.fits',\n",
       "       'G0.714-0.100.continuum.pbcor.fits',\n",
       "       'G0.699-0.028.continuum.pbcor.fits',\n",
       "       'G0.619+0.012.continuum.pbcor.fits',\n",
       "       'G0.489+0.010.continuum.pbcor.fits',\n",
       "       'G0.412+0.052.continuum.pbcor.fits',\n",
       "       'G0.380+0.050.continuum.pbcor.fits',\n",
       "       'G0.340+0.055.continuum.pbcor.fits',\n",
       "       'G0.326-0.085.continuum.pbcor.fits',\n",
       "       'G0.316-0.201.continuum.pbcor.fits',\n",
       "       'G0.253+0.016.continuum.pbcor.fits',\n",
       "       'G0.212-0.001.continuum.pbcor.fits',\n",
       "       'G0.145-0.086.continuum.pbcor.fits',\n",
       "       'G0.106-0.082.continuum.pbcor.fits',\n",
       "       'G0.070-0.035.continuum.pbcor.fits',\n",
       "       'G0.068-0.075.continuum.pbcor.fits',\n",
       "       'G0.054+0.027.continuum.pbcor.fits',\n",
       "       'G0.014+0.021.continuum.pbcor.fits',\n",
       "       'G0.001-0.058.continuum.pbcor.fits',\n",
       "       'G359.889-0.093.continuum.pbcor.fits',\n",
       "       'G359.865+0.022.continuum.pbcor.fits',\n",
       "       'G359.863-0.069.continuum.pbcor.fits',\n",
       "       'G359.734+0.002.continuum.pbcor.fits',\n",
       "       'G359.648-0.133.continuum.pbcor.fits',\n",
       "       'G359.611+0.018.continuum.pbcor.fits',\n",
       "       'G359.615-0.243.continuum.pbcor.fits',\n",
       "       'G359.484-0.132.continuum.pbcor.fits',\n",
       "       'G359.137+0.031.continuum.pbcor.fits'], dtype='<U35')"
      ]
     },
     "execution_count": 61,
     "metadata": {},
     "output_type": "execute_result"
    }
   ],
   "source": []
  },
  {
   "cell_type": "code",
   "execution_count": null,
   "metadata": {},
   "outputs": [],
   "source": []
  }
 ],
 "metadata": {
  "kernelspec": {
   "display_name": "Python 3",
   "language": "python",
   "name": "python3"
  },
  "language_info": {
   "codemirror_mode": {
    "name": "ipython",
    "version": 3
   },
   "file_extension": ".py",
   "mimetype": "text/x-python",
   "name": "python",
   "nbconvert_exporter": "python",
   "pygments_lexer": "ipython3",
   "version": "3.6.9"
  }
 },
 "nbformat": 4,
 "nbformat_minor": 2
}
