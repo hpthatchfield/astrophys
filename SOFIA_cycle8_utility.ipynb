{
 "cells": [
  {
   "cell_type": "code",
   "execution_count": 1,
   "metadata": {
    "collapsed": true
   },
   "outputs": [],
   "source": [
    "from astropy.io import fits\n",
    "import numpy as np\n",
    "import matplotlib.pyplot as plt\n",
    "from astropy import units as u\n",
    "import os\n",
    "from astropy import wcs\n",
    "from astropy.table import Table, hstack, Column\n",
    "from astropy.utils.console import ProgressBar\n",
    "from astropy.table import Table, hstack, Column\n",
    "import pandas as pd"
   ]
  },
  {
   "cell_type": "code",
   "execution_count": 12,
   "metadata": {
    "collapsed": false
   },
   "outputs": [],
   "source": [
    "### load constants and functions\n",
    "# Image information and assumptions\n",
    "#Temp            = 20.0\n",
    "Wave            = (3.0e8/226.e9)\n",
    "Wave0           = 1.3e-3\n",
    "k0              = 0.899\n",
    "nu              = 3.e08/Wave\n",
    "nu0             = 3.e08/Wave0\n",
    "beta            = 1.75\n",
    "Kappag2d        = k0*((nu/nu0)**beta)\n",
    "g2d             = 100.0\n",
    "Kappa           = Kappag2d / g2d\n",
    "mu              = 2.8 # express everything in H2\n",
    "\n",
    "# Constants\n",
    "G = 6.67408e-11\n",
    "msun = 1.989e33\n",
    "mh = 1.6737236e-27\n",
    "pc2cm = 3.08567758e18\n",
    "as2persr = 4.25e10 \n",
    "percm2perm = 1.0e6\n",
    "JyperSr_to_JyperPix = (3.0462*(10**-4))*((0.00013888888888)**2)\n",
    "JyperSr_to_Jyperassqr = ((np.pi*180.)**(-2))*(3600**(-1))\n",
    "hplanck = 6.63e-34\n",
    "clight = 2.99792e8\n",
    "kboltzmann = 1.381e-23\n",
    "sin1yr = 3.15569e7\n"
   ]
  },
  {
   "cell_type": "code",
   "execution_count": null,
   "metadata": {
    "collapsed": true
   },
   "outputs": [],
   "source": []
  },
  {
   "cell_type": "code",
   "execution_count": 13,
   "metadata": {
    "collapsed": true
   },
   "outputs": [],
   "source": [
    "# def calc_Tb(flux_jysr,freq_hz):\n",
    "#     return (flux_jysr*clight*clight)/(2*kboltzmann*freq_hz**2)\n",
    "\n",
    "# def calc_Tb(flux_jysr,freq_GHz,ba_sr):\n",
    "#     return 1.222e3 * (np.pi/(4*np.log(2))) * (flux_jysr/(ba_sr*freq_GHz*freq_GHz))\n",
    "\n",
    "def calc_Tb(flux_MJySr,wl_um):\n",
    "    return (1e-26*1e6*flux_MJySr*(1e-6*wl_um)**2)/(2*1.38e-23)\n",
    "\n"
   ]
  },
  {
   "cell_type": "code",
   "execution_count": 78,
   "metadata": {
    "collapsed": false
   },
   "outputs": [
    {
     "name": "stdout",
     "output_type": "stream",
     "text": [
      "0.6731335826304348\n"
     ]
    }
   ],
   "source": [
    "flux_MJySr = 6774\n",
    "ba_Sr = 3.51e-8\n",
    "# print(calc_Tb(flux_jysr,572.5,ba_sr))\n",
    "print(calc_Tb(flux_MJySr,523.7))"
   ]
  },
  {
   "cell_type": "code",
   "execution_count": 15,
   "metadata": {
    "collapsed": false
   },
   "outputs": [
    {
     "name": "stderr",
     "output_type": "stream",
     "text": [
      "WARNING: VerifyWarning: Invalid keyword for column 17: ASCII table null option (TNULLn) is longer than the column's character width and will be truncated (got '-32768'). [astropy.io.fits.column]\n",
      "WARNING: UnitsWarning: '\"h:m:s\"' did not parse as fits unit: Invalid character at col 0 [astropy.units.core]\n",
      "WARNING: UnitsWarning: '\"d:m:s\"' did not parse as fits unit: Invalid character at col 0 [astropy.units.core]\n"
     ]
    }
   ],
   "source": [
    "hco_tab = Table.read('/Users/hph/Documents/SOFIA_cycle8/asu.fit')"
   ]
  },
  {
   "cell_type": "code",
   "execution_count": 16,
   "metadata": {
    "collapsed": false
   },
   "outputs": [
    {
     "name": "stdout",
     "output_type": "stream",
     "text": [
      "80\n"
     ]
    }
   ],
   "source": [
    "inds = np.where(np.array(hco_tab['HCO'])==3)\n",
    "print(len(inds[0]))"
   ]
  },
  {
   "cell_type": "code",
   "execution_count": 17,
   "metadata": {
    "collapsed": false
   },
   "outputs": [
    {
     "name": "stdout",
     "output_type": "stream",
     "text": [
      "1363\n",
      "1377\n",
      "1398\n",
      "1412\n",
      "1421\n",
      "1466\n",
      "1491\n",
      "1518\n",
      "1521\n",
      "1584\n",
      "1659\n",
      "1780\n",
      "1796\n",
      "1803\n",
      "1833\n",
      "1869\n",
      "1943\n",
      "1956\n",
      "2019\n",
      "2072\n",
      "2081\n",
      "2097\n",
      "2153\n",
      "2165\n",
      "2175\n",
      "2314\n",
      "2382\n",
      "2388\n",
      "2561\n",
      "2971\n",
      "3018\n",
      "3116\n",
      "3184\n",
      "3202\n",
      "3210\n",
      "3284\n",
      "3313\n",
      "3322\n",
      "3383\n",
      "3507\n",
      "3594\n",
      "3767\n",
      "3777\n",
      "3807\n",
      "3829\n",
      "3913\n",
      "3938\n",
      "3998\n",
      "4055\n",
      "4152\n",
      "4472\n",
      "4509\n",
      "4518\n",
      "4526\n",
      "4527\n",
      "4539\n",
      "4547\n",
      "4560\n",
      "4916\n",
      "5120\n",
      "5252\n",
      "5341\n",
      "5414\n",
      "5433\n",
      "5530\n",
      "5641\n",
      "5700\n",
      "5798\n",
      "5850\n",
      "5926\n",
      "5960\n",
      "5973\n",
      "6116\n",
      "6159\n",
      "6313\n",
      "6909\n",
      "7235\n",
      "7364\n",
      "7380\n",
      "7493\n"
     ]
    }
   ],
   "source": [
    "hco_subtab = hco_tab[np.array(hco_tab['HCO'])==3]\n",
    "for i in range(80): print(hco_subtab['Seq'][i])"
   ]
  },
  {
   "cell_type": "code",
   "execution_count": 67,
   "metadata": {
    "collapsed": false
   },
   "outputs": [
    {
     "data": {
      "text/plain": [
       "523.6541484716157"
      ]
     },
     "execution_count": 67,
     "metadata": {},
     "output_type": "execute_result"
    }
   ],
   "source": [
    "(clight / 572.5e9)*1e6"
   ]
  },
  {
   "cell_type": "code",
   "execution_count": 73,
   "metadata": {
    "collapsed": false
   },
   "outputs": [
    {
     "name": "stdout",
     "output_type": "stream",
     "text": [
      " RAJ2000  \n",
      " \"h:m:s\"  \n",
      "----------\n",
      "18 47 41.4\n",
      "  DEJ2000  \n",
      "  \"d:m:s\"  \n",
      "-----------\n",
      "-02 00 20.7\n"
     ]
    }
   ],
   "source": [
    "cond = (hco_subtab['Seq']==4518)\n",
    "print(hco_subtab['RAJ2000'][cond])\n",
    "print(hco_subtab['DEJ2000'][cond])"
   ]
  },
  {
   "cell_type": "code",
   "execution_count": 45,
   "metadata": {
    "collapsed": false
   },
   "outputs": [
    {
     "data": {
      "text/plain": [
       "['recno',\n",
       " 'Seq',\n",
       " 'A',\n",
       " 'BGPS',\n",
       " 'RAJ2000',\n",
       " 'DEJ2000',\n",
       " 'Cat',\n",
       " 'HCO',\n",
       " 'vLSR',\n",
       " 'Tmb',\n",
       " 'e_Tmb',\n",
       " 'I',\n",
       " 'e_I',\n",
       " 'Delv',\n",
       " 'e_Delv',\n",
       " 'FWZI',\n",
       " 'pPap',\n",
       " 'Simbad']"
      ]
     },
     "execution_count": 45,
     "metadata": {},
     "output_type": "execute_result"
    }
   ],
   "source": [
    "hco_subtab.keys()"
   ]
  },
  {
   "cell_type": "code",
   "execution_count": 71,
   "metadata": {
    "collapsed": false
   },
   "outputs": [
    {
     "data": {
      "text/html": [
       "&lt;Table length=80&gt;\n",
       "<table id=\"table4692571080\" class=\"table-striped table-bordered table-condensed\">\n",
       "<thead><tr><th>recno</th><th>Seq</th><th>A</th><th>BGPS</th><th>RAJ2000</th><th>DEJ2000</th><th>Cat</th><th>HCO</th><th>vLSR</th><th>Tmb</th><th>e_Tmb</th><th>I</th><th>e_I</th><th>Delv</th><th>e_Delv</th><th>FWZI</th><th>pPap</th><th>Simbad</th></tr></thead>\n",
       "<thead><tr><th></th><th></th><th></th><th></th><th>&quot;h:m:s&quot;</th><th>&quot;d:m:s&quot;</th><th></th><th></th><th>km / s</th><th>K</th><th>K</th><th>K km / s</th><th>K km / s</th><th>km / s</th><th>km / s</th><th>km / s</th><th></th><th></th></tr></thead>\n",
       "<thead><tr><th>int32</th><th>int32</th><th>str1</th><th>str15</th><th>str10</th><th>str11</th><th>int32</th><th>int32</th><th>float64</th><th>float64</th><th>float64</th><th>float64</th><th>float64</th><th>float64</th><th>float64</th><th>float64</th><th>int32</th><th>str7</th></tr></thead>\n",
       "<tr><td>57</td><td>1363</td><td>*</td><td>G008.458-00.224</td><td>18 05 22.6</td><td>-21 44 43.9</td><td>2</td><td>3</td><td>36.4</td><td>1.486</td><td>0.075</td><td>9.273</td><td>0.338</td><td>0.0</td><td>0.0</td><td>9.0</td><td>1</td><td>Simbad</td></tr>\n",
       "<tr><td>71</td><td>1377</td><td>*</td><td>G008.670-00.356</td><td>18 06 19.1</td><td>-21 37 30.4</td><td>2</td><td>3</td><td>33.1</td><td>5.172</td><td>0.042</td><td>34.999</td><td>0.253</td><td>0.0</td><td>0.0</td><td>22.4</td><td>1</td><td>Simbad</td></tr>\n",
       "<tr><td>92</td><td>1398</td><td>*</td><td>G008.872-00.318</td><td>18 06 36.0</td><td>-21 25 48.9</td><td>2</td><td>3</td><td>40.9</td><td>0.362</td><td>0.053</td><td>2.83</td><td>0.208</td><td>0.0</td><td>0.0</td><td>9.0</td><td>1</td><td>Simbad</td></tr>\n",
       "<tr><td>106</td><td>1412</td><td>*</td><td>G009.212-00.202</td><td>18 06 52.6</td><td>-21 04 36.8</td><td>2</td><td>3</td><td>40.9</td><td>1.016</td><td>0.042</td><td>5.982</td><td>0.189</td><td>0.0</td><td>0.0</td><td>11.2</td><td>1</td><td>Simbad</td></tr>\n",
       "<tr><td>115</td><td>1421</td><td>*</td><td>G009.620+00.194</td><td>18 06 14.9</td><td>-20 31 39.2</td><td>2</td><td>3</td><td>6.2</td><td>7.393</td><td>0.03</td><td>52.18</td><td>0.187</td><td>0.0</td><td>0.0</td><td>30.3</td><td>1</td><td>Simbad</td></tr>\n",
       "<tr><td>160</td><td>1466</td><td>*</td><td>G010.214-00.324</td><td>18 09 24.6</td><td>-20 15 39.2</td><td>1</td><td>3</td><td>9.4</td><td>0.983</td><td>0.03</td><td>5.151</td><td>0.09</td><td>0.0</td><td>0.0</td><td>11.2</td><td>2</td><td>Simbad</td></tr>\n",
       "<tr><td>185</td><td>1491</td><td>*</td><td>G010.416-00.030</td><td>18 08 44.1</td><td>-19 56 28.6</td><td>2</td><td>3</td><td>67.8</td><td>0.24</td><td>0.037</td><td>1.088</td><td>0.134</td><td>0.0</td><td>0.0</td><td>4.5</td><td>1</td><td>Simbad</td></tr>\n",
       "<tr><td>212</td><td>1518</td><td>*</td><td>G010.681-00.028</td><td>18 09 16.2</td><td>-19 42 29.3</td><td>1</td><td>3</td><td>50.2</td><td>1.113</td><td>0.035</td><td>3.66</td><td>0.091</td><td>0.0</td><td>0.0</td><td>9.0</td><td>2</td><td>Simbad</td></tr>\n",
       "<tr><td>215</td><td>1521</td><td>*</td><td>G010.693-00.404</td><td>18 10 42.2</td><td>-19 52 49.1</td><td>1</td><td>3</td><td>25.9</td><td>0.271</td><td>0.037</td><td>0.565</td><td>0.055</td><td>0.0</td><td>0.0</td><td>2.3</td><td>1</td><td>Simbad</td></tr>\n",
       "<tr><td>...</td><td>...</td><td>...</td><td>...</td><td>...</td><td>...</td><td>...</td><td>...</td><td>...</td><td>...</td><td>...</td><td>...</td><td>...</td><td>...</td><td>...</td><td>...</td><td>...</td><td>...</td></tr>\n",
       "<tr><td>4654</td><td>5960</td><td>*</td><td>G038.959-00.468</td><td>19 04 07.7</td><td>+05 08 51.3</td><td>1</td><td>3</td><td>42.2</td><td>1.625</td><td>0.042</td><td>4.47</td><td>0.089</td><td>0.0</td><td>0.0</td><td>6.7</td><td>1</td><td>Simbad</td></tr>\n",
       "<tr><td>4667</td><td>5973</td><td>*</td><td>G039.267-00.589</td><td>19 05 08.1</td><td>+05 21 57.2</td><td>2</td><td>3</td><td>61.1</td><td>0.835</td><td>0.085</td><td>3.883</td><td>0.285</td><td>0.0</td><td>0.0</td><td>6.7</td><td>1</td><td>Simbad</td></tr>\n",
       "<tr><td>4810</td><td>6116</td><td>*</td><td>G043.121+00.033</td><td>19 10 03.7</td><td>+09 04 24.4</td><td>2</td><td>3</td><td>7.3</td><td>0.722</td><td>0.032</td><td>3.446</td><td>0.137</td><td>0.0</td><td>0.0</td><td>7.9</td><td>1</td><td>Simbad</td></tr>\n",
       "<tr><td>4853</td><td>6159</td><td>*</td><td>G044.661+00.351</td><td>19 11 48.3</td><td>+10 35 10.2</td><td>2</td><td>3</td><td>17.4</td><td>0.639</td><td>0.06</td><td>3.949</td><td>0.22</td><td>0.0</td><td>0.0</td><td>7.9</td><td>1</td><td>Simbad</td></tr>\n",
       "<tr><td>5007</td><td>6313</td><td>*</td><td>G049.210-00.342</td><td>19 23 00.4</td><td>+14 17 03.7</td><td>1</td><td>3</td><td>66.2</td><td>1.88</td><td>0.084</td><td>10.324</td><td>0.25</td><td>0.0</td><td>0.0</td><td>10.1</td><td>1</td><td>Simbad</td></tr>\n",
       "<tr><td>5603</td><td>6909</td><td>*</td><td>G081.721+00.572</td><td>20 39 00.1</td><td>+42 22 52.8</td><td>1</td><td>3</td><td>-3.2</td><td>7.916</td><td>0.079</td><td>45.489</td><td>0.266</td><td>0.0</td><td>0.0</td><td>22.4</td><td>1</td><td>Simbad</td></tr>\n",
       "<tr><td>5929</td><td>7235</td><td>*</td><td>G111.484+00.746</td><td>23 13 24.3</td><td>+61 25 12.5</td><td>1</td><td>3</td><td>-54.8</td><td>2.141</td><td>0.085</td><td>12.636</td><td>0.285</td><td>0.0</td><td>0.0</td><td>12.3</td><td>2</td><td>Simbad</td></tr>\n",
       "<tr><td>6058</td><td>7364</td><td>*</td><td>G133.748+01.197</td><td>02 25 53.4</td><td>+62 04 07.9</td><td>2</td><td>3</td><td>-39.8</td><td>4.249</td><td>0.035</td><td>22.951</td><td>0.15</td><td>0.0</td><td>0.0</td><td>15.7</td><td>1</td><td>Simbad</td></tr>\n",
       "<tr><td>6074</td><td>7380</td><td>*</td><td>G133.949+01.063</td><td>02 27 04.2</td><td>+61 52 19.3</td><td>2</td><td>3</td><td>-48.7</td><td>8.632</td><td>0.024</td><td>58.575</td><td>0.127</td><td>0.0</td><td>0.0</td><td>24.7</td><td>1</td><td>Simbad</td></tr>\n",
       "<tr><td>6173</td><td>7493</td><td>*</td><td>G189.990+00.353</td><td>06 09 03.4</td><td>+20 28 11.3</td><td>2</td><td>3</td><td>8.4</td><td>0.227</td><td>0.036</td><td>0.77</td><td>0.119</td><td>0.0</td><td>0.0</td><td>2.3</td><td>1</td><td>Simbad</td></tr>\n",
       "</table>"
      ],
      "text/plain": [
       "<Table length=80>\n",
       "recno  Seq   A         BGPS       RAJ2000   ...  e_Delv   FWZI   pPap  Simbad\n",
       "                                  \"h:m:s\"   ...  km / s  km / s              \n",
       "int32 int32 str1      str15        str10    ... float64 float64 int32   str7 \n",
       "----- ----- ---- --------------- ---------- ... ------- ------- ----- -------\n",
       "   57  1363    * G008.458-00.224 18 05 22.6 ...     0.0     9.0     1 Simbad\n",
       "   71  1377    * G008.670-00.356 18 06 19.1 ...     0.0    22.4     1 Simbad\n",
       "   92  1398    * G008.872-00.318 18 06 36.0 ...     0.0     9.0     1 Simbad\n",
       "  106  1412    * G009.212-00.202 18 06 52.6 ...     0.0    11.2     1 Simbad\n",
       "  115  1421    * G009.620+00.194 18 06 14.9 ...     0.0    30.3     1 Simbad\n",
       "  160  1466    * G010.214-00.324 18 09 24.6 ...     0.0    11.2     2 Simbad\n",
       "  185  1491    * G010.416-00.030 18 08 44.1 ...     0.0     4.5     1 Simbad\n",
       "  212  1518    * G010.681-00.028 18 09 16.2 ...     0.0     9.0     2 Simbad\n",
       "  215  1521    * G010.693-00.404 18 10 42.2 ...     0.0     2.3     1 Simbad\n",
       "  ...   ...  ...             ...        ... ...     ...     ...   ...     ...\n",
       " 4654  5960    * G038.959-00.468 19 04 07.7 ...     0.0     6.7     1 Simbad\n",
       " 4667  5973    * G039.267-00.589 19 05 08.1 ...     0.0     6.7     1 Simbad\n",
       " 4810  6116    * G043.121+00.033 19 10 03.7 ...     0.0     7.9     1 Simbad\n",
       " 4853  6159    * G044.661+00.351 19 11 48.3 ...     0.0     7.9     1 Simbad\n",
       " 5007  6313    * G049.210-00.342 19 23 00.4 ...     0.0    10.1     1 Simbad\n",
       " 5603  6909    * G081.721+00.572 20 39 00.1 ...     0.0    22.4     1 Simbad\n",
       " 5929  7235    * G111.484+00.746 23 13 24.3 ...     0.0    12.3     2 Simbad\n",
       " 6058  7364    * G133.748+01.197 02 25 53.4 ...     0.0    15.7     1 Simbad\n",
       " 6074  7380    * G133.949+01.063 02 27 04.2 ...     0.0    24.7     1 Simbad\n",
       " 6173  7493    * G189.990+00.353 06 09 03.4 ...     0.0     2.3     1 Simbad"
      ]
     },
     "execution_count": 71,
     "metadata": {},
     "output_type": "execute_result"
    }
   ],
   "source": [
    "hco_subtab"
   ]
  },
  {
   "cell_type": "code",
   "execution_count": null,
   "metadata": {
    "collapsed": true
   },
   "outputs": [],
   "source": []
  },
  {
   "cell_type": "code",
   "execution_count": null,
   "metadata": {
    "collapsed": true
   },
   "outputs": [],
   "source": []
  },
  {
   "cell_type": "code",
   "execution_count": null,
   "metadata": {
    "collapsed": true
   },
   "outputs": [],
   "source": []
  },
  {
   "cell_type": "code",
   "execution_count": null,
   "metadata": {
    "collapsed": true
   },
   "outputs": [],
   "source": []
  },
  {
   "cell_type": "code",
   "execution_count": null,
   "metadata": {
    "collapsed": true
   },
   "outputs": [],
   "source": []
  }
 ],
 "metadata": {
  "kernelspec": {
   "display_name": "Python 3",
   "language": "python",
   "name": "python3"
  },
  "language_info": {
   "codemirror_mode": {
    "name": "ipython",
    "version": 3
   },
   "file_extension": ".py",
   "mimetype": "text/x-python",
   "name": "python",
   "nbconvert_exporter": "python",
   "pygments_lexer": "ipython3",
   "version": "3.4.5"
  }
 },
 "nbformat": 4,
 "nbformat_minor": 2
}
