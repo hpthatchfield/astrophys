{
 "cells": [
  {
   "cell_type": "code",
   "execution_count": 1,
   "metadata": {},
   "outputs": [
    {
     "name": "stdout",
     "output_type": "stream",
     "text": [
      "1.16.5\n"
     ]
    }
   ],
   "source": [
    "from astropy.io import fits\n",
    "import numpy as np\n",
    "import matplotlib.pyplot as plt\n",
    "from astropy import units as u\n",
    "import astrodendro\n",
    "import os\n",
    "from astropy import wcs\n",
    "from astrodendro import Dendrogram, pp_catalog\n",
    "from astrodendro.analysis import PPStatistic\n",
    "from astropy.table import Table, hstack, Column\n",
    "from astropy.utils.console import ProgressBar\n",
    "import reproject\n",
    "import pyregion\n",
    "print(np.__version__)\n",
    "import aplpy\n",
    "from matplotlib import rc\n",
    "rc('font',**{'family':'sans-serif','sans-serif':['Helvetica']})\n",
    "## for Palatino and other serif fonts use:\n",
    "#rc('font',**{'family':'serif','serif':['Palatino']})\n",
    "rc('text', usetex=True)"
   ]
  },
  {
   "cell_type": "code",
   "execution_count": 21,
   "metadata": {},
   "outputs": [],
   "source": [
    "distance        = 8150. # distance to GC; Reid et al. 2014\n",
    "#Temp            = 20.0\n",
    "Wave            = (3.0e8/226.0e9)\n",
    "Wave0           = 1.3e-3\n",
    "k0              = 0.899\n",
    "nu              = 3.e08/Wave\n",
    "nu0             = 3.e08/Wave0\n",
    "beta            = 1.75\n",
    "Kappag2d        = k0*((nu/nu0)**beta)\n",
    "g2d             = 100.0\n",
    "Kappa           = Kappag2d / g2d\n",
    "mu              = 2.8 # express everything in H2\n",
    "\n",
    "dustTemp = 20\n",
    "\n",
    "# Constants\n",
    "cmzdist = 8150\n",
    "G = 6.67408e-11\n",
    "msun = 1.989e33\n",
    "mh = 1.6737236e-27\n",
    "pc2cm = 3.08567758e18\n",
    "as2persr = 4.25e10 \n",
    "percm2perm = 1.0e6\n",
    "JyperSr_to_JyperPix = (3.0462*(10**-4))*((0.00013888888888)**2)\n",
    "JyperSr_to_Jyperassqr = ((np.pi*180.)**(-2))*(3600**(-1))\n",
    "hplanck = 6.63e-34\n",
    "clight = 2.99792e8\n",
    "kboltzmann = 1.381e-23\n",
    "sin1yr = 3.15569e7\n",
    "arcsec2pc = distance/((360./(2.*np.pi))*60.*60.)"
   ]
  },
  {
   "cell_type": "code",
   "execution_count": 22,
   "metadata": {},
   "outputs": [
    {
     "name": "stdout",
     "output_type": "stream",
     "text": [
      "(834, 2226)\n"
     ]
    }
   ],
   "source": [
    "#################################\n",
    "### load in column density map\n",
    "#################################\n",
    "path = os.path.expanduser('/Users/hph/cmzoom_catalog/catalog_acc/')\n",
    "column_file = os.path.join(path, 'column_properunits_conv36_source_only.fits')\n",
    "column_fh = fits.open(column_file)\n",
    "N_data = column_fh[0].data\n",
    "print(N_data.shape)"
   ]
  },
  {
   "cell_type": "code",
   "execution_count": 23,
   "metadata": {},
   "outputs": [
    {
     "name": "stdout",
     "output_type": "stream",
     "text": [
      "0.4544093802141791 0.45481801242991077\n",
      "1.4023073473409567e+18 1.4023073473409567e+18\n",
      "1.9664658964064305e+36\n"
     ]
    }
   ],
   "source": [
    "#################################\n",
    "### get pixel size in cm^2\n",
    "#################################\n",
    "pixw,pixh = column_fh[0].header['CDELT1'],column_fh[0].header['CDELT2']\n",
    "pixw_pc,pixh_pc = -1*cmzdist*(pixw*2.*np.pi/360.),cmzdist*(pixh*2.*np.pi/360.)\n",
    "pixw_cm,pixh_cm = 3.086e+18*pixw_pc,3.086e+18*pixw_pc\n",
    "print(pixw_pc,pixh_pc)\n",
    "print(pixw_cm,pixh_cm)\n",
    "pix_area_cm2 = pixw_cm*pixh_cm\n",
    "print(pix_area_cm2)"
   ]
  },
  {
   "cell_type": "code",
   "execution_count": 28,
   "metadata": {},
   "outputs": [
    {
     "name": "stdout",
     "output_type": "stream",
     "text": [
      "765 1460\n",
      "163375.07799041813\n",
      "7.373855362374543e+32\n"
     ]
    }
   ],
   "source": [
    "########################################\n",
    "### set glon bounds in terms of pixels\n",
    "########################################\n",
    "colwcs = wcs.WCS(column_fh[0].header)\n",
    "glonradius = 1.109\n",
    "glon_low = int(np.rint(colwcs.wcs_world2pix(glonradius, 0, 0)[0]))\n",
    "glon_high = int(np.rint(colwcs.wcs_world2pix(-glonradius, 0, 0)[0]))\n",
    "glatmin,glatmax = -0.6,0.6\n",
    "radius_pc = (8300*(glonradius*2.*np.pi/360.))\n",
    "area_pc2 = (glatmax-glatmin)*2*np.pi*radius_pc + 2*np.pi*radius_pc**2\n",
    "print(glon_low,glon_high)\n",
    "print(area_pc2)\n",
    "\n",
    "dist_err = (glonradius*2*np.pi/360)*cmzdist\n",
    "pixw_err_pc, pixh_err_pc  = np.abs(dist_err*(pixw*2.*np.pi/360.)), np.abs(dist_err*(pixh*2.*np.pi/360.))\n",
    "pixw_err_cm, pixh_err_cm = pixw_err_pc*3.086e+18, pixh_err_pc*3.086e+18\n",
    "pix_area_err_cm2 = pixw_err_cm*pixh_err_cm\n",
    "print(pix_area_err_cm2)"
   ]
  },
  {
   "cell_type": "code",
   "execution_count": 29,
   "metadata": {},
   "outputs": [
    {
     "name": "stdout",
     "output_type": "stream",
     "text": [
      "6.925561966721317e+63\n"
     ]
    }
   ],
   "source": [
    "###########################################\n",
    "### choose N density cutoff and sum pixels\n",
    "###########################################\n",
    "cutoff = 0#1e22\n",
    "submap = N_data[:,glon_low:glon_high]\n",
    "submap[np.isnan(submap)]=0\n",
    "cond = submap>cutoff\n",
    "condpix = submap[cond] ### select only the matching pixels\n",
    "particlenum = np.sum(condpix)*pix_area_cm2 ### find matching area in cm^2 and multiply by\n",
    "particlenum_err = np.sum(condpix)*pix_area_err_cm2\n",
    "print(particlenum)"
   ]
  },
  {
   "cell_type": "code",
   "execution_count": 30,
   "metadata": {},
   "outputs": [
    {
     "name": "stdout",
     "output_type": "stream",
     "text": [
      "The mass of gas above 0.00e+00 cm^-2 within the innermost 1.109 deg is 1.63e+07 +/- 6.12e+03 msun\n"
     ]
    }
   ],
   "source": [
    "#################################\n",
    "### convert to CMZ mass\n",
    "#################################\n",
    "msun_per_particle = mu*mh/1.989e30\n",
    "cmzmass_msun = particlenum*msun_per_particle\n",
    "cmzmass_err_msun = particlenum_err*msun_per_particle\n",
    "print(\"The mass of gas above %1.2e cm^-2 within the innermost %1.3f deg is %2.2e +/- %2.2e msun\"\\\n",
    "      %(cutoff,glonradius,cmzmass_msun,cmzmass_err_msun))"
   ]
  },
  {
   "cell_type": "code",
   "execution_count": 32,
   "metadata": {},
   "outputs": [
    {
     "name": "stdout",
     "output_type": "stream",
     "text": [
      "1.0545235493205336\n",
      "0.3453670066474904\n"
     ]
    }
   ],
   "source": [
    "###########################################\n",
    "### find relevant angular distance in cmz\n",
    "###########################################\n",
    "print(150.*360./(cmzdist*2*np.pi))\n",
    "print(150.*360./(2*np.pi*dist_err**2))\n"
   ]
  },
  {
   "cell_type": "code",
   "execution_count": 20,
   "metadata": {},
   "outputs": [
    {
     "name": "stdout",
     "output_type": "stream",
     "text": [
      "The surface density of gas above 0.00e+00 cm^-2 within the innermost 1.109 deg is 1.04e+02 +/- 3.88e-02 msun pc^-2\n"
     ]
    }
   ],
   "source": [
    "##########################################\n",
    "### convert to CMZ C&D surface density\n",
    "##########################################\n",
    "sigma = cmzmass_msun/area_pc2\n",
    "sigma_err = cmzmass_err_msun/area_pc2\n",
    "print(\"The surface density of gas above %1.2e cm^-2 within the innermost %1.3f deg is %2.2e +/- %2.2e msun pc^-2\"\\\n",
    "      %(cutoff,glonradius,sigma,sigma_err))\n",
    "\n"
   ]
  },
  {
   "cell_type": "code",
   "execution_count": null,
   "metadata": {},
   "outputs": [],
   "source": []
  },
  {
   "cell_type": "code",
   "execution_count": null,
   "metadata": {},
   "outputs": [],
   "source": []
  },
  {
   "cell_type": "code",
   "execution_count": null,
   "metadata": {},
   "outputs": [],
   "source": []
  },
  {
   "cell_type": "code",
   "execution_count": null,
   "metadata": {},
   "outputs": [],
   "source": []
  }
 ],
 "metadata": {
  "kernelspec": {
   "display_name": "Python 3",
   "language": "python",
   "name": "python3"
  },
  "language_info": {
   "codemirror_mode": {
    "name": "ipython",
    "version": 3
   },
   "file_extension": ".py",
   "mimetype": "text/x-python",
   "name": "python",
   "nbconvert_exporter": "python",
   "pygments_lexer": "ipython3",
   "version": "3.6.10"
  }
 },
 "nbformat": 4,
 "nbformat_minor": 2
}
