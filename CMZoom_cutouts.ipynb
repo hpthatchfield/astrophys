{
 "cells": [
  {
   "cell_type": "code",
   "execution_count": 2,
   "metadata": {},
   "outputs": [],
   "source": [
    "import sys\n",
    "sys.path.append('/Users/hph/current_fits/cutout_figures/')\n",
    "path = '/Users/hph/current_fits/cutout_figures/'\n",
    "import numpy as np\n",
    "import matplotlib.pyplot as plt\n",
    "import aplpy\n",
    "from astropy.io import fits\n",
    "from astropy import wcs\n",
    "import warnings\n",
    "#import regions\n",
    "import pyregion\n",
    "from astropy.utils.console import ProgressBar"
   ]
  },
  {
   "cell_type": "code",
   "execution_count": null,
   "metadata": {},
   "outputs": [],
   "source": [
    "def cutout(inputfile, xcenter, ycenter, width, height, cdelt = '', ranges = False, outfile = ''):\n",
    "\n",
    "    ### This function creates a new fits file based on rectangular region information.\n",
    "    ### xcenter, ycenter are the centers of the region in galactic longitude and latitude in degrees\n",
    "    ### width and height are similarly longitude and latitude measurements in degrees\n",
    "    \n",
    "    path = '/Users/hph/cmzoom_catalog/catalog_acc/cutouts/'\n",
    "    w = wcs.WCS(path+inputfile).celestial\n",
    "    data, header = fits.getdata(path+inputfile, header = True)\n",
    "        \n",
    "    #if (header['CRVAL1'] != 0) or (header['CRVAL2'] != 0):\n",
    "    #    raise ValueError('\\nThe input CRVAL is not 0!\\n')\n",
    "    \n",
    "\n",
    "    centre_x, centre_y = w.wcs_world2pix(xcenter, ycenter, 1)\n",
    "    #print centre_x\n",
    "    #print centre_y\n",
    "\n",
    "    centre_x = int(centre_x)\n",
    "    centre_y = int(centre_y)\n",
    "    \n",
    "    \n",
    "    if cdelt == '':\n",
    "        cdelt = np.mean( [np.absolute(header['CDELT1']), np.absolute(header['CDELT2'])] )\n",
    "    cdelt = cdelt\n",
    "        \n",
    "        \n",
    "    size_pixels_x = int(np.rint((width / 2.) / cdelt))\n",
    "    size_pixels_y = int(np.rint((height / 2.) / cdelt))\n",
    "\n",
    "    \n",
    "    delta_y = np.array([centre_x - size_pixels_x, centre_x + size_pixels_x], dtype = int)\n",
    "    delta_x = np.array([centre_y - size_pixels_y, centre_y + size_pixels_y], dtype = int)\n",
    "    \n",
    "    centre_x_new, centre_y_new  = w.wcs_pix2world( delta_y[0], delta_x[0], 1)\n",
    "        \n",
    "    data_cutout = data[ delta_x[0]: delta_x[1], delta_y[0]: delta_y[1] ]\n",
    "\n",
    "    centre_x = ((delta_x[1] - delta_x[0]) / 2.) + delta_x[0]\n",
    "    centre_y = ((delta_y[1] - delta_y[0]) / 2.) + delta_y[0]\n",
    "\n",
    "    # centre_x_new, centre_y_new  = ((delta_x[1] - delta_x[0]) / 2.), ((delta_y[1] - delta_y[0]) / 2.)\n",
    "    # centre_x_new_world, centre_y_new_world, velo  = w.wcs_pix2world(centre_y, centre_x, 0, 1)\n",
    "\n",
    "    centre_x_new, centre_y_new = (header['CRPIX1'] - delta_y[0]), (header['CRPIX2'] - delta_x[0])\n",
    "\n",
    "    if ranges: \n",
    "    \n",
    "        stats = [np.nanmin(data_cutout), np.nanmax(data_cutout)]\n",
    "        return stats\n",
    "    \n",
    "    if outfile != '':\n",
    "        \n",
    "        del header[29:72]\n",
    "        del header['PC*']\n",
    "        \n",
    "        header['CRPIX1'] = size_pixels_x #float(centre_y) #_new\n",
    "        header['CRPIX2'] = size_pixels_y #float(centre_x) #_new \n",
    "        header['CRVAL1'] = xcenter #float(centre_y_new_world) \n",
    "        header['CRVAL2'] = ycenter #float(centre_x_new_world)\n",
    "    \n",
    "        fits.writeto(path+outfile, data = data_cutout, header = header, overwrite = True)\n",
    "        \n",
    "\n",
    "\n",
    "def make_single(inputfits, outputfile, xcenter, ycenter, label, vmin=-1.14125e08, vmax =2.07402e+08, gamma=1.8):\n",
    "    \n",
    "    path = '/Users/hph/cmzoom_catalog/catalog_acc/cutouts/'\n",
    "    \n",
    "    fg_color='white'\n",
    "    bg_color='black'\n",
    "    fig = plt.figure(figsize=(5, 5))#,facecolor=bg_color, edgecolor=fg_color)\n",
    "    subplot = aplpy.FITSFigure(inputfits, figure = fig, convention='calabretta')\n",
    "    subplot.show_colorscale(vmin=vmin, vmax=vmax, stretch='power',exponent=gamma,cmap='inferno')\n",
    "    subplot.set_nan_color(bg_color)\n",
    "    subplot.ticks.set_xspacing(0.02)\n",
    "    subplot.ticks.set_yspacing(0.02)\n",
    "    subplot.ticks.set_color('black')\n",
    "    subplot.tick_labels.set_xformat('d.dd')\n",
    "    subplot.tick_labels.set_yformat('d.dd')\n",
    "    subplot.add_label(0.35, 0.95, str(label), relative = True, weight = 'bold', size = 10, color = 'black')\n",
    "\n",
    "    subplot.show_contour(path+'dendrogram_mask_pruned_rms1e7_dv3_dd1_dp50_pp6_pm2_gal_5-28-19.fits',\n",
    "                         colors = 'white', levels = [0.0,1.0], linewidths = 0.7,\n",
    "                         convention = 'calabretta', zorder = 10, linestyle = 'solid')\n",
    "    subplot.axis_labels.set_xtext('Galactic Longitude (degrees)')\n",
    "    subplot.axis_labels.set_ytext('Galactic Latitude (degrees)')\n",
    "    subplot.ticks.show()\n",
    "    subplot.add_scalebar(length=24./3600.)\n",
    "    subplot.scalebar.set_label('1 pc')\n",
    "    subplot.scalebar.set_color('white')\n",
    "    #fig.tight_layout()\n",
    "    fig.savefig(outputfile)\n",
    "    plt.show()\n",
    "    #plt.close('all')\n",
    "    \n"
   ]
  },
  {
   "cell_type": "code",
   "execution_count": null,
   "metadata": {},
   "outputs": [],
   "source": []
  },
  {
   "cell_type": "code",
   "execution_count": null,
   "metadata": {},
   "outputs": [],
   "source": [
    "###################################################\n",
    "### single use cutout:\n",
    "###################################################\n",
    "cutout('Continuum_mosaic_current_no_sgra_no_IHMSFR.fits', \n",
    "       0.3781046312, 0.04874423644, \n",
    "       0.1336001, 0.0728000, \n",
    "       outfile = 'dustridge_BCD.fits')\n"
   ]
  },
  {
   "cell_type": "code",
   "execution_count": null,
   "metadata": {},
   "outputs": [],
   "source": [
    "###################################################\n",
    "### single use postage figure:\n",
    "###################################################\n",
    "make_single(inputfits = path+'dustridge_BCD.fits',outputfile=path+'dustridge_BCD.pdf', \n",
    "            xcenter = 0.3781046312, ycenter = 0.04874423644, \n",
    "            label = 'Dust Ridge cloud B, C, and D')"
   ]
  },
  {
   "cell_type": "code",
   "execution_count": null,
   "metadata": {},
   "outputs": [],
   "source": []
  },
  {
   "cell_type": "code",
   "execution_count": null,
   "metadata": {},
   "outputs": [],
   "source": [
    "###################################################\n",
    "### Load list of pyregions to cutout\n",
    "###################################################\n",
    "reglist = pyregion.open(path+'postage.reg')"
   ]
  },
  {
   "cell_type": "code",
   "execution_count": null,
   "metadata": {},
   "outputs": [],
   "source": [
    "###################################################\n",
    "### Generate cutout fits files for each region\n",
    "###################################################\n",
    "for reg_i in range(len(reglist)):\n",
    "    reg = reglist[reg_i]\n",
    "    cutout(inputfile='CMZoom_continuum_mosaic_without_sgra_pb_corrected_new.fits',\n",
    "           xcenter = reg.coord_list[0], ycenter = reg.coord_list[1],\n",
    "           width = reg.coord_list[2], height = reg.coord_list[3],\n",
    "           outfile = \"cutout_\"+str(reg_i)+\".fits\")"
   ]
  },
  {
   "cell_type": "code",
   "execution_count": null,
   "metadata": {},
   "outputs": [],
   "source": [
    "###################################################\n",
    "### Generate postazge figure for each region\n",
    "###################################################\n",
    "for reg_i in range(len(reglist)):\n",
    "    make_single(inputfits = path+'cutout_'+str(reg_i)+'.fits',outputfile=path+'cutout_'+str(reg_i)+'.pdf', \n",
    "                    xcenter = reg.coord_list[0], ycenter = reg.coord_list[1], \n",
    "                    label = '',gamma=gamma_arr[reg_i],vmax =vmax_arr[reg_i])\n",
    "    plt.close()"
   ]
  },
  {
   "cell_type": "code",
   "execution_count": null,
   "metadata": {},
   "outputs": [],
   "source": []
  },
  {
   "cell_type": "code",
   "execution_count": null,
   "metadata": {},
   "outputs": [],
   "source": []
  },
  {
   "cell_type": "code",
   "execution_count": null,
   "metadata": {},
   "outputs": [],
   "source": []
  }
 ],
 "metadata": {
  "kernelspec": {
   "display_name": "Python 3",
   "language": "python",
   "name": "python3"
  },
  "language_info": {
   "codemirror_mode": {
    "name": "ipython",
    "version": 3
   },
   "file_extension": ".py",
   "mimetype": "text/x-python",
   "name": "python",
   "nbconvert_exporter": "python",
   "pygments_lexer": "ipython3",
   "version": "3.6.9"
  }
 },
 "nbformat": 4,
 "nbformat_minor": 2
}
