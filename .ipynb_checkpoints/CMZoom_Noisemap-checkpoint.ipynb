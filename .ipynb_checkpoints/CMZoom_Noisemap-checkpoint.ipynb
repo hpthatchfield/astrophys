{
 "cells": [
  {
   "cell_type": "code",
   "execution_count": 1,
   "metadata": {},
   "outputs": [
    {
     "name": "stdout",
     "output_type": "stream",
     "text": [
      "(379, 301)\n",
      "starting first fft...\n"
     ]
    },
    {
     "name": "stderr",
     "output_type": "stream",
     "text": [
      "WARNING: psf_pad was set to False, which overrides the boundary='fill' setting. [astropy.convolution.convolve]\n"
     ]
    },
    {
     "name": "stdout",
     "output_type": "stream",
     "text": [
      "starting second fft...\n",
      "fft complete!\n",
      "Noise map written!\n",
      "complete\n"
     ]
    }
   ],
   "source": [
    "#!/usr/bin/env python2\n",
    "# -*- coding: utf-8 -*-\n",
    "\"\"\"\n",
    "Created on Wed Nov  8 17:51:26 2017\n",
    "\n",
    "@author: hph\n",
    "\"\"\"\n",
    "\n",
    "from astropy.io import fits\n",
    "import numpy as np\n",
    "from astropy.convolution import convolve_fft, Gaussian2DKernel\n",
    "import math\n",
    "import matplotlib.pyplot as plt\n",
    "\n",
    "\n",
    "# Process residuals into a noise map\n",
    "residfile = fits.open('/Users/hph/cmzoom_catalog/pbcor_residual_testing/G0.412+0.052.cont.tclean.automultithresh.newthreshold.split2.avg.residual.pbcorrected.fits')\n",
    "#resid = residfile[0].data[0][0][:][:]\n",
    "imagelength = residfile[0].data[:][:].size\n",
    "resid = residfile[0].data[:][:]\n",
    "resid_mask = resid\n",
    "print resid_mask.shape\n",
    "'''\n",
    "for i in range(len(resid_mask[0][:])):\n",
    "    for j in range(len(resid_mask[:][0])):\n",
    "        if math.isnan(resid_mask[j][i]):\n",
    "            resid_mask[j][i] = 0\n",
    "        else:\n",
    "            resid_mask[j][i] = 1\n",
    "'''\n",
    "#plt.imshow(resid_mask)\n",
    "print \"starting first fft...\"\n",
    "smresid = convolve_fft(np.nan_to_num(resid), Gaussian2DKernel(40), psf_pad=False, fft_pad=False, allow_huge=True)\n",
    "#resid[np.isnan(resid)] = 10**9  #make the noise outside very high\n",
    "noise_object = (resid-smresid)**2\n",
    "print \"starting second fft...\"\n",
    "noise_sqr = convolve_fft(noise_object,  Gaussian2DKernel(40), psf_pad=False, fft_pad=False, allow_huge=True)\n",
    "print \"fft complete!\"\n",
    "noise =noise_sqr**0.5\n",
    "noise[~np.isfinite(resid)] = np.nan\n",
    "residfile[0].data = noise\n",
    "residfile.writeto('/Users/hph/cmzoom_catalog/pbcor_residual_testing/CMZoom_G0.412+0.052_JySr_k20_5-20-19.fits', overwrite=True)\n",
    "print \"Noise map written!\"\n",
    "\n",
    "'''\n",
    "for filename in os.listdir('/Users/hph/current_fits/Residuals/residual_new_units/'):\n",
    "    if filename.endswith('.fits'):\n",
    "        # Process residuals into a noise map\n",
    "        residfile = fits.open('/Users/hph/current_fits/Residuals/residual_new_units/'+filename)\n",
    "        print filename\n",
    "        #resid = residfile[0].data[0][0][:][:]\n",
    "        resid = residfile[0].data[:][:]\n",
    "        #smresid = convolve_fft(np.nan_to_num(resid), Gaussian2DKernel(30), allow_huge=True)\n",
    "        smresid = convolve(np.nan_to_num(resid), Gaussian2DKernel(30))\n",
    "        resid[np.isnan(resid)] = 10**11 # make the noise outside very high\n",
    "        noise = convolve_fft((resid-smresid)**2,  Gaussian2DKernel(30), psf_pad=False, fft_pad=False)**0.5\n",
    "        residfile[0].data = noise\n",
    "        residfile.writeto('/Users/hph/current_fits/Residuals/noisemaps/'+filename+'_noisemap.fits', overwrite=True)\n",
    "        print \"Noise map written!\"\n",
    "    '''\n",
    "\n",
    "\n",
    "\n",
    "print \"complete\"\n"
   ]
  },
  {
   "cell_type": "code",
   "execution_count": null,
   "metadata": {
    "collapsed": true
   },
   "outputs": [],
   "source": []
  }
 ],
 "metadata": {
  "kernelspec": {
   "display_name": "Python 2",
   "language": "python",
   "name": "python2"
  },
  "language_info": {
   "codemirror_mode": {
    "name": "ipython",
    "version": 2
   },
   "file_extension": ".py",
   "mimetype": "text/x-python",
   "name": "python",
   "nbconvert_exporter": "python",
   "pygments_lexer": "ipython2",
   "version": "2.7.6"
  }
 },
 "nbformat": 4,
 "nbformat_minor": 2
}
