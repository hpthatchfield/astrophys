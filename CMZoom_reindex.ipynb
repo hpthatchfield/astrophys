{
 "cells": [
  {
   "cell_type": "code",
   "execution_count": 13,
   "metadata": {},
   "outputs": [
    {
     "name": "stdout",
     "output_type": "stream",
     "text": [
      "1.16.5\n"
     ]
    }
   ],
   "source": [
    "from astropy.io import fits\n",
    "import numpy as np\n",
    "import matplotlib.pyplot as plt\n",
    "from astropy import units as u\n",
    "import astrodendro\n",
    "import os\n",
    "from astropy import wcs\n",
    "from astrodendro import Dendrogram, pp_catalog\n",
    "from astrodendro.analysis import PPStatistic\n",
    "from astropy.table import Table, hstack, Column\n",
    "from astropy.utils.console import ProgressBar\n",
    "import reproject\n",
    "import pyregion\n",
    "print(np.__version__)"
   ]
  },
  {
   "cell_type": "code",
   "execution_count": 14,
   "metadata": {},
   "outputs": [],
   "source": [
    "path = '/Users/hph/cmzoom_catalog/catalog_acc/'\n",
    "targetid='_rms3e6_k14_dv3_dd1_dp17_pp6_pm2_gal_10-23-19.fits'\n",
    "rtable = Table.read(path+'master_tab'+targetid)\n",
    "region_mask = fits.open('/Users/hph/cmzoom_catalog/Continuum/CMZoom_Mask_new.fits')\n",
    "mask_data = region_mask[0].data"
   ]
  },
  {
   "cell_type": "code",
   "execution_count": 3,
   "metadata": {},
   "outputs": [],
   "source": [
    "rtable.add_column(np.zeros_like(rtable['mass'],dtype='str'), name='leaf_ID')"
   ]
  },
  {
   "cell_type": "code",
   "execution_count": 4,
   "metadata": {},
   "outputs": [],
   "source": [
    "names = np.array(['G1.683-0.089', \n",
    "                      'G1.670-0.130', \n",
    "                      'G1.651-0.050', \n",
    "                      'G1.602+0.018',\n",
    "                      'G1.127-0.106',\n",
    "                      'G1.085-0.027', \n",
    "                      'G1.038-0.074', \n",
    "                      'G0.891-0.048',\n",
    "                      'G0.714-0.100',\n",
    "                      'G0.699-0.028',\n",
    "                      'G0.619+0.012',\n",
    "                      'G0.489+0.010',\n",
    "                      'G0.412+0.052',\n",
    "                      'G0.393-0.034',\n",
    "                      'G0.380+0.050',\n",
    "                      'G0.340+0.055',\n",
    "                      'G0.326-0.085',\n",
    "                      'G0.316-0.201',\n",
    "                      'G0.253+0.016',\n",
    "                      'G0.212-0.001',\n",
    "                      'G0.145-0.086',\n",
    "                      'G0.106-0.082',\n",
    "                      'G0.070-0.035',\n",
    "                      'G0.068-0.075',\n",
    "                      'G0.054+0.027',\n",
    "                      'G0.014+0.021',\n",
    "                      'G0.001-0.058',\n",
    "                      'G359.948-0.052',\n",
    "                      'G359.889-0.093',\n",
    "                      'G359.865+0.022',\n",
    "                      'G359.863-0.069',\n",
    "                      'G359.734+0.002',\n",
    "                      'G359.648-0.133',\n",
    "                      'G359.611+0.018',\n",
    "                      'G359.615-0.243',\n",
    "                      'G359.484-0.132',\n",
    "                      'G359.137+0.031'])"
   ]
  },
  {
   "cell_type": "code",
   "execution_count": 5,
   "metadata": {},
   "outputs": [],
   "source": [
    "w = wcs.WCS(path+'CMZoom_continuum_pbcor.fits').celestial\n",
    "\n",
    "xglon = w.wcs_world2pix(rtable['glon'],rtable['glat'],0)[0]\n",
    "yglat = w.wcs_world2pix(rtable['glon'],rtable['glat'],0)[1]"
   ]
  },
  {
   "cell_type": "code",
   "execution_count": 7,
   "metadata": {},
   "outputs": [],
   "source": [
    "abc = ['a','b','c','d','e','f','g','h','i','j','k','l','m','n',\n",
    "       'o','p','q','r','s','t','u','v','w','x','y','z','za','zb',\n",
    "       'zc','zd','ze','zf','zg','zh','zi','zj','zk','zl','zm','zn','zo','zp']"
   ]
  },
  {
   "cell_type": "code",
   "execution_count": 8,
   "metadata": {},
   "outputs": [],
   "source": [
    "problem_list=np.empty(0)\n",
    "cloud_id = np.empty(len(rtable['mass']),dtype=object)\n",
    "for i in range(len(cloud_id)):\n",
    "    cnum = int(mask_data[int(yglat[i])][int(xglon[i])])\n",
    "    if(cnum==1000):\n",
    "          np.append(problem_list,i)\n",
    "    else:    \n",
    "        cloud_id[i]=str(names[int(mask_data[int(yglat[i])][int(xglon[i])])-1])\n",
    "### handle special case:\n",
    "cloud_id[36]=names[0]\n",
    "\n",
    "leaf_ID = cloud_id.copy()\n",
    "### append mass ordered label\n",
    "for i in range(len(cloud_id)):\n",
    "    cmasses=np.flip(np.sort(rtable['mass'][np.where(cloud_id==cloud_id[i])]))\n",
    "    leaf_ID[i]=cloud_id[i]+abc[np.where(cmasses==rtable['mass'][i])[0][0]]"
   ]
  },
  {
   "cell_type": "code",
   "execution_count": null,
   "metadata": {},
   "outputs": [],
   "source": []
  },
  {
   "cell_type": "code",
   "execution_count": null,
   "metadata": {},
   "outputs": [],
   "source": [
    "\n"
   ]
  },
  {
   "cell_type": "code",
   "execution_count": 10,
   "metadata": {},
   "outputs": [],
   "source": [
    "rtable['leaf_ID']=leaf_ID.copy().astype(str)\n"
   ]
  },
  {
   "cell_type": "code",
   "execution_count": 12,
   "metadata": {},
   "outputs": [],
   "source": [
    "rtable.write('/Users/hph/cmzoom_catalog/catalog_acc/catalog_acc.fits', \n",
    "             format='fits', overwrite=True)"
   ]
  },
  {
   "cell_type": "code",
   "execution_count": null,
   "metadata": {},
   "outputs": [],
   "source": []
  },
  {
   "cell_type": "code",
   "execution_count": null,
   "metadata": {},
   "outputs": [],
   "source": []
  },
  {
   "cell_type": "code",
   "execution_count": null,
   "metadata": {},
   "outputs": [],
   "source": []
  },
  {
   "cell_type": "code",
   "execution_count": null,
   "metadata": {},
   "outputs": [],
   "source": []
  },
  {
   "cell_type": "code",
   "execution_count": null,
   "metadata": {},
   "outputs": [],
   "source": []
  },
  {
   "cell_type": "code",
   "execution_count": null,
   "metadata": {},
   "outputs": [],
   "source": []
  },
  {
   "cell_type": "code",
   "execution_count": null,
   "metadata": {},
   "outputs": [],
   "source": []
  },
  {
   "cell_type": "code",
   "execution_count": null,
   "metadata": {},
   "outputs": [],
   "source": []
  }
 ],
 "metadata": {
  "kernelspec": {
   "display_name": "Python 3",
   "language": "python",
   "name": "python3"
  },
  "language_info": {
   "codemirror_mode": {
    "name": "ipython",
    "version": 3
   },
   "file_extension": ".py",
   "mimetype": "text/x-python",
   "name": "python",
   "nbconvert_exporter": "python",
   "pygments_lexer": "ipython3",
   "version": "3.6.9"
  }
 },
 "nbformat": 4,
 "nbformat_minor": 2
}
